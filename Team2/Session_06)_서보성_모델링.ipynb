{
 "cells": [
  {
   "cell_type": "markdown",
   "metadata": {
    "id": "vfjUL0DKgSRj"
   },
   "source": [
    "## 환경 설정"
   ]
  },
  {
   "cell_type": "code",
   "execution_count": 1,
   "metadata": {
    "id": "3O5XJS1HhOcS"
   },
   "outputs": [],
   "source": [
    "import numpy as np\n",
    "import pandas as pd\n",
    "import matplotlib.pyplot as plt \n",
    "import seaborn as sns \n",
    "import sys\n",
    "\n",
    "#경고창이 뜨지 않도록 해주는 것\n",
    "import warnings\n",
    "warnings.filterwarnings('ignore')\n",
    "\n",
    "# notebook을 실행한 브라우저에서 바로 그림을 볼 수 있게 해주는 것\n",
    "%matplotlib inline "
   ]
  },
  {
   "cell_type": "markdown",
   "metadata": {
    "id": "T4mYn3fehOcZ"
   },
   "source": [
    "**주피터 노트북에서 시각화할때, matplotlib가 한글 폰트 지원하지 않아, 깨짐 처리해줘야 함**"
   ]
  },
  {
   "cell_type": "code",
   "execution_count": 2,
   "metadata": {
    "id": "yMx2NCl4hOcZ"
   },
   "outputs": [],
   "source": [
    "import platform                \n",
    "\n",
    "from matplotlib import font_manager, rc\n",
    "plt.rcParams['axes.unicode_minus']= False\n",
    "\n",
    "if platform.system() == 'Darwin': #맥os 사용자의 경우에\n",
    "    plt.style.use('seaborn-darkgrid') \n",
    "    rc('font', family = 'AppleGothic')\n",
    "    \n",
    "elif platform.system() == 'Windows':#윈도우 사용자의 경우에\n",
    "    path = 'c:/Windows/Fonts/malgun.ttf'\n",
    "    font_name = font_manager.FontProperties(fname=path).get_name()\n",
    "    plt.style.use('seaborn-darkgrid') # https://python-graph-gallery.com/199-matplotlib-style-sheets/\n",
    "    rc('font', family=font_name)"
   ]
  },
  {
   "cell_type": "markdown",
   "metadata": {},
   "source": [
    "-------------"
   ]
  },
  {
   "cell_type": "markdown",
   "metadata": {
    "id": "n1BvpuxpSvVD"
   },
   "source": [
    "# 데이터 불러오기 \n",
    "- 데이터가 크다보니 속도가 오래걸리기도 합니다..!\n",
    "- 아직 이런 문제를 해결하는 방법에 대한 에듀세션을 배우지 않았으니,\n",
    "- 각자의 컴퓨터가 감당할 수 있는 만큼, 그리고 지금껏 에듀세션에서 배운 내용으로 최대한 성능개선을 해보시되, \n",
    "- 절대적인 accuracy 수치에 대해 부담은 갖지 않으셔도 됩니다! 몇 %라도 개선되었다면 좋습니다 ㅎㅎ"
   ]
  },
  {
   "cell_type": "code",
   "execution_count": 3,
   "metadata": {
    "id": "TTtfGASPxy1E"
   },
   "outputs": [],
   "source": [
    "# 데이터 불러오기 \n",
    "df = pd.read_csv('NYC_taxi_extra_info.csv')\n",
    "\n",
    "df['pickup_hour'] = pd.to_datetime(df['pickup_hour'])\n",
    "df['zip_code'] = df['zip_code'].astype(str) \n",
    "\n",
    "## 날짜 줄이기 \n",
    "# df = df.iloc[0:7000, :]  #7000개만 남기기 \n",
    "\n",
    "## 지역 수 줄이기 \n",
    "## 더 많은 지역을 포함해도 됩니다! 컴퓨터가 버틸 수 있을 만큼만..! \n",
    "# zip_code_list = ['10001', '10002', '10115', '10026', '10027', '10029', '10030', '11797', '11801']\n",
    "# df = df[df.zip_code.isin(zip_code_list)]\n",
    "# df = df.reset_index()\n",
    "# df = df.drop(['index'], axis = 1)"
   ]
  },
  {
   "cell_type": "markdown",
   "metadata": {},
   "source": [
    "0시와 23시는 1시간밖에 차이나지 않지만, 컴퓨터에서는 이를 인식하지 못한다는 문제가 있음. <br>\n",
    "- sin/cos으로 encoding 처리.\n",
    "- weekday에 대해서도 동일한 문제가 발생하여 동일한 처리"
   ]
  },
  {
   "cell_type": "code",
   "execution_count": 4,
   "metadata": {},
   "outputs": [],
   "source": [
    "df['weekday_sin']=np.sin(2*np.pi*df.weekday/7)\n",
    "df['weekday_cos']=np.cos(2*np.pi*df.weekday/7)\n",
    "df['hour_sin']=np.sin(2*np.pi*df.hour/24)\n",
    "df['hour_cos']=np.cos(2*np.pi*df.hour/24)"
   ]
  },
  {
   "cell_type": "code",
   "execution_count": 5,
   "metadata": {
    "colab": {
     "base_uri": "https://localhost:8080/",
     "height": 414
    },
    "executionInfo": {
     "elapsed": 363,
     "status": "ok",
     "timestamp": 1631857040436,
     "user": {
      "displayName": "그로스해커스모두",
      "photoUrl": "https://lh3.googleusercontent.com/a/default-user=s64",
      "userId": "16814293870053642265"
     },
     "user_tz": -540
    },
    "id": "TZt0vTk2LFpf",
    "outputId": "b37043bd-0791-46c3-8fd0-183607be3837"
   },
   "outputs": [
    {
     "data": {
      "text/html": [
       "<div>\n",
       "<style scoped>\n",
       "    .dataframe tbody tr th:only-of-type {\n",
       "        vertical-align: middle;\n",
       "    }\n",
       "\n",
       "    .dataframe tbody tr th {\n",
       "        vertical-align: top;\n",
       "    }\n",
       "\n",
       "    .dataframe thead th {\n",
       "        text-align: right;\n",
       "    }\n",
       "</style>\n",
       "<table border=\"1\" class=\"dataframe\">\n",
       "  <thead>\n",
       "    <tr style=\"text-align: right;\">\n",
       "      <th></th>\n",
       "      <th>zip_code</th>\n",
       "      <th>pickup_hour</th>\n",
       "      <th>month</th>\n",
       "      <th>day</th>\n",
       "      <th>weekday</th>\n",
       "      <th>hour</th>\n",
       "      <th>is_weekend</th>\n",
       "      <th>cnt</th>\n",
       "      <th>lat</th>\n",
       "      <th>lon</th>\n",
       "      <th>...</th>\n",
       "      <th>wind_y</th>\n",
       "      <th>is_raining</th>\n",
       "      <th>is_snowing</th>\n",
       "      <th>is_cloudy</th>\n",
       "      <th>is_clear</th>\n",
       "      <th>weather_strength</th>\n",
       "      <th>weekday_sin</th>\n",
       "      <th>weekday_cos</th>\n",
       "      <th>hour_sin</th>\n",
       "      <th>hour_cos</th>\n",
       "    </tr>\n",
       "  </thead>\n",
       "  <tbody>\n",
       "    <tr>\n",
       "      <th>0</th>\n",
       "      <td>11106</td>\n",
       "      <td>2015-01-01</td>\n",
       "      <td>1</td>\n",
       "      <td>1</td>\n",
       "      <td>3</td>\n",
       "      <td>0</td>\n",
       "      <td>1</td>\n",
       "      <td>75</td>\n",
       "      <td>40.761229</td>\n",
       "      <td>-73.929593</td>\n",
       "      <td>...</td>\n",
       "      <td>-0.93358</td>\n",
       "      <td>0</td>\n",
       "      <td>0</td>\n",
       "      <td>0</td>\n",
       "      <td>1</td>\n",
       "      <td>0</td>\n",
       "      <td>0.433884</td>\n",
       "      <td>-0.900969</td>\n",
       "      <td>0.0</td>\n",
       "      <td>1.0</td>\n",
       "    </tr>\n",
       "    <tr>\n",
       "      <th>1</th>\n",
       "      <td>10006</td>\n",
       "      <td>2015-01-01</td>\n",
       "      <td>1</td>\n",
       "      <td>1</td>\n",
       "      <td>3</td>\n",
       "      <td>0</td>\n",
       "      <td>1</td>\n",
       "      <td>64</td>\n",
       "      <td>40.708312</td>\n",
       "      <td>-74.013440</td>\n",
       "      <td>...</td>\n",
       "      <td>-0.93358</td>\n",
       "      <td>0</td>\n",
       "      <td>0</td>\n",
       "      <td>0</td>\n",
       "      <td>1</td>\n",
       "      <td>0</td>\n",
       "      <td>0.433884</td>\n",
       "      <td>-0.900969</td>\n",
       "      <td>0.0</td>\n",
       "      <td>1.0</td>\n",
       "    </tr>\n",
       "    <tr>\n",
       "      <th>2</th>\n",
       "      <td>11201</td>\n",
       "      <td>2015-01-01</td>\n",
       "      <td>1</td>\n",
       "      <td>1</td>\n",
       "      <td>3</td>\n",
       "      <td>0</td>\n",
       "      <td>1</td>\n",
       "      <td>169</td>\n",
       "      <td>40.692500</td>\n",
       "      <td>-73.991763</td>\n",
       "      <td>...</td>\n",
       "      <td>-0.93358</td>\n",
       "      <td>0</td>\n",
       "      <td>0</td>\n",
       "      <td>0</td>\n",
       "      <td>1</td>\n",
       "      <td>0</td>\n",
       "      <td>0.433884</td>\n",
       "      <td>-0.900969</td>\n",
       "      <td>0.0</td>\n",
       "      <td>1.0</td>\n",
       "    </tr>\n",
       "  </tbody>\n",
       "</table>\n",
       "<p>3 rows × 27 columns</p>\n",
       "</div>"
      ],
      "text/plain": [
       "  zip_code pickup_hour  month  day  weekday  hour  is_weekend  cnt        lat  \\\n",
       "0    11106  2015-01-01      1    1        3     0           1   75  40.761229   \n",
       "1    10006  2015-01-01      1    1        3     0           1   64  40.708312   \n",
       "2    11201  2015-01-01      1    1        3     0           1  169  40.692500   \n",
       "\n",
       "         lon  ...   wind_y  is_raining  is_snowing  is_cloudy  is_clear  \\\n",
       "0 -73.929593  ... -0.93358           0           0          0         1   \n",
       "1 -74.013440  ... -0.93358           0           0          0         1   \n",
       "2 -73.991763  ... -0.93358           0           0          0         1   \n",
       "\n",
       "  weather_strength  weekday_sin  weekday_cos  hour_sin  hour_cos  \n",
       "0                0     0.433884    -0.900969       0.0       1.0  \n",
       "1                0     0.433884    -0.900969       0.0       1.0  \n",
       "2                0     0.433884    -0.900969       0.0       1.0  \n",
       "\n",
       "[3 rows x 27 columns]"
      ]
     },
     "execution_count": 5,
     "metadata": {},
     "output_type": "execute_result"
    }
   ],
   "source": [
    "df.head(3)"
   ]
  },
  {
   "cell_type": "markdown",
   "metadata": {
    "id": "LOjcrJl8KIgU"
   },
   "source": [
    "# 데이터 전처리 \n",
    "### (전처리 파일을 복붙해오시고, 모델별로 다르게 적용하실때마다 복붙해서 사용하시면 되겠습니다) \n",
    "\n",
    "### 모델링을 위한 기본 전처리\n",
    "  - `기본 정보 확인 (결측치 및 이상치 처리)`\n",
    "      - df.info()\n",
    "      - df.describe()\n",
    "      - 간단한 시각화 \n",
    "  - `시간 관련 전처리 (새로운 열 생성)` \n",
    "      - DATETIME에서 MONTH, HOUR, WEEKDAY 등 추출\n",
    "  - `Categorical 데이터 전처리`\n",
    "      - One Hot Encoding\n",
    "      - Label Encoding\n",
    "  - `Train / Test Split`\n",
    "    - NY taxi data에서 주의점 "
   ]
  },
  {
   "cell_type": "markdown",
   "metadata": {
    "id": "scJXEQsEnJaH"
   },
   "source": [
    "### 기본 정보 확인 (결측치 및 이상치 처리) \n",
    "  - df.info()\n",
    "  - df.describe()\n",
    "  - 간단한 시각화 \n",
    "\n",
    "\n",
    "\n",
    "---\n",
    "\n",
    "\n",
    "EDA 과정에서 기본적으로 다 확인하셨죠? ㅎㅎ \n",
    "EDA 결과 중 모델링에 적용하기로한 부분이 있다면 반영해주세요~!"
   ]
  },
  {
   "cell_type": "code",
   "execution_count": 6,
   "metadata": {
    "colab": {
     "base_uri": "https://localhost:8080/"
    },
    "executionInfo": {
     "elapsed": 10,
     "status": "ok",
     "timestamp": 1631855872463,
     "user": {
      "displayName": "그로스해커스모두",
      "photoUrl": "https://lh3.googleusercontent.com/a/default-user=s64",
      "userId": "16814293870053642265"
     },
     "user_tz": -540
    },
    "id": "LP8eqDlEmcpd",
    "outputId": "656195a2-a921-41d6-d26c-21ba7f17cbff"
   },
   "outputs": [
    {
     "name": "stdout",
     "output_type": "stream",
     "text": [
      "<class 'pandas.core.frame.DataFrame'>\n",
      "RangeIndex: 87020 entries, 0 to 87019\n",
      "Data columns (total 27 columns):\n",
      " #   Column            Non-Null Count  Dtype         \n",
      "---  ------            --------------  -----         \n",
      " 0   zip_code          87020 non-null  object        \n",
      " 1   pickup_hour       87020 non-null  datetime64[ns]\n",
      " 2   month             87020 non-null  int64         \n",
      " 3   day               87020 non-null  int64         \n",
      " 4   weekday           87020 non-null  int64         \n",
      " 5   hour              87020 non-null  int64         \n",
      " 6   is_weekend        87020 non-null  int64         \n",
      " 7   cnt               87020 non-null  int64         \n",
      " 8   lat               87020 non-null  float64       \n",
      " 9   lon               87020 non-null  float64       \n",
      " 10  temp              87020 non-null  float64       \n",
      " 11  humid             87020 non-null  float64       \n",
      " 12  pressure          87020 non-null  float64       \n",
      " 13  wind_direction    87020 non-null  float64       \n",
      " 14  wind_speed        87020 non-null  float64       \n",
      " 15  des               87020 non-null  object        \n",
      " 16  wind_x            87020 non-null  float64       \n",
      " 17  wind_y            87020 non-null  float64       \n",
      " 18  is_raining        87020 non-null  int64         \n",
      " 19  is_snowing        87020 non-null  int64         \n",
      " 20  is_cloudy         87020 non-null  int64         \n",
      " 21  is_clear          87020 non-null  int64         \n",
      " 22  weather_strength  87020 non-null  int64         \n",
      " 23  weekday_sin       87020 non-null  float64       \n",
      " 24  weekday_cos       87020 non-null  float64       \n",
      " 25  hour_sin          87020 non-null  float64       \n",
      " 26  hour_cos          87020 non-null  float64       \n",
      "dtypes: datetime64[ns](1), float64(13), int64(11), object(2)\n",
      "memory usage: 17.9+ MB\n"
     ]
    }
   ],
   "source": [
    "df.info()"
   ]
  },
  {
   "cell_type": "markdown",
   "metadata": {
    "id": "rqjQq2AVbSbh"
   },
   "source": [
    "### `Categorical 데이터 전처리`\n",
    "\n",
    "기본적으로 사이킷런의 머신러닝 알고리즘은 문자열 값을 입력 값으로 허락하지 않습니다. 또한, 먆은 알고리즘이 범주형 데이터로 직접 작동할 수 없습니다. 그렇기 때문에 모든 문자열 값들을 숫자 형으로 인코딩하는 전처리 작업 후에 머신러닝 모델에 학습을 시켜야하는데요. 이렇게 인코딩 하는 방식에는 크게 레이블 인코딩(Lable encoding)과 원-핫 인코딩(One Hot Encoding)이 있습니다. \n",
    "\n",
    "- One Hot Encoding\n",
    "\n",
    "![Screen Shot 2021-09-16 at 3.41.48 PM.png](data:image/png;base64,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)"
   ]
  },
  {
   "cell_type": "markdown",
   "metadata": {
    "id": "neCzwifObSbi"
   },
   "source": [
    "### Train and Test Split\n",
    "- 시계열 데이터는 Random Sampling을 하면 안됨\n",
    "- Train엔 과거 데이터, Test엔 (과거 대비) 미래 데이터가 있어야 함\n",
    "    - 만약 Train에 미래 데이터가 있다면? 미래를 보고 과거를 예측한 꼴\n",
    "    - 실제로 사용할 땐 과거 데이터 기반으로 미래 데이터를 예측"
   ]
  },
  {
   "cell_type": "code",
   "execution_count": 6,
   "metadata": {
    "id": "xe6DFgtqbSbi"
   },
   "outputs": [],
   "source": [
    "# 지정해준 date를 기점으로 train과 test set을 split\n",
    "def split_train_and_test(df, date):\n",
    "    \"\"\"\n",
    "    Dataframe에서 train_df, test_df로 나눠주는 함수\n",
    "    \n",
    "    df : 시계열 데이터 프레임\n",
    "    date : 기준점 날짜\n",
    "    \"\"\"\n",
    "    train_df = df[df['pickup_hour'] < date]\n",
    "    test_df = df[df['pickup_hour'] >= date]\n",
    "    return train_df, test_df"
   ]
  },
  {
   "cell_type": "markdown",
   "metadata": {},
   "source": [
    "- 위의 방식처럼 명시적으로 date를 지정하는 방법이 마음에 들지 않을수도 있음\n",
    "    - 이럴 경우 Dataframe의 시간 데이터를 마지막 1주치만 Test로 지정할 수 있음"
   ]
  },
  {
   "cell_type": "code",
   "execution_count": 7,
   "metadata": {
    "id": "rfWdBhzibSbi"
   },
   "outputs": [],
   "source": [
    "def split_train_and_test_period(df, period):\n",
    "    \"\"\"\n",
    "    Dataframe에서 train_df, test_df로 나눠주는 함수\n",
    "    \n",
    "    df : 시계열 데이터 프레임\n",
    "    period : train/test 기준 일\n",
    "    \"\"\"\n",
    "    criteria = (max(df['pickup_hour']) - pd.Timedelta(days=period)).date()\n",
    "    train_df = df[df['pickup_hour'] < criteria]\n",
    "    test_df = df[df['pickup_hour'] >= criteria]\n",
    "    return train_df, test_df"
   ]
  },
  {
   "cell_type": "markdown",
   "metadata": {
    "id": "lo9oEbcjbSbj"
   },
   "source": [
    "### Train / Test 나누기"
   ]
  },
  {
   "cell_type": "code",
   "execution_count": 8,
   "metadata": {
    "id": "Ncy2VchFbSbj"
   },
   "outputs": [],
   "source": [
    "# 그 전에 필요없는 feature('pickup_hour 제외') 삭제\n",
    "del df['zip_code']        # one hot encoding 해서 더는 필요 없음\n",
    "del df['month']           # 전부 1월 데이터이기 때문에 month가 의미 없음\n",
    "del df['wind_direction']  # wind_x, wind_y로 feature 가공해주었기 때문에 필요 x\n",
    "del df['des']             # one hot encoding 해서 더 이상 필요 없음\n",
    "del df['hour']            # sin, cos encoding 해줘서 더 이상 필요 없음\n",
    "del df['weekday']         # sin, cos encoding 해줘서 더 이상 필요 없음\n",
    "del df['is_raining']\n",
    "del df['is_snowing']\n",
    "del df['is_cloudy']\n",
    "del df['is_clear']\n",
    "# del train_df['zip_code_le']\n",
    "# del test_df['zip_code_le']"
   ]
  },
  {
   "cell_type": "code",
   "execution_count": 9,
   "metadata": {
    "id": "CPGfPq0kbSbj"
   },
   "outputs": [],
   "source": [
    "train_df, test_df = split_train_and_test(df, '2015-01-24') # 원핫인코딩"
   ]
  },
  {
   "cell_type": "code",
   "execution_count": 10,
   "metadata": {
    "colab": {
     "base_uri": "https://localhost:8080/",
     "height": 414
    },
    "executionInfo": {
     "elapsed": 314,
     "status": "ok",
     "timestamp": 1631857075411,
     "user": {
      "displayName": "그로스해커스모두",
      "photoUrl": "https://lh3.googleusercontent.com/a/default-user=s64",
      "userId": "16814293870053642265"
     },
     "user_tz": -540
    },
    "id": "1Bcc49TobSbj",
    "outputId": "b3d2c075-b9fb-4124-e13e-e21bf5876d8d"
   },
   "outputs": [
    {
     "data": {
      "text/html": [
       "<div>\n",
       "<style scoped>\n",
       "    .dataframe tbody tr th:only-of-type {\n",
       "        vertical-align: middle;\n",
       "    }\n",
       "\n",
       "    .dataframe tbody tr th {\n",
       "        vertical-align: top;\n",
       "    }\n",
       "\n",
       "    .dataframe thead th {\n",
       "        text-align: right;\n",
       "    }\n",
       "</style>\n",
       "<table border=\"1\" class=\"dataframe\">\n",
       "  <thead>\n",
       "    <tr style=\"text-align: right;\">\n",
       "      <th></th>\n",
       "      <th>pickup_hour</th>\n",
       "      <th>day</th>\n",
       "      <th>is_weekend</th>\n",
       "      <th>cnt</th>\n",
       "      <th>lat</th>\n",
       "      <th>lon</th>\n",
       "      <th>temp</th>\n",
       "      <th>humid</th>\n",
       "      <th>pressure</th>\n",
       "      <th>wind_speed</th>\n",
       "      <th>wind_x</th>\n",
       "      <th>wind_y</th>\n",
       "      <th>weather_strength</th>\n",
       "      <th>weekday_sin</th>\n",
       "      <th>weekday_cos</th>\n",
       "      <th>hour_sin</th>\n",
       "      <th>hour_cos</th>\n",
       "    </tr>\n",
       "  </thead>\n",
       "  <tbody>\n",
       "    <tr>\n",
       "      <th>0</th>\n",
       "      <td>2015-01-01 00:00:00</td>\n",
       "      <td>1</td>\n",
       "      <td>1</td>\n",
       "      <td>75</td>\n",
       "      <td>40.761229</td>\n",
       "      <td>-73.929593</td>\n",
       "      <td>-5.100</td>\n",
       "      <td>59.0</td>\n",
       "      <td>1022.0</td>\n",
       "      <td>2.0</td>\n",
       "      <td>-0.358368</td>\n",
       "      <td>-0.933580</td>\n",
       "      <td>0</td>\n",
       "      <td>0.433884</td>\n",
       "      <td>-0.900969</td>\n",
       "      <td>0.000000</td>\n",
       "      <td>1.000000</td>\n",
       "    </tr>\n",
       "    <tr>\n",
       "      <th>1</th>\n",
       "      <td>2015-01-01 00:00:00</td>\n",
       "      <td>1</td>\n",
       "      <td>1</td>\n",
       "      <td>64</td>\n",
       "      <td>40.708312</td>\n",
       "      <td>-74.013440</td>\n",
       "      <td>-5.100</td>\n",
       "      <td>59.0</td>\n",
       "      <td>1022.0</td>\n",
       "      <td>2.0</td>\n",
       "      <td>-0.358368</td>\n",
       "      <td>-0.933580</td>\n",
       "      <td>0</td>\n",
       "      <td>0.433884</td>\n",
       "      <td>-0.900969</td>\n",
       "      <td>0.000000</td>\n",
       "      <td>1.000000</td>\n",
       "    </tr>\n",
       "    <tr>\n",
       "      <th>2</th>\n",
       "      <td>2015-01-01 00:00:00</td>\n",
       "      <td>1</td>\n",
       "      <td>1</td>\n",
       "      <td>169</td>\n",
       "      <td>40.692500</td>\n",
       "      <td>-73.991763</td>\n",
       "      <td>-5.100</td>\n",
       "      <td>59.0</td>\n",
       "      <td>1022.0</td>\n",
       "      <td>2.0</td>\n",
       "      <td>-0.358368</td>\n",
       "      <td>-0.933580</td>\n",
       "      <td>0</td>\n",
       "      <td>0.433884</td>\n",
       "      <td>-0.900969</td>\n",
       "      <td>0.000000</td>\n",
       "      <td>1.000000</td>\n",
       "    </tr>\n",
       "    <tr>\n",
       "      <th>3</th>\n",
       "      <td>2015-01-01 00:00:00</td>\n",
       "      <td>1</td>\n",
       "      <td>1</td>\n",
       "      <td>222</td>\n",
       "      <td>40.653199</td>\n",
       "      <td>-73.784133</td>\n",
       "      <td>-5.100</td>\n",
       "      <td>59.0</td>\n",
       "      <td>1022.0</td>\n",
       "      <td>2.0</td>\n",
       "      <td>-0.358368</td>\n",
       "      <td>-0.933580</td>\n",
       "      <td>0</td>\n",
       "      <td>0.433884</td>\n",
       "      <td>-0.900969</td>\n",
       "      <td>0.000000</td>\n",
       "      <td>1.000000</td>\n",
       "    </tr>\n",
       "    <tr>\n",
       "      <th>4</th>\n",
       "      <td>2015-01-01 00:00:00</td>\n",
       "      <td>1</td>\n",
       "      <td>1</td>\n",
       "      <td>64</td>\n",
       "      <td>40.837391</td>\n",
       "      <td>-73.941015</td>\n",
       "      <td>-5.100</td>\n",
       "      <td>59.0</td>\n",
       "      <td>1022.0</td>\n",
       "      <td>2.0</td>\n",
       "      <td>-0.358368</td>\n",
       "      <td>-0.933580</td>\n",
       "      <td>0</td>\n",
       "      <td>0.433884</td>\n",
       "      <td>-0.900969</td>\n",
       "      <td>0.000000</td>\n",
       "      <td>1.000000</td>\n",
       "    </tr>\n",
       "    <tr>\n",
       "      <th>...</th>\n",
       "      <td>...</td>\n",
       "      <td>...</td>\n",
       "      <td>...</td>\n",
       "      <td>...</td>\n",
       "      <td>...</td>\n",
       "      <td>...</td>\n",
       "      <td>...</td>\n",
       "      <td>...</td>\n",
       "      <td>...</td>\n",
       "      <td>...</td>\n",
       "      <td>...</td>\n",
       "      <td>...</td>\n",
       "      <td>...</td>\n",
       "      <td>...</td>\n",
       "      <td>...</td>\n",
       "      <td>...</td>\n",
       "      <td>...</td>\n",
       "    </tr>\n",
       "    <tr>\n",
       "      <th>65113</th>\n",
       "      <td>2015-01-23 23:00:00</td>\n",
       "      <td>23</td>\n",
       "      <td>0</td>\n",
       "      <td>7</td>\n",
       "      <td>40.645926</td>\n",
       "      <td>-73.955015</td>\n",
       "      <td>-2.989</td>\n",
       "      <td>90.0</td>\n",
       "      <td>1020.0</td>\n",
       "      <td>2.0</td>\n",
       "      <td>-0.754710</td>\n",
       "      <td>-0.656059</td>\n",
       "      <td>3</td>\n",
       "      <td>-0.433884</td>\n",
       "      <td>-0.900969</td>\n",
       "      <td>-0.258819</td>\n",
       "      <td>0.965926</td>\n",
       "    </tr>\n",
       "    <tr>\n",
       "      <th>65114</th>\n",
       "      <td>2015-01-23 23:00:00</td>\n",
       "      <td>23</td>\n",
       "      <td>0</td>\n",
       "      <td>12</td>\n",
       "      <td>40.837391</td>\n",
       "      <td>-73.941015</td>\n",
       "      <td>-2.989</td>\n",
       "      <td>90.0</td>\n",
       "      <td>1020.0</td>\n",
       "      <td>2.0</td>\n",
       "      <td>-0.754710</td>\n",
       "      <td>-0.656059</td>\n",
       "      <td>3</td>\n",
       "      <td>-0.433884</td>\n",
       "      <td>-0.900969</td>\n",
       "      <td>-0.258819</td>\n",
       "      <td>0.965926</td>\n",
       "    </tr>\n",
       "    <tr>\n",
       "      <th>65115</th>\n",
       "      <td>2015-01-23 23:00:00</td>\n",
       "      <td>23</td>\n",
       "      <td>0</td>\n",
       "      <td>4</td>\n",
       "      <td>40.748088</td>\n",
       "      <td>-73.860623</td>\n",
       "      <td>-2.989</td>\n",
       "      <td>90.0</td>\n",
       "      <td>1020.0</td>\n",
       "      <td>2.0</td>\n",
       "      <td>-0.754710</td>\n",
       "      <td>-0.656059</td>\n",
       "      <td>3</td>\n",
       "      <td>-0.433884</td>\n",
       "      <td>-0.900969</td>\n",
       "      <td>-0.258819</td>\n",
       "      <td>0.965926</td>\n",
       "    </tr>\n",
       "    <tr>\n",
       "      <th>65116</th>\n",
       "      <td>2015-01-23 23:00:00</td>\n",
       "      <td>23</td>\n",
       "      <td>0</td>\n",
       "      <td>2</td>\n",
       "      <td>41.011504</td>\n",
       "      <td>-73.751870</td>\n",
       "      <td>-2.989</td>\n",
       "      <td>90.0</td>\n",
       "      <td>1020.0</td>\n",
       "      <td>2.0</td>\n",
       "      <td>-0.754710</td>\n",
       "      <td>-0.656059</td>\n",
       "      <td>3</td>\n",
       "      <td>-0.433884</td>\n",
       "      <td>-0.900969</td>\n",
       "      <td>-0.258819</td>\n",
       "      <td>0.965926</td>\n",
       "    </tr>\n",
       "    <tr>\n",
       "      <th>65117</th>\n",
       "      <td>2015-01-23 23:00:00</td>\n",
       "      <td>23</td>\n",
       "      <td>0</td>\n",
       "      <td>1</td>\n",
       "      <td>40.861559</td>\n",
       "      <td>-73.888772</td>\n",
       "      <td>-2.989</td>\n",
       "      <td>90.0</td>\n",
       "      <td>1020.0</td>\n",
       "      <td>2.0</td>\n",
       "      <td>-0.754710</td>\n",
       "      <td>-0.656059</td>\n",
       "      <td>3</td>\n",
       "      <td>-0.433884</td>\n",
       "      <td>-0.900969</td>\n",
       "      <td>-0.258819</td>\n",
       "      <td>0.965926</td>\n",
       "    </tr>\n",
       "  </tbody>\n",
       "</table>\n",
       "<p>65118 rows × 17 columns</p>\n",
       "</div>"
      ],
      "text/plain": [
       "              pickup_hour  day  is_weekend  cnt        lat        lon   temp  \\\n",
       "0     2015-01-01 00:00:00    1           1   75  40.761229 -73.929593 -5.100   \n",
       "1     2015-01-01 00:00:00    1           1   64  40.708312 -74.013440 -5.100   \n",
       "2     2015-01-01 00:00:00    1           1  169  40.692500 -73.991763 -5.100   \n",
       "3     2015-01-01 00:00:00    1           1  222  40.653199 -73.784133 -5.100   \n",
       "4     2015-01-01 00:00:00    1           1   64  40.837391 -73.941015 -5.100   \n",
       "...                   ...  ...         ...  ...        ...        ...    ...   \n",
       "65113 2015-01-23 23:00:00   23           0    7  40.645926 -73.955015 -2.989   \n",
       "65114 2015-01-23 23:00:00   23           0   12  40.837391 -73.941015 -2.989   \n",
       "65115 2015-01-23 23:00:00   23           0    4  40.748088 -73.860623 -2.989   \n",
       "65116 2015-01-23 23:00:00   23           0    2  41.011504 -73.751870 -2.989   \n",
       "65117 2015-01-23 23:00:00   23           0    1  40.861559 -73.888772 -2.989   \n",
       "\n",
       "       humid  pressure  wind_speed    wind_x    wind_y  weather_strength  \\\n",
       "0       59.0    1022.0         2.0 -0.358368 -0.933580                 0   \n",
       "1       59.0    1022.0         2.0 -0.358368 -0.933580                 0   \n",
       "2       59.0    1022.0         2.0 -0.358368 -0.933580                 0   \n",
       "3       59.0    1022.0         2.0 -0.358368 -0.933580                 0   \n",
       "4       59.0    1022.0         2.0 -0.358368 -0.933580                 0   \n",
       "...      ...       ...         ...       ...       ...               ...   \n",
       "65113   90.0    1020.0         2.0 -0.754710 -0.656059                 3   \n",
       "65114   90.0    1020.0         2.0 -0.754710 -0.656059                 3   \n",
       "65115   90.0    1020.0         2.0 -0.754710 -0.656059                 3   \n",
       "65116   90.0    1020.0         2.0 -0.754710 -0.656059                 3   \n",
       "65117   90.0    1020.0         2.0 -0.754710 -0.656059                 3   \n",
       "\n",
       "       weekday_sin  weekday_cos  hour_sin  hour_cos  \n",
       "0         0.433884    -0.900969  0.000000  1.000000  \n",
       "1         0.433884    -0.900969  0.000000  1.000000  \n",
       "2         0.433884    -0.900969  0.000000  1.000000  \n",
       "3         0.433884    -0.900969  0.000000  1.000000  \n",
       "4         0.433884    -0.900969  0.000000  1.000000  \n",
       "...            ...          ...       ...       ...  \n",
       "65113    -0.433884    -0.900969 -0.258819  0.965926  \n",
       "65114    -0.433884    -0.900969 -0.258819  0.965926  \n",
       "65115    -0.433884    -0.900969 -0.258819  0.965926  \n",
       "65116    -0.433884    -0.900969 -0.258819  0.965926  \n",
       "65117    -0.433884    -0.900969 -0.258819  0.965926  \n",
       "\n",
       "[65118 rows x 17 columns]"
      ]
     },
     "execution_count": 10,
     "metadata": {},
     "output_type": "execute_result"
    }
   ],
   "source": [
    "train_df"
   ]
  },
  {
   "cell_type": "code",
   "execution_count": 11,
   "metadata": {
    "colab": {
     "base_uri": "https://localhost:8080/",
     "height": 414
    },
    "executionInfo": {
     "elapsed": 303,
     "status": "ok",
     "timestamp": 1631857078160,
     "user": {
      "displayName": "그로스해커스모두",
      "photoUrl": "https://lh3.googleusercontent.com/a/default-user=s64",
      "userId": "16814293870053642265"
     },
     "user_tz": -540
    },
    "id": "J2_sXU1obSbj",
    "outputId": "c0817de7-b091-4c43-84dc-877b69a72810"
   },
   "outputs": [
    {
     "data": {
      "text/html": [
       "<div>\n",
       "<style scoped>\n",
       "    .dataframe tbody tr th:only-of-type {\n",
       "        vertical-align: middle;\n",
       "    }\n",
       "\n",
       "    .dataframe tbody tr th {\n",
       "        vertical-align: top;\n",
       "    }\n",
       "\n",
       "    .dataframe thead th {\n",
       "        text-align: right;\n",
       "    }\n",
       "</style>\n",
       "<table border=\"1\" class=\"dataframe\">\n",
       "  <thead>\n",
       "    <tr style=\"text-align: right;\">\n",
       "      <th></th>\n",
       "      <th>pickup_hour</th>\n",
       "      <th>day</th>\n",
       "      <th>is_weekend</th>\n",
       "      <th>cnt</th>\n",
       "      <th>lat</th>\n",
       "      <th>lon</th>\n",
       "      <th>temp</th>\n",
       "      <th>humid</th>\n",
       "      <th>pressure</th>\n",
       "      <th>wind_speed</th>\n",
       "      <th>wind_x</th>\n",
       "      <th>wind_y</th>\n",
       "      <th>weather_strength</th>\n",
       "      <th>weekday_sin</th>\n",
       "      <th>weekday_cos</th>\n",
       "      <th>hour_sin</th>\n",
       "      <th>hour_cos</th>\n",
       "    </tr>\n",
       "  </thead>\n",
       "  <tbody>\n",
       "    <tr>\n",
       "      <th>65118</th>\n",
       "      <td>2015-01-24 00:00:00</td>\n",
       "      <td>24</td>\n",
       "      <td>1</td>\n",
       "      <td>17</td>\n",
       "      <td>40.690901</td>\n",
       "      <td>-73.928318</td>\n",
       "      <td>-3.020823</td>\n",
       "      <td>90.0</td>\n",
       "      <td>1019.0</td>\n",
       "      <td>2.0</td>\n",
       "      <td>-0.766044</td>\n",
       "      <td>-0.642788</td>\n",
       "      <td>3</td>\n",
       "      <td>-0.974928</td>\n",
       "      <td>-0.222521</td>\n",
       "      <td>0.000000</td>\n",
       "      <td>1.000000</td>\n",
       "    </tr>\n",
       "    <tr>\n",
       "      <th>65119</th>\n",
       "      <td>2015-01-24 00:00:00</td>\n",
       "      <td>24</td>\n",
       "      <td>1</td>\n",
       "      <td>306</td>\n",
       "      <td>40.653199</td>\n",
       "      <td>-73.784133</td>\n",
       "      <td>-3.020823</td>\n",
       "      <td>90.0</td>\n",
       "      <td>1019.0</td>\n",
       "      <td>2.0</td>\n",
       "      <td>-0.766044</td>\n",
       "      <td>-0.642788</td>\n",
       "      <td>3</td>\n",
       "      <td>-0.974928</td>\n",
       "      <td>-0.222521</td>\n",
       "      <td>0.000000</td>\n",
       "      <td>1.000000</td>\n",
       "    </tr>\n",
       "    <tr>\n",
       "      <th>65120</th>\n",
       "      <td>2015-01-24 00:00:00</td>\n",
       "      <td>24</td>\n",
       "      <td>1</td>\n",
       "      <td>3</td>\n",
       "      <td>40.724009</td>\n",
       "      <td>-73.900127</td>\n",
       "      <td>-3.020823</td>\n",
       "      <td>90.0</td>\n",
       "      <td>1019.0</td>\n",
       "      <td>2.0</td>\n",
       "      <td>-0.766044</td>\n",
       "      <td>-0.642788</td>\n",
       "      <td>3</td>\n",
       "      <td>-0.974928</td>\n",
       "      <td>-0.222521</td>\n",
       "      <td>0.000000</td>\n",
       "      <td>1.000000</td>\n",
       "    </tr>\n",
       "    <tr>\n",
       "      <th>65121</th>\n",
       "      <td>2015-01-24 00:00:00</td>\n",
       "      <td>24</td>\n",
       "      <td>1</td>\n",
       "      <td>28</td>\n",
       "      <td>40.680521</td>\n",
       "      <td>-73.949349</td>\n",
       "      <td>-3.020823</td>\n",
       "      <td>90.0</td>\n",
       "      <td>1019.0</td>\n",
       "      <td>2.0</td>\n",
       "      <td>-0.766044</td>\n",
       "      <td>-0.642788</td>\n",
       "      <td>3</td>\n",
       "      <td>-0.974928</td>\n",
       "      <td>-0.222521</td>\n",
       "      <td>0.000000</td>\n",
       "      <td>1.000000</td>\n",
       "    </tr>\n",
       "    <tr>\n",
       "      <th>65122</th>\n",
       "      <td>2015-01-24 00:00:00</td>\n",
       "      <td>24</td>\n",
       "      <td>1</td>\n",
       "      <td>472</td>\n",
       "      <td>40.786271</td>\n",
       "      <td>-73.975631</td>\n",
       "      <td>-3.020823</td>\n",
       "      <td>90.0</td>\n",
       "      <td>1019.0</td>\n",
       "      <td>2.0</td>\n",
       "      <td>-0.766044</td>\n",
       "      <td>-0.642788</td>\n",
       "      <td>3</td>\n",
       "      <td>-0.974928</td>\n",
       "      <td>-0.222521</td>\n",
       "      <td>0.000000</td>\n",
       "      <td>1.000000</td>\n",
       "    </tr>\n",
       "    <tr>\n",
       "      <th>...</th>\n",
       "      <td>...</td>\n",
       "      <td>...</td>\n",
       "      <td>...</td>\n",
       "      <td>...</td>\n",
       "      <td>...</td>\n",
       "      <td>...</td>\n",
       "      <td>...</td>\n",
       "      <td>...</td>\n",
       "      <td>...</td>\n",
       "      <td>...</td>\n",
       "      <td>...</td>\n",
       "      <td>...</td>\n",
       "      <td>...</td>\n",
       "      <td>...</td>\n",
       "      <td>...</td>\n",
       "      <td>...</td>\n",
       "      <td>...</td>\n",
       "    </tr>\n",
       "    <tr>\n",
       "      <th>87015</th>\n",
       "      <td>2015-01-31 23:00:00</td>\n",
       "      <td>31</td>\n",
       "      <td>1</td>\n",
       "      <td>1</td>\n",
       "      <td>40.632650</td>\n",
       "      <td>-73.996601</td>\n",
       "      <td>-6.175519</td>\n",
       "      <td>81.0</td>\n",
       "      <td>1024.0</td>\n",
       "      <td>4.0</td>\n",
       "      <td>0.629320</td>\n",
       "      <td>-0.777146</td>\n",
       "      <td>0</td>\n",
       "      <td>-0.974928</td>\n",
       "      <td>-0.222521</td>\n",
       "      <td>-0.258819</td>\n",
       "      <td>0.965926</td>\n",
       "    </tr>\n",
       "    <tr>\n",
       "      <th>87016</th>\n",
       "      <td>2015-01-31 23:00:00</td>\n",
       "      <td>31</td>\n",
       "      <td>1</td>\n",
       "      <td>3</td>\n",
       "      <td>40.829743</td>\n",
       "      <td>-73.908570</td>\n",
       "      <td>-6.175519</td>\n",
       "      <td>81.0</td>\n",
       "      <td>1024.0</td>\n",
       "      <td>4.0</td>\n",
       "      <td>0.629320</td>\n",
       "      <td>-0.777146</td>\n",
       "      <td>0</td>\n",
       "      <td>-0.974928</td>\n",
       "      <td>-0.222521</td>\n",
       "      <td>-0.258819</td>\n",
       "      <td>0.965926</td>\n",
       "    </tr>\n",
       "    <tr>\n",
       "      <th>87017</th>\n",
       "      <td>2015-01-31 23:00:00</td>\n",
       "      <td>31</td>\n",
       "      <td>1</td>\n",
       "      <td>1</td>\n",
       "      <td>40.750423</td>\n",
       "      <td>-73.819936</td>\n",
       "      <td>-6.175519</td>\n",
       "      <td>81.0</td>\n",
       "      <td>1024.0</td>\n",
       "      <td>4.0</td>\n",
       "      <td>0.629320</td>\n",
       "      <td>-0.777146</td>\n",
       "      <td>0</td>\n",
       "      <td>-0.974928</td>\n",
       "      <td>-0.222521</td>\n",
       "      <td>-0.258819</td>\n",
       "      <td>0.965926</td>\n",
       "    </tr>\n",
       "    <tr>\n",
       "      <th>87018</th>\n",
       "      <td>2015-01-31 23:00:00</td>\n",
       "      <td>31</td>\n",
       "      <td>1</td>\n",
       "      <td>1</td>\n",
       "      <td>40.627427</td>\n",
       "      <td>-73.945651</td>\n",
       "      <td>-6.175519</td>\n",
       "      <td>81.0</td>\n",
       "      <td>1024.0</td>\n",
       "      <td>4.0</td>\n",
       "      <td>0.629320</td>\n",
       "      <td>-0.777146</td>\n",
       "      <td>0</td>\n",
       "      <td>-0.974928</td>\n",
       "      <td>-0.222521</td>\n",
       "      <td>-0.258819</td>\n",
       "      <td>0.965926</td>\n",
       "    </tr>\n",
       "    <tr>\n",
       "      <th>87019</th>\n",
       "      <td>2015-01-31 23:00:00</td>\n",
       "      <td>31</td>\n",
       "      <td>1</td>\n",
       "      <td>1</td>\n",
       "      <td>40.754649</td>\n",
       "      <td>-73.974771</td>\n",
       "      <td>-6.175519</td>\n",
       "      <td>81.0</td>\n",
       "      <td>1024.0</td>\n",
       "      <td>4.0</td>\n",
       "      <td>0.629320</td>\n",
       "      <td>-0.777146</td>\n",
       "      <td>0</td>\n",
       "      <td>-0.974928</td>\n",
       "      <td>-0.222521</td>\n",
       "      <td>-0.258819</td>\n",
       "      <td>0.965926</td>\n",
       "    </tr>\n",
       "  </tbody>\n",
       "</table>\n",
       "<p>21902 rows × 17 columns</p>\n",
       "</div>"
      ],
      "text/plain": [
       "              pickup_hour  day  is_weekend  cnt        lat        lon  \\\n",
       "65118 2015-01-24 00:00:00   24           1   17  40.690901 -73.928318   \n",
       "65119 2015-01-24 00:00:00   24           1  306  40.653199 -73.784133   \n",
       "65120 2015-01-24 00:00:00   24           1    3  40.724009 -73.900127   \n",
       "65121 2015-01-24 00:00:00   24           1   28  40.680521 -73.949349   \n",
       "65122 2015-01-24 00:00:00   24           1  472  40.786271 -73.975631   \n",
       "...                   ...  ...         ...  ...        ...        ...   \n",
       "87015 2015-01-31 23:00:00   31           1    1  40.632650 -73.996601   \n",
       "87016 2015-01-31 23:00:00   31           1    3  40.829743 -73.908570   \n",
       "87017 2015-01-31 23:00:00   31           1    1  40.750423 -73.819936   \n",
       "87018 2015-01-31 23:00:00   31           1    1  40.627427 -73.945651   \n",
       "87019 2015-01-31 23:00:00   31           1    1  40.754649 -73.974771   \n",
       "\n",
       "           temp  humid  pressure  wind_speed    wind_x    wind_y  \\\n",
       "65118 -3.020823   90.0    1019.0         2.0 -0.766044 -0.642788   \n",
       "65119 -3.020823   90.0    1019.0         2.0 -0.766044 -0.642788   \n",
       "65120 -3.020823   90.0    1019.0         2.0 -0.766044 -0.642788   \n",
       "65121 -3.020823   90.0    1019.0         2.0 -0.766044 -0.642788   \n",
       "65122 -3.020823   90.0    1019.0         2.0 -0.766044 -0.642788   \n",
       "...         ...    ...       ...         ...       ...       ...   \n",
       "87015 -6.175519   81.0    1024.0         4.0  0.629320 -0.777146   \n",
       "87016 -6.175519   81.0    1024.0         4.0  0.629320 -0.777146   \n",
       "87017 -6.175519   81.0    1024.0         4.0  0.629320 -0.777146   \n",
       "87018 -6.175519   81.0    1024.0         4.0  0.629320 -0.777146   \n",
       "87019 -6.175519   81.0    1024.0         4.0  0.629320 -0.777146   \n",
       "\n",
       "       weather_strength  weekday_sin  weekday_cos  hour_sin  hour_cos  \n",
       "65118                 3    -0.974928    -0.222521  0.000000  1.000000  \n",
       "65119                 3    -0.974928    -0.222521  0.000000  1.000000  \n",
       "65120                 3    -0.974928    -0.222521  0.000000  1.000000  \n",
       "65121                 3    -0.974928    -0.222521  0.000000  1.000000  \n",
       "65122                 3    -0.974928    -0.222521  0.000000  1.000000  \n",
       "...                 ...          ...          ...       ...       ...  \n",
       "87015                 0    -0.974928    -0.222521 -0.258819  0.965926  \n",
       "87016                 0    -0.974928    -0.222521 -0.258819  0.965926  \n",
       "87017                 0    -0.974928    -0.222521 -0.258819  0.965926  \n",
       "87018                 0    -0.974928    -0.222521 -0.258819  0.965926  \n",
       "87019                 0    -0.974928    -0.222521 -0.258819  0.965926  \n",
       "\n",
       "[21902 rows x 17 columns]"
      ]
     },
     "execution_count": 11,
     "metadata": {},
     "output_type": "execute_result"
    }
   ],
   "source": [
    "test_df"
   ]
  },
  {
   "cell_type": "code",
   "execution_count": 12,
   "metadata": {},
   "outputs": [],
   "source": [
    "del train_df['pickup_hour']\n",
    "del test_df['pickup_hour']"
   ]
  },
  {
   "cell_type": "code",
   "execution_count": 13,
   "metadata": {
    "colab": {
     "base_uri": "https://localhost:8080/",
     "height": 414
    },
    "executionInfo": {
     "elapsed": 27,
     "status": "ok",
     "timestamp": 1631855873641,
     "user": {
      "displayName": "그로스해커스모두",
      "photoUrl": "https://lh3.googleusercontent.com/a/default-user=s64",
      "userId": "16814293870053642265"
     },
     "user_tz": -540
    },
    "id": "09t4UABsbSbj",
    "outputId": "67d6e069-2412-4cda-b23e-9f52de56c4f4"
   },
   "outputs": [
    {
     "data": {
      "text/html": [
       "<div>\n",
       "<style scoped>\n",
       "    .dataframe tbody tr th:only-of-type {\n",
       "        vertical-align: middle;\n",
       "    }\n",
       "\n",
       "    .dataframe tbody tr th {\n",
       "        vertical-align: top;\n",
       "    }\n",
       "\n",
       "    .dataframe thead th {\n",
       "        text-align: right;\n",
       "    }\n",
       "</style>\n",
       "<table border=\"1\" class=\"dataframe\">\n",
       "  <thead>\n",
       "    <tr style=\"text-align: right;\">\n",
       "      <th></th>\n",
       "      <th>day</th>\n",
       "      <th>is_weekend</th>\n",
       "      <th>cnt</th>\n",
       "      <th>lat</th>\n",
       "      <th>lon</th>\n",
       "      <th>temp</th>\n",
       "      <th>humid</th>\n",
       "      <th>pressure</th>\n",
       "      <th>wind_speed</th>\n",
       "      <th>wind_x</th>\n",
       "      <th>wind_y</th>\n",
       "      <th>weather_strength</th>\n",
       "      <th>weekday_sin</th>\n",
       "      <th>weekday_cos</th>\n",
       "      <th>hour_sin</th>\n",
       "      <th>hour_cos</th>\n",
       "    </tr>\n",
       "  </thead>\n",
       "  <tbody>\n",
       "    <tr>\n",
       "      <th>0</th>\n",
       "      <td>1</td>\n",
       "      <td>1</td>\n",
       "      <td>75</td>\n",
       "      <td>40.761229</td>\n",
       "      <td>-73.929593</td>\n",
       "      <td>-5.100</td>\n",
       "      <td>59.0</td>\n",
       "      <td>1022.0</td>\n",
       "      <td>2.0</td>\n",
       "      <td>-0.358368</td>\n",
       "      <td>-0.933580</td>\n",
       "      <td>0</td>\n",
       "      <td>0.433884</td>\n",
       "      <td>-0.900969</td>\n",
       "      <td>0.000000</td>\n",
       "      <td>1.000000</td>\n",
       "    </tr>\n",
       "    <tr>\n",
       "      <th>1</th>\n",
       "      <td>1</td>\n",
       "      <td>1</td>\n",
       "      <td>64</td>\n",
       "      <td>40.708312</td>\n",
       "      <td>-74.013440</td>\n",
       "      <td>-5.100</td>\n",
       "      <td>59.0</td>\n",
       "      <td>1022.0</td>\n",
       "      <td>2.0</td>\n",
       "      <td>-0.358368</td>\n",
       "      <td>-0.933580</td>\n",
       "      <td>0</td>\n",
       "      <td>0.433884</td>\n",
       "      <td>-0.900969</td>\n",
       "      <td>0.000000</td>\n",
       "      <td>1.000000</td>\n",
       "    </tr>\n",
       "    <tr>\n",
       "      <th>2</th>\n",
       "      <td>1</td>\n",
       "      <td>1</td>\n",
       "      <td>169</td>\n",
       "      <td>40.692500</td>\n",
       "      <td>-73.991763</td>\n",
       "      <td>-5.100</td>\n",
       "      <td>59.0</td>\n",
       "      <td>1022.0</td>\n",
       "      <td>2.0</td>\n",
       "      <td>-0.358368</td>\n",
       "      <td>-0.933580</td>\n",
       "      <td>0</td>\n",
       "      <td>0.433884</td>\n",
       "      <td>-0.900969</td>\n",
       "      <td>0.000000</td>\n",
       "      <td>1.000000</td>\n",
       "    </tr>\n",
       "    <tr>\n",
       "      <th>3</th>\n",
       "      <td>1</td>\n",
       "      <td>1</td>\n",
       "      <td>222</td>\n",
       "      <td>40.653199</td>\n",
       "      <td>-73.784133</td>\n",
       "      <td>-5.100</td>\n",
       "      <td>59.0</td>\n",
       "      <td>1022.0</td>\n",
       "      <td>2.0</td>\n",
       "      <td>-0.358368</td>\n",
       "      <td>-0.933580</td>\n",
       "      <td>0</td>\n",
       "      <td>0.433884</td>\n",
       "      <td>-0.900969</td>\n",
       "      <td>0.000000</td>\n",
       "      <td>1.000000</td>\n",
       "    </tr>\n",
       "    <tr>\n",
       "      <th>4</th>\n",
       "      <td>1</td>\n",
       "      <td>1</td>\n",
       "      <td>64</td>\n",
       "      <td>40.837391</td>\n",
       "      <td>-73.941015</td>\n",
       "      <td>-5.100</td>\n",
       "      <td>59.0</td>\n",
       "      <td>1022.0</td>\n",
       "      <td>2.0</td>\n",
       "      <td>-0.358368</td>\n",
       "      <td>-0.933580</td>\n",
       "      <td>0</td>\n",
       "      <td>0.433884</td>\n",
       "      <td>-0.900969</td>\n",
       "      <td>0.000000</td>\n",
       "      <td>1.000000</td>\n",
       "    </tr>\n",
       "    <tr>\n",
       "      <th>...</th>\n",
       "      <td>...</td>\n",
       "      <td>...</td>\n",
       "      <td>...</td>\n",
       "      <td>...</td>\n",
       "      <td>...</td>\n",
       "      <td>...</td>\n",
       "      <td>...</td>\n",
       "      <td>...</td>\n",
       "      <td>...</td>\n",
       "      <td>...</td>\n",
       "      <td>...</td>\n",
       "      <td>...</td>\n",
       "      <td>...</td>\n",
       "      <td>...</td>\n",
       "      <td>...</td>\n",
       "      <td>...</td>\n",
       "    </tr>\n",
       "    <tr>\n",
       "      <th>65113</th>\n",
       "      <td>23</td>\n",
       "      <td>0</td>\n",
       "      <td>7</td>\n",
       "      <td>40.645926</td>\n",
       "      <td>-73.955015</td>\n",
       "      <td>-2.989</td>\n",
       "      <td>90.0</td>\n",
       "      <td>1020.0</td>\n",
       "      <td>2.0</td>\n",
       "      <td>-0.754710</td>\n",
       "      <td>-0.656059</td>\n",
       "      <td>3</td>\n",
       "      <td>-0.433884</td>\n",
       "      <td>-0.900969</td>\n",
       "      <td>-0.258819</td>\n",
       "      <td>0.965926</td>\n",
       "    </tr>\n",
       "    <tr>\n",
       "      <th>65114</th>\n",
       "      <td>23</td>\n",
       "      <td>0</td>\n",
       "      <td>12</td>\n",
       "      <td>40.837391</td>\n",
       "      <td>-73.941015</td>\n",
       "      <td>-2.989</td>\n",
       "      <td>90.0</td>\n",
       "      <td>1020.0</td>\n",
       "      <td>2.0</td>\n",
       "      <td>-0.754710</td>\n",
       "      <td>-0.656059</td>\n",
       "      <td>3</td>\n",
       "      <td>-0.433884</td>\n",
       "      <td>-0.900969</td>\n",
       "      <td>-0.258819</td>\n",
       "      <td>0.965926</td>\n",
       "    </tr>\n",
       "    <tr>\n",
       "      <th>65115</th>\n",
       "      <td>23</td>\n",
       "      <td>0</td>\n",
       "      <td>4</td>\n",
       "      <td>40.748088</td>\n",
       "      <td>-73.860623</td>\n",
       "      <td>-2.989</td>\n",
       "      <td>90.0</td>\n",
       "      <td>1020.0</td>\n",
       "      <td>2.0</td>\n",
       "      <td>-0.754710</td>\n",
       "      <td>-0.656059</td>\n",
       "      <td>3</td>\n",
       "      <td>-0.433884</td>\n",
       "      <td>-0.900969</td>\n",
       "      <td>-0.258819</td>\n",
       "      <td>0.965926</td>\n",
       "    </tr>\n",
       "    <tr>\n",
       "      <th>65116</th>\n",
       "      <td>23</td>\n",
       "      <td>0</td>\n",
       "      <td>2</td>\n",
       "      <td>41.011504</td>\n",
       "      <td>-73.751870</td>\n",
       "      <td>-2.989</td>\n",
       "      <td>90.0</td>\n",
       "      <td>1020.0</td>\n",
       "      <td>2.0</td>\n",
       "      <td>-0.754710</td>\n",
       "      <td>-0.656059</td>\n",
       "      <td>3</td>\n",
       "      <td>-0.433884</td>\n",
       "      <td>-0.900969</td>\n",
       "      <td>-0.258819</td>\n",
       "      <td>0.965926</td>\n",
       "    </tr>\n",
       "    <tr>\n",
       "      <th>65117</th>\n",
       "      <td>23</td>\n",
       "      <td>0</td>\n",
       "      <td>1</td>\n",
       "      <td>40.861559</td>\n",
       "      <td>-73.888772</td>\n",
       "      <td>-2.989</td>\n",
       "      <td>90.0</td>\n",
       "      <td>1020.0</td>\n",
       "      <td>2.0</td>\n",
       "      <td>-0.754710</td>\n",
       "      <td>-0.656059</td>\n",
       "      <td>3</td>\n",
       "      <td>-0.433884</td>\n",
       "      <td>-0.900969</td>\n",
       "      <td>-0.258819</td>\n",
       "      <td>0.965926</td>\n",
       "    </tr>\n",
       "  </tbody>\n",
       "</table>\n",
       "<p>65118 rows × 16 columns</p>\n",
       "</div>"
      ],
      "text/plain": [
       "       day  is_weekend  cnt        lat        lon   temp  humid  pressure  \\\n",
       "0        1           1   75  40.761229 -73.929593 -5.100   59.0    1022.0   \n",
       "1        1           1   64  40.708312 -74.013440 -5.100   59.0    1022.0   \n",
       "2        1           1  169  40.692500 -73.991763 -5.100   59.0    1022.0   \n",
       "3        1           1  222  40.653199 -73.784133 -5.100   59.0    1022.0   \n",
       "4        1           1   64  40.837391 -73.941015 -5.100   59.0    1022.0   \n",
       "...    ...         ...  ...        ...        ...    ...    ...       ...   \n",
       "65113   23           0    7  40.645926 -73.955015 -2.989   90.0    1020.0   \n",
       "65114   23           0   12  40.837391 -73.941015 -2.989   90.0    1020.0   \n",
       "65115   23           0    4  40.748088 -73.860623 -2.989   90.0    1020.0   \n",
       "65116   23           0    2  41.011504 -73.751870 -2.989   90.0    1020.0   \n",
       "65117   23           0    1  40.861559 -73.888772 -2.989   90.0    1020.0   \n",
       "\n",
       "       wind_speed    wind_x    wind_y  weather_strength  weekday_sin  \\\n",
       "0             2.0 -0.358368 -0.933580                 0     0.433884   \n",
       "1             2.0 -0.358368 -0.933580                 0     0.433884   \n",
       "2             2.0 -0.358368 -0.933580                 0     0.433884   \n",
       "3             2.0 -0.358368 -0.933580                 0     0.433884   \n",
       "4             2.0 -0.358368 -0.933580                 0     0.433884   \n",
       "...           ...       ...       ...               ...          ...   \n",
       "65113         2.0 -0.754710 -0.656059                 3    -0.433884   \n",
       "65114         2.0 -0.754710 -0.656059                 3    -0.433884   \n",
       "65115         2.0 -0.754710 -0.656059                 3    -0.433884   \n",
       "65116         2.0 -0.754710 -0.656059                 3    -0.433884   \n",
       "65117         2.0 -0.754710 -0.656059                 3    -0.433884   \n",
       "\n",
       "       weekday_cos  hour_sin  hour_cos  \n",
       "0        -0.900969  0.000000  1.000000  \n",
       "1        -0.900969  0.000000  1.000000  \n",
       "2        -0.900969  0.000000  1.000000  \n",
       "3        -0.900969  0.000000  1.000000  \n",
       "4        -0.900969  0.000000  1.000000  \n",
       "...            ...       ...       ...  \n",
       "65113    -0.900969 -0.258819  0.965926  \n",
       "65114    -0.900969 -0.258819  0.965926  \n",
       "65115    -0.900969 -0.258819  0.965926  \n",
       "65116    -0.900969 -0.258819  0.965926  \n",
       "65117    -0.900969 -0.258819  0.965926  \n",
       "\n",
       "[65118 rows x 16 columns]"
      ]
     },
     "execution_count": 13,
     "metadata": {},
     "output_type": "execute_result"
    }
   ],
   "source": [
    "train_df"
   ]
  },
  {
   "cell_type": "code",
   "execution_count": 14,
   "metadata": {
    "id": "wwUigZBTbSbk"
   },
   "outputs": [],
   "source": [
    "y_train = train_df.pop('cnt')\n",
    "x_train = train_df.copy()"
   ]
  },
  {
   "cell_type": "code",
   "execution_count": 15,
   "metadata": {
    "id": "N1f8zSgLbSbk"
   },
   "outputs": [],
   "source": [
    "y_test = test_df.pop('cnt')\n",
    "x_test = test_df.copy()"
   ]
  },
  {
   "cell_type": "markdown",
   "metadata": {},
   "source": [
    "--------------------------------"
   ]
  },
  {
   "cell_type": "markdown",
   "metadata": {
    "id": "1b3h3JNEFwyq"
   },
   "source": [
    "# 모델링 \n",
    "\n",
    "- 시계열 데이터에서 k-fold를 시행하기 위해 **TimeSeriesSplit**을 사용하였습니다.\n",
    "* 참고자료:\n",
    "https://scikit-learn.org/stable/modules/cross_validation.html  <br>\n",
    "https://towardsdatascience.com/time-series-modeling-using-scikit-pandas-and-numpy-682e3b8db8d1"
   ]
  },
  {
   "cell_type": "code",
   "execution_count": 16,
   "metadata": {},
   "outputs": [],
   "source": [
    "from sklearn.model_selection import TimeSeriesSplit\n",
    "from sklearn.model_selection import GridSearchCV, RandomizedSearchCV\n",
    "import sklearn.metrics as metrics\n",
    "from sklearn.metrics import make_scorer"
   ]
  },
  {
   "cell_type": "code",
   "execution_count": 17,
   "metadata": {},
   "outputs": [],
   "source": [
    "n_splits = 5   # 5-fold를 시행하고자\n",
    "tscv = TimeSeriesSplit(n_splits)"
   ]
  },
  {
   "cell_type": "code",
   "execution_count": 18,
   "metadata": {},
   "outputs": [],
   "source": [
    "# 다양한 metric을 계산해서 print하는 함수 정의\n",
    "def regression_results(true_y, pred_y):\n",
    "    \n",
    "    # regression metrics\n",
    "    MAE = metrics.mean_absolute_error(true_y, pred_y)\n",
    "    MSE = metrics.mean_squared_error(true_y, pred_y)\n",
    "    R2 = metrics.r2_score(true_y, pred_y)\n",
    "    #MSLE = metrics.mean_squared_log_error(true_y, pred_y)\n",
    "    MAPE = metrics.mean_absolute_percentage_error(true_y, pred_y)\n",
    "    \n",
    "    print('MAE: %.3f' % MAE)\n",
    "    print('MSE: %.3f' % MSE)\n",
    "    print('RMSE: %.3f' % np.sqrt(MSE))\n",
    "    print('R2: %.3f' % R2)\n",
    "    #print('RMSLE: %.3f' % np.sqrt(MSLE))\n",
    "    print('MAPE: %.3f' % MAPE)"
   ]
  },
  {
   "cell_type": "markdown",
   "metadata": {},
   "source": [
    "## #1. *Gradient Boosting Regressor*\n",
    "\n",
    "https://scikit-learn.org/stable/modules/generated/sklearn.ensemble.GradientBoostingRegressor.html"
   ]
  },
  {
   "cell_type": "markdown",
   "metadata": {},
   "source": [
    "### - *baseline model*"
   ]
  },
  {
   "cell_type": "code",
   "execution_count": 70,
   "metadata": {},
   "outputs": [
    {
     "data": {
      "text/plain": [
       "GradientBoostingRegressor(random_state=1023)"
      ]
     },
     "execution_count": 70,
     "metadata": {},
     "output_type": "execute_result"
    }
   ],
   "source": [
    "from sklearn.ensemble import GradientBoostingRegressor\n",
    "\n",
    "# gradient boosting regressor\n",
    "gbmr = GradientBoostingRegressor(random_state=1023)\n",
    "gbmr.fit(x_train, y_train)"
   ]
  },
  {
   "cell_type": "code",
   "execution_count": 71,
   "metadata": {},
   "outputs": [
    {
     "name": "stdout",
     "output_type": "stream",
     "text": [
      "MAE: 88.186\n",
      "MSE: 28398.645\n",
      "RMSE: 168.519\n",
      "R2: 0.686\n",
      "MAPE: 10.294\n"
     ]
    }
   ],
   "source": [
    "# baseline model의 성능\n",
    "regression_results(y_test, gbmr.predict(x_test))"
   ]
  },
  {
   "cell_type": "markdown",
   "metadata": {},
   "source": [
    "### - *hyperparameter tuning*"
   ]
  },
  {
   "cell_type": "code",
   "execution_count": 74,
   "metadata": {
    "scrolled": true
   },
   "outputs": [
    {
     "data": {
      "text/plain": [
       "RandomizedSearchCV(cv=TimeSeriesSplit(gap=0, max_train_size=None, n_splits=5, test_size=None),\n",
       "                   estimator=GradientBoostingRegressor(random_state=1023),\n",
       "                   param_distributions={'learning_rate': [0.01, 0.03, 0.05],\n",
       "                                        'max_depth': [7, 8, 9, 10, 11, 12, 13,\n",
       "                                                      14]},\n",
       "                   scoring='neg_median_absolute_error')"
      ]
     },
     "execution_count": 74,
     "metadata": {},
     "output_type": "execute_result"
    }
   ],
   "source": [
    "# hyperparameter tuning - max_depth\n",
    "\n",
    "params = {'max_depth': [x for x in range(7, 15)],\n",
    "         'learning_rate': [0.01, 0.03, 0.05]}\n",
    "\n",
    "gs_gbr = RandomizedSearchCV(gbmr, params, cv = tscv, scoring='neg_median_absolute_error')\n",
    "gs_gbr.fit(x_train, y_train)"
   ]
  },
  {
   "cell_type": "code",
   "execution_count": 75,
   "metadata": {},
   "outputs": [
    {
     "name": "stdout",
     "output_type": "stream",
     "text": [
      "best max_depth : 10\n",
      "best learning_rate: 0.05\n",
      "best r2 score: -6.248\n"
     ]
    }
   ],
   "source": [
    "# best parameter, best train score 확인\n",
    "print('best max_depth :', gs_gbr.best_params_['max_depth'])\n",
    "print('best learning_rate:', gs_gbr.best_params_['learning_rate'])\n",
    "print(\"best r2 score: %.3f\" % gs_gbr.best_score_)"
   ]
  },
  {
   "cell_type": "code",
   "execution_count": 77,
   "metadata": {},
   "outputs": [
    {
     "name": "stdout",
     "output_type": "stream",
     "text": [
      "MAE: 40.012\n",
      "MSE: 15476.758\n",
      "RMSE: 124.406\n",
      "R2: 0.829\n",
      "MAPE: 2.396\n"
     ]
    }
   ],
   "source": [
    "# 성능이 baseline보다 더 좋아졌는지 확인\n",
    "regression_results(y_test, gs_gbr.predict(x_test))"
   ]
  },
  {
   "cell_type": "markdown",
   "metadata": {},
   "source": [
    "MAE가 88에서 40으로 절반가량 줄었음. 따라서 최종모델을 이로 결정짓고자"
   ]
  },
  {
   "cell_type": "markdown",
   "metadata": {},
   "source": [
    "### - *최종 모델*"
   ]
  },
  {
   "cell_type": "code",
   "execution_count": 78,
   "metadata": {},
   "outputs": [
    {
     "data": {
      "text/plain": [
       "GradientBoostingRegressor(learning_rate=0.05, max_depth=10, random_state=1023)"
      ]
     },
     "execution_count": 78,
     "metadata": {},
     "output_type": "execute_result"
    }
   ],
   "source": [
    "# 새롭게 적합\n",
    "gbmr_final = GradientBoostingRegressor(max_depth=10, learning_rate=0.05, random_state=1023)\n",
    "gbmr_final.fit(x_train, y_train)"
   ]
  },
  {
   "cell_type": "markdown",
   "metadata": {},
   "source": [
    "### - *feature importances*\n",
    "\n",
    "- 참고: how to visualize feature importanes <br>\n",
    "https://scikit-learn.org/stable/auto_examples/ensemble/plot_gradient_boosting_regression.html"
   ]
  },
  {
   "cell_type": "code",
   "execution_count": 79,
   "metadata": {
    "scrolled": false
   },
   "outputs": [
    {
     "data": {
      "image/png": "[encoded data removed]",
      "text/plain": [
       "<Figure size 864x432 with 1 Axes>"
      ]
     },
     "metadata": {},
     "output_type": "display_data"
    }
   ],
   "source": [
    "# feature의 중요도 파악\n",
    "from sklearn.inspection import permutation_importance\n",
    "\n",
    "feature_importance = gbmr_final.feature_importances_\n",
    "sorted_idx = np.argsort(feature_importance)\n",
    "\n",
    "pos = np.arange(sorted_idx.shape[0]) + .5\n",
    "fig = plt.figure(figsize=(12, 6))\n",
    "plt.barh(pos, feature_importance[sorted_idx], align='center')\n",
    "plt.yticks(pos, np.array(x_train.columns)[sorted_idx])\n",
    "plt.title('Feature Importance (MDI)')\n",
    "\n",
    "plt.show()"
   ]
  },
  {
   "cell_type": "markdown",
   "metadata": {},
   "source": [
    "- lat, lon, 그 뒤로는 hour가 있다.\n",
    "- 즉, 위치가 중요한데 그 중에서도 경도가 더 큰 영향을 끼친다는 것을 알 수 있었다. <br>\n",
    "  이는 뉴욕시가 좌우로 넓게 분포해있기 때문이라고 생각된다."
   ]
  },
  {
   "cell_type": "markdown",
   "metadata": {},
   "source": [
    "---------------------"
   ]
  },
  {
   "cell_type": "markdown",
   "metadata": {},
   "source": [
    "## #2. *Light GBM*\n",
    "\n",
    "https://lightgbm.readthedocs.io/en/latest/pythonapi/lightgbm.LGBMRegressor.html"
   ]
  },
  {
   "cell_type": "markdown",
   "metadata": {},
   "source": [
    "### - *baseline model*"
   ]
  },
  {
   "cell_type": "code",
   "execution_count": 86,
   "metadata": {
    "scrolled": true
   },
   "outputs": [
    {
     "data": {
      "text/plain": [
       "LGBMRegressor(random_state=1023)"
      ]
     },
     "execution_count": 86,
     "metadata": {},
     "output_type": "execute_result"
    }
   ],
   "source": [
    "from lightgbm import LGBMRegressor\n",
    "\n",
    "# train the LightGBM baseline model\n",
    "lgbm_base = LGBMRegressor(random_state = 1023)\n",
    "lgbm_base.fit(x_train, y_train)"
   ]
  },
  {
   "cell_type": "code",
   "execution_count": 87,
   "metadata": {
    "scrolled": false
   },
   "outputs": [
    {
     "name": "stdout",
     "output_type": "stream",
     "text": [
      "MAE: 50.800\n",
      "MSE: 16118.014\n",
      "RMSE: 126.957\n",
      "R2: 0.822\n",
      "MAPE: 4.413\n"
     ]
    }
   ],
   "source": [
    "# baseline model의 성능 확인\n",
    "regression_results(y_test, lgbm_base.predict(x_test))"
   ]
  },
  {
   "cell_type": "markdown",
   "metadata": {},
   "source": [
    "### - *hyperparameter tuning*\n",
    "\n",
    "- 참고사이트 : https://smecsm.tistory.com/133\n",
    "- 최적의 max_depth부터 찾고, 그에 맞춰서 나머지 hyperparameter를 조정해보자!"
   ]
  },
  {
   "cell_type": "markdown",
   "metadata": {},
   "source": [
    "#### ① max_depth"
   ]
  },
  {
   "cell_type": "code",
   "execution_count": 66,
   "metadata": {
    "collapsed": true
   },
   "outputs": [
    {
     "name": "stdout",
     "output_type": "stream",
     "text": [
      "[LightGBM] [Warning] Accuracy may be bad since you didn't explicitly set num_leaves OR 2^max_depth > num_leaves. (num_leaves=31).\n",
      "[LightGBM] [Warning] Accuracy may be bad since you didn't explicitly set num_leaves OR 2^max_depth > num_leaves. (num_leaves=31).\n",
      "[LightGBM] [Warning] Accuracy may be bad since you didn't explicitly set num_leaves OR 2^max_depth > num_leaves. (num_leaves=31).\n",
      "[LightGBM] [Warning] Accuracy may be bad since you didn't explicitly set num_leaves OR 2^max_depth > num_leaves. (num_leaves=31).\n",
      "[LightGBM] [Warning] Accuracy may be bad since you didn't explicitly set num_leaves OR 2^max_depth > num_leaves. (num_leaves=31).\n",
      "[LightGBM] [Warning] Accuracy may be bad since you didn't explicitly set num_leaves OR 2^max_depth > num_leaves. (num_leaves=31).\n",
      "[LightGBM] [Warning] Accuracy may be bad since you didn't explicitly set num_leaves OR 2^max_depth > num_leaves. (num_leaves=31).\n",
      "[LightGBM] [Warning] Accuracy may be bad since you didn't explicitly set num_leaves OR 2^max_depth > num_leaves. (num_leaves=31).\n",
      "[LightGBM] [Warning] Accuracy may be bad since you didn't explicitly set num_leaves OR 2^max_depth > num_leaves. (num_leaves=31).\n",
      "[LightGBM] [Warning] Accuracy may be bad since you didn't explicitly set num_leaves OR 2^max_depth > num_leaves. (num_leaves=31).\n",
      "[LightGBM] [Warning] Accuracy may be bad since you didn't explicitly set num_leaves OR 2^max_depth > num_leaves. (num_leaves=31).\n",
      "[LightGBM] [Warning] Accuracy may be bad since you didn't explicitly set num_leaves OR 2^max_depth > num_leaves. (num_leaves=31).\n",
      "[LightGBM] [Warning] Accuracy may be bad since you didn't explicitly set num_leaves OR 2^max_depth > num_leaves. (num_leaves=31).\n",
      "[LightGBM] [Warning] Accuracy may be bad since you didn't explicitly set num_leaves OR 2^max_depth > num_leaves. (num_leaves=31).\n",
      "[LightGBM] [Warning] Accuracy may be bad since you didn't explicitly set num_leaves OR 2^max_depth > num_leaves. (num_leaves=31).\n",
      "[LightGBM] [Warning] Accuracy may be bad since you didn't explicitly set num_leaves OR 2^max_depth > num_leaves. (num_leaves=31).\n",
      "[LightGBM] [Warning] Accuracy may be bad since you didn't explicitly set num_leaves OR 2^max_depth > num_leaves. (num_leaves=31).\n",
      "[LightGBM] [Warning] Accuracy may be bad since you didn't explicitly set num_leaves OR 2^max_depth > num_leaves. (num_leaves=31).\n",
      "[LightGBM] [Warning] Accuracy may be bad since you didn't explicitly set num_leaves OR 2^max_depth > num_leaves. (num_leaves=31).\n",
      "[LightGBM] [Warning] Accuracy may be bad since you didn't explicitly set num_leaves OR 2^max_depth > num_leaves. (num_leaves=31).\n",
      "[LightGBM] [Warning] Accuracy may be bad since you didn't explicitly set num_leaves OR 2^max_depth > num_leaves. (num_leaves=31).\n",
      "[LightGBM] [Warning] Accuracy may be bad since you didn't explicitly set num_leaves OR 2^max_depth > num_leaves. (num_leaves=31).\n",
      "[LightGBM] [Warning] Accuracy may be bad since you didn't explicitly set num_leaves OR 2^max_depth > num_leaves. (num_leaves=31).\n",
      "[LightGBM] [Warning] Accuracy may be bad since you didn't explicitly set num_leaves OR 2^max_depth > num_leaves. (num_leaves=31).\n",
      "[LightGBM] [Warning] Accuracy may be bad since you didn't explicitly set num_leaves OR 2^max_depth > num_leaves. (num_leaves=31).\n",
      "[LightGBM] [Warning] Accuracy may be bad since you didn't explicitly set num_leaves OR 2^max_depth > num_leaves. (num_leaves=31).\n",
      "[LightGBM] [Warning] Accuracy may be bad since you didn't explicitly set num_leaves OR 2^max_depth > num_leaves. (num_leaves=31).\n",
      "[LightGBM] [Warning] Accuracy may be bad since you didn't explicitly set num_leaves OR 2^max_depth > num_leaves. (num_leaves=31).\n",
      "[LightGBM] [Warning] Accuracy may be bad since you didn't explicitly set num_leaves OR 2^max_depth > num_leaves. (num_leaves=31).\n",
      "[LightGBM] [Warning] Accuracy may be bad since you didn't explicitly set num_leaves OR 2^max_depth > num_leaves. (num_leaves=31).\n",
      "[LightGBM] [Warning] Accuracy may be bad since you didn't explicitly set num_leaves OR 2^max_depth > num_leaves. (num_leaves=31).\n",
      "[LightGBM] [Warning] Accuracy may be bad since you didn't explicitly set num_leaves OR 2^max_depth > num_leaves. (num_leaves=31).\n",
      "[LightGBM] [Warning] Accuracy may be bad since you didn't explicitly set num_leaves OR 2^max_depth > num_leaves. (num_leaves=31).\n",
      "[LightGBM] [Warning] Accuracy may be bad since you didn't explicitly set num_leaves OR 2^max_depth > num_leaves. (num_leaves=31).\n",
      "[LightGBM] [Warning] Accuracy may be bad since you didn't explicitly set num_leaves OR 2^max_depth > num_leaves. (num_leaves=31).\n",
      "[LightGBM] [Warning] Accuracy may be bad since you didn't explicitly set num_leaves OR 2^max_depth > num_leaves. (num_leaves=31).\n",
      "[LightGBM] [Warning] Accuracy may be bad since you didn't explicitly set num_leaves OR 2^max_depth > num_leaves. (num_leaves=31).\n",
      "[LightGBM] [Warning] Accuracy may be bad since you didn't explicitly set num_leaves OR 2^max_depth > num_leaves. (num_leaves=31).\n",
      "[LightGBM] [Warning] Accuracy may be bad since you didn't explicitly set num_leaves OR 2^max_depth > num_leaves. (num_leaves=31).\n",
      "[LightGBM] [Warning] Accuracy may be bad since you didn't explicitly set num_leaves OR 2^max_depth > num_leaves. (num_leaves=31).\n",
      "[LightGBM] [Warning] Accuracy may be bad since you didn't explicitly set num_leaves OR 2^max_depth > num_leaves. (num_leaves=31).\n",
      "[LightGBM] [Warning] Accuracy may be bad since you didn't explicitly set num_leaves OR 2^max_depth > num_leaves. (num_leaves=31).\n",
      "[LightGBM] [Warning] Accuracy may be bad since you didn't explicitly set num_leaves OR 2^max_depth > num_leaves. (num_leaves=31).\n",
      "[LightGBM] [Warning] Accuracy may be bad since you didn't explicitly set num_leaves OR 2^max_depth > num_leaves. (num_leaves=31).\n",
      "[LightGBM] [Warning] Accuracy may be bad since you didn't explicitly set num_leaves OR 2^max_depth > num_leaves. (num_leaves=31).\n",
      "[LightGBM] [Warning] Accuracy may be bad since you didn't explicitly set num_leaves OR 2^max_depth > num_leaves. (num_leaves=31).\n",
      "[LightGBM] [Warning] Accuracy may be bad since you didn't explicitly set num_leaves OR 2^max_depth > num_leaves. (num_leaves=31).\n",
      "[LightGBM] [Warning] Accuracy may be bad since you didn't explicitly set num_leaves OR 2^max_depth > num_leaves. (num_leaves=31).\n",
      "[LightGBM] [Warning] Accuracy may be bad since you didn't explicitly set num_leaves OR 2^max_depth > num_leaves. (num_leaves=31).\n",
      "[LightGBM] [Warning] Accuracy may be bad since you didn't explicitly set num_leaves OR 2^max_depth > num_leaves. (num_leaves=31).\n",
      "[LightGBM] [Warning] Accuracy may be bad since you didn't explicitly set num_leaves OR 2^max_depth > num_leaves. (num_leaves=31).\n",
      "[LightGBM] [Warning] Accuracy may be bad since you didn't explicitly set num_leaves OR 2^max_depth > num_leaves. (num_leaves=31).\n",
      "[LightGBM] [Warning] Accuracy may be bad since you didn't explicitly set num_leaves OR 2^max_depth > num_leaves. (num_leaves=31).\n",
      "[LightGBM] [Warning] Accuracy may be bad since you didn't explicitly set num_leaves OR 2^max_depth > num_leaves. (num_leaves=31).\n",
      "[LightGBM] [Warning] Accuracy may be bad since you didn't explicitly set num_leaves OR 2^max_depth > num_leaves. (num_leaves=31).\n",
      "[LightGBM] [Warning] Accuracy may be bad since you didn't explicitly set num_leaves OR 2^max_depth > num_leaves. (num_leaves=31).\n"
     ]
    },
    {
     "data": {
      "text/plain": [
       "GridSearchCV(cv=TimeSeriesSplit(gap=0, max_train_size=None, n_splits=5, test_size=None),\n",
       "             estimator=LGBMRegressor(random_state=1023),\n",
       "             param_grid={'max_depth': [10, 11, 12, 13, 14, 15, 16, 17, 18, 19,\n",
       "                                       20]},\n",
       "             scoring='neg_median_absolute_error')"
      ]
     },
     "execution_count": 66,
     "metadata": {},
     "output_type": "execute_result"
    }
   ],
   "source": [
    "# hyperparameter tuning - max_depth\n",
    "lgbmr = LGBMRegressor(random_state=1023)\n",
    "\n",
    "param = {'max_depth' : [x for x in range(10, 21)]}\n",
    "\n",
    "depth_gs = GridSearchCV(lgbmr, param, cv=tscv, scoring='neg_median_absolute_error')\n",
    "depth_gs.fit(x_train, y_train)"
   ]
  },
  {
   "cell_type": "code",
   "execution_count": 67,
   "metadata": {},
   "outputs": [
    {
     "name": "stdout",
     "output_type": "stream",
     "text": [
      "best max_depth: 17\n",
      "best r2 score: -11.679\n"
     ]
    }
   ],
   "source": [
    "# best parameter 확인\n",
    "print('best max_depth:', depth_gs.best_params_['max_depth'])\n",
    "print('best r2 score: %.3f' % depth_gs.best_score_)"
   ]
  },
  {
   "cell_type": "code",
   "execution_count": 68,
   "metadata": {},
   "outputs": [
    {
     "name": "stdout",
     "output_type": "stream",
     "text": [
      "MAE: 49.732\n",
      "MSE: 15792.406\n",
      "RMSE: 125.668\n",
      "R2: 0.825\n",
      "MAPE: 4.124\n"
     ]
    }
   ],
   "source": [
    "# 그때의 성능 확인\n",
    "regression_results(y_test, depth_gs.predict(x_test))"
   ]
  },
  {
   "cell_type": "markdown",
   "metadata": {},
   "source": [
    "최적의 max_depth는 17임을 확인. <br>\n",
    "그에 알맞게 num_leaves를 튜닝해보자.\n",
    "- 이때 num_leaves를 2^max_depth보다 작게 설정해야 overfitting을 막을 수 있으므로, 대략 범위를 1000에서 2000으로 잡아보자."
   ]
  },
  {
   "cell_type": "markdown",
   "metadata": {},
   "source": [
    "#### ② num_leaves"
   ]
  },
  {
   "cell_type": "code",
   "execution_count": 25,
   "metadata": {},
   "outputs": [
    {
     "data": {
      "text/plain": [
       "GridSearchCV(cv=TimeSeriesSplit(gap=0, max_train_size=None, n_splits=5, test_size=None),\n",
       "             estimator=LGBMRegressor(random_state=1023),\n",
       "             param_grid={'max_depth': [17],\n",
       "                         'num_leaves': [1900, 1905, 1910, 1915, 1920, 1925,\n",
       "                                        1930, 1935, 1940, 1945, 1950]},\n",
       "             scoring='neg_median_absolute_error')"
      ]
     },
     "execution_count": 25,
     "metadata": {},
     "output_type": "execute_result"
    }
   ],
   "source": [
    "# hyperparameter tuning - num_leaves\n",
    "\n",
    "param = {'max_depth' : [17],\n",
    "         'num_leaves' : [x for x in range(1900, 1955, 5)]}\n",
    "\n",
    "num_leaves_gs = GridSearchCV(lgbmr, param, cv=tscv, scoring='neg_median_absolute_error')\n",
    "num_leaves_gs.fit(x_train, y_train)"
   ]
  },
  {
   "cell_type": "code",
   "execution_count": 26,
   "metadata": {},
   "outputs": [
    {
     "name": "stdout",
     "output_type": "stream",
     "text": [
      "best num_leaves : 1920\n",
      "best r2 score : -6.722\n"
     ]
    }
   ],
   "source": [
    "# 최적의 num_leaves 확인\n",
    "print('best num_leaves :', num_leaves_gs.best_params_['num_leaves'])\n",
    "print('best r2 score : %.3f' % num_leaves_gs.best_score_)"
   ]
  },
  {
   "cell_type": "code",
   "execution_count": 27,
   "metadata": {},
   "outputs": [
    {
     "name": "stdout",
     "output_type": "stream",
     "text": [
      "MAE: 39.120\n",
      "MSE: 15724.602\n",
      "RMSE: 125.398\n",
      "R2: 0.826\n",
      "MAPE: 2.273\n"
     ]
    }
   ],
   "source": [
    "# 그때의 성능 확인\n",
    "regression_results(y_test, num_leaves_gs.predict(x_test))"
   ]
  },
  {
   "cell_type": "markdown",
   "metadata": {},
   "source": [
    "#### ③ min_child_samples"
   ]
  },
  {
   "cell_type": "code",
   "execution_count": 105,
   "metadata": {},
   "outputs": [
    {
     "data": {
      "text/plain": [
       "GridSearchCV(cv=TimeSeriesSplit(gap=0, max_train_size=None, n_splits=5, test_size=None),\n",
       "             estimator=LGBMRegressor(random_state=1023),\n",
       "             param_grid={'max_depth': [17],\n",
       "                         'min_child_samples': [1, 2, 3, 4, 5, 6, 7, 8, 9, 10,\n",
       "                                               11, 12, 13, 14, 15, 16, 17, 18,\n",
       "                                               19, 20, 21, 22, 23, 24, 25, 26,\n",
       "                                               27, 28, 29, 30],\n",
       "                         'num_leaves': [1920]},\n",
       "             scoring='neg_median_absolute_error')"
      ]
     },
     "execution_count": 105,
     "metadata": {},
     "output_type": "execute_result"
    }
   ],
   "source": [
    "# hyperparameter tuning - min_child_samples\n",
    "param = {'max_depth' : [17],\n",
    "        'num_leaves' : [1920],\n",
    "        'min_child_samples' : [x for x in range(1, 31)]}\n",
    "\n",
    "min_child_gs = GridSearchCV(lgbmr, param, cv=tscv, scoring='neg_median_absolute_error')\n",
    "min_child_gs.fit(x_train, y_train)"
   ]
  },
  {
   "cell_type": "code",
   "execution_count": 107,
   "metadata": {
    "scrolled": true
   },
   "outputs": [
    {
     "name": "stdout",
     "output_type": "stream",
     "text": [
      "best min_child_samples : 2\n",
      "best r2 score : -4.729\n"
     ]
    }
   ],
   "source": [
    "# 최적의 min_child_samples 확인\n",
    "print('best min_child_samples :', min_child_gs.best_params_['min_child_samples'])\n",
    "print('best r2 score : %.3f' % min_child_gs.best_score_)"
   ]
  },
  {
   "cell_type": "code",
   "execution_count": 108,
   "metadata": {},
   "outputs": [
    {
     "name": "stdout",
     "output_type": "stream",
     "text": [
      "MAE: 39.125\n",
      "MSE: 16295.169\n",
      "RMSE: 127.653\n",
      "R2: 0.820\n",
      "MAPE: 1.948\n"
     ]
    }
   ],
   "source": [
    "# 그때의 성능 확인\n",
    "regression_results(y_test, min_child_gs.predict(x_test))"
   ]
  },
  {
   "cell_type": "markdown",
   "metadata": {},
   "source": [
    "#### ④ 그 외"
   ]
  },
  {
   "cell_type": "code",
   "execution_count": 28,
   "metadata": {},
   "outputs": [
    {
     "data": {
      "text/plain": [
       "RandomizedSearchCV(cv=TimeSeriesSplit(gap=0, max_train_size=None, n_splits=5, test_size=None),\n",
       "                   estimator=LGBMRegressor(random_state=1023),\n",
       "                   param_distributions={'learning_rate': [0.01, 0.05, 0.001],\n",
       "                                        'max_depth': [17],\n",
       "                                        'min_child_samples': [2],\n",
       "                                        'n_estimators': [800, 805, 810, 815,\n",
       "                                                         820, 825, 830, 835,\n",
       "                                                         840, 845],\n",
       "                                        'num_leaves': [1920]},\n",
       "                   scoring='neg_median_absolute_error')"
      ]
     },
     "execution_count": 28,
     "metadata": {},
     "output_type": "execute_result"
    }
   ],
   "source": [
    "# hyperparameter tuning - else\n",
    "# 이건 시간이 오래 걸릴 거 같아서 randomizedsearchcv 사용\n",
    "param = {'max_depth' : [17],\n",
    "         'num_leaves' : [1920],\n",
    "         'min_child_samples' : [2],\n",
    "         'n_estimators': [x for x in range(800, 850, 5)],\n",
    "         'learning_rate' : [0.01, 0.05, 0.001]}\n",
    "\n",
    "else_gs = RandomizedSearchCV(lgbmr, param, cv=tscv, scoring='neg_median_absolute_error')\n",
    "else_gs.fit(x_train, y_train)"
   ]
  },
  {
   "cell_type": "code",
   "execution_count": 29,
   "metadata": {},
   "outputs": [
    {
     "name": "stdout",
     "output_type": "stream",
     "text": [
      "best n_estimators : 805\n",
      "best learning_rate: 0.01\n",
      "best r2 score : -4.734\n"
     ]
    }
   ],
   "source": [
    "# 최적값 확인\n",
    "print('best n_estimators :', else_gs.best_params_['n_estimators'])\n",
    "print('best learning_rate:', else_gs.best_params_['learning_rate'])\n",
    "print('best r2 score : %.3f' % else_gs.best_score_)"
   ]
  },
  {
   "cell_type": "code",
   "execution_count": 30,
   "metadata": {},
   "outputs": [
    {
     "name": "stdout",
     "output_type": "stream",
     "text": [
      "MAE: 38.909\n",
      "MSE: 16154.185\n",
      "RMSE: 127.099\n",
      "R2: 0.821\n",
      "MAPE: 1.932\n"
     ]
    }
   ],
   "source": [
    "# 그때의 성능 확인\n",
    "regression_results(y_test, else_gs.predict(x_test))"
   ]
  },
  {
   "cell_type": "markdown",
   "metadata": {},
   "source": [
    "baseline model과 비교해보았을 때, MAE 값이 50.8에서 38.9까지로 떨어진 것으로 보아 성능이 꽤 향상되었다. <br>\n",
    "따라서 최종 모델을, hyperparameter 값을 다음과 같이 정한 것으로 하고자. <br>\n",
    "> *{ 'learning_rate' : 0.01, 'max_depth' : 17, 'min_child_samples' : 2, 'n_estimators' : 805, 'num_leaves' : 1920 }*"
   ]
  },
  {
   "cell_type": "code",
   "execution_count": 33,
   "metadata": {},
   "outputs": [
    {
     "data": {
      "text/plain": [
       "LGBMRegressor(learning_rate=0.01, max_depth=17, min_child_samples=2,\n",
       "              n_estimators=805, num_leaves=1920, random_state=1023)"
      ]
     },
     "execution_count": 33,
     "metadata": {},
     "output_type": "execute_result"
    }
   ],
   "source": [
    "lgbmr_final = LGBMRegressor(learning_rate=0.01, max_depth=17, min_child_samples=2,\n",
    "                            n_estimators=805, num_leaves=1920, random_state=1023)\n",
    "lgbmr_final.fit(x_train, y_train)"
   ]
  },
  {
   "cell_type": "markdown",
   "metadata": {},
   "source": [
    "### - *feature importances*"
   ]
  },
  {
   "cell_type": "code",
   "execution_count": 35,
   "metadata": {
    "scrolled": false
   },
   "outputs": [
    {
     "data": {
      "text/plain": [
       "<AxesSubplot:title={'center':'Feature importance'}, xlabel='Feature importance', ylabel='Features'>"
      ]
     },
     "execution_count": 35,
     "metadata": {},
     "output_type": "execute_result"
    },
    {
     "data": {
      "image/png": "[encoded data removed]",
      "text/plain": [
       "<Figure size 864x432 with 1 Axes>"
      ]
     },
     "metadata": {},
     "output_type": "display_data"
    }
   ],
   "source": [
    "# 변수 중요성 파악\n",
    "import lightgbm as lgb\n",
    "lgb.plot_importance(lgbmr_final, figsize=(12,6))"
   ]
  },
  {
   "cell_type": "markdown",
   "metadata": {},
   "source": [
    "- gradient boosting regressor에서와는 다르게 시간이 좀 더 중요한 역할을 끼쳤음을 알 수 있다. 그러나 그 다음으로 lat이 있는 걸 보아 모델이 달라졌긴 하지만 그럼에도 여전히 lat은 중요한 feature임을 알 수 있다.\n",
    "- 비의 정도가 택시 사용량에 큰 영향을 끼칠 것이라고 생각했으나, 예상과 다르게 오히려 기온이 더 중요함을 알 수 있었다.\n",
    "  - weather_strength에 비의 정도?가 포함되는데 이 feature가 끼치는 정도가 제일 작은 걸로 봐서는 영향을 거의 안 미친다고 봐야"
   ]
  },
  {
   "cell_type": "markdown",
   "metadata": {},
   "source": [
    "------\n",
    "\n",
    "## Kfold & GridSeachCV 적용"
   ]
  },
  {
   "cell_type": "markdown",
   "metadata": {},
   "source": [
    "### - *split train, test set*"
   ]
  },
  {
   "cell_type": "code",
   "execution_count": 47,
   "metadata": {},
   "outputs": [],
   "source": [
    "# 지정해준 date를 기점으로 train과 test set을 split\n",
    "# 새롭게 함수 정의 - 앞의 함수랑 다른 거임 !\n",
    "def split_train_and_test(df, date):\n",
    "    \"\"\"\n",
    "    Dataframe에서 train_df, test_df로 나눠주는 함수\n",
    "    \n",
    "    df : 시계열 데이터 프레임\n",
    "    date : 기준점 날짜\n",
    "    \"\"\"\n",
    "    train_df = df[df['day'] < date]\n",
    "    test_df = df[df['day'] >= date]\n",
    "    return train_df, test_df"
   ]
  },
  {
   "cell_type": "code",
   "execution_count": 50,
   "metadata": {
    "scrolled": false
   },
   "outputs": [],
   "source": [
    "# GridSearchCV를 적용하기 위해서 data의 수를 줄여보자 ..!\n",
    "\n",
    "# 앞에서와 마찬가지로 24일을 기점으로 나눠주자!\n",
    "train_df_new, test_df_new = split_train_and_test(df, 24)\n",
    "# 그런 다음에 요일, 시간대별로 cnt를 평균낸 dataframe을 이용하고자\n",
    "train_df_new = train_df_new.groupby(['day', 'hour_sin', 'hour_cos']).mean().reset_index()\n",
    "test_df_new = test_df_new.groupby(['day', 'hour_sin', 'hour_cos']).mean().reset_index()"
   ]
  },
  {
   "cell_type": "code",
   "execution_count": 53,
   "metadata": {},
   "outputs": [],
   "source": [
    "y_train_new = train_df_new.pop('cnt')\n",
    "x_train_new = train_df_new.copy()"
   ]
  },
  {
   "cell_type": "code",
   "execution_count": 54,
   "metadata": {},
   "outputs": [],
   "source": [
    "y_test_new = test_df_new.pop('cnt')\n",
    "x_test_new = test_df_new.copy()"
   ]
  },
  {
   "cell_type": "markdown",
   "metadata": {},
   "source": [
    "### - *hyperparameter tuning*"
   ]
  },
  {
   "cell_type": "code",
   "execution_count": 62,
   "metadata": {},
   "outputs": [
    {
     "data": {
      "text/plain": [
       "GridSearchCV(cv=KFold(n_splits=5, random_state=None, shuffle=False),\n",
       "             estimator=GradientBoostingRegressor(random_state=1023),\n",
       "             param_grid={'learning_rate': [0.01, 0.05, 0.001],\n",
       "                         'max_depth': [7, 10, 13]},\n",
       "             scoring='neg_median_absolute_error')"
      ]
     },
     "execution_count": 62,
     "metadata": {},
     "output_type": "execute_result"
    }
   ],
   "source": [
    "from sklearn.model_selection import KFold\n",
    "\n",
    "# lightgbm 모델의 경우, 과적합 문제로 인해 데이터 수가 10000개 이상일 때 권장되고 있음\n",
    "# 따라서 lightgbm 대신에 gbm regressor 모델을 사용하고자.\n",
    "\n",
    "params = {'max_depth': [7, 10, 13],\n",
    "          'learning_rate': [0.01, 0.05, 0.001]}\n",
    "\n",
    "cv = KFold(n_splits=5)\n",
    "\n",
    "gs = GridSearchCV(gbmr, params, cv=cv, scoring='neg_median_absolute_error')\n",
    "gs.fit(x_train_new, y_train_new)"
   ]
  },
  {
   "cell_type": "code",
   "execution_count": 64,
   "metadata": {
    "scrolled": true
   },
   "outputs": [
    {
     "name": "stdout",
     "output_type": "stream",
     "text": [
      "best max_depth : 7\n",
      "best learning_rate : 0.05\n",
      "best r2 score : -14.004\n"
     ]
    }
   ],
   "source": [
    "# 최적값 확인\n",
    "print('best max_depth :', gs.best_params_['max_depth'])\n",
    "print('best learning_rate :', gs.best_params_['learning_rate'])\n",
    "print('best r2 score : %.3f' % gs.best_score_)"
   ]
  },
  {
   "cell_type": "markdown",
   "metadata": {},
   "source": [
    "### - *모델 성능 평가*"
   ]
  },
  {
   "cell_type": "code",
   "execution_count": 65,
   "metadata": {},
   "outputs": [
    {
     "name": "stdout",
     "output_type": "stream",
     "text": [
      "MAE: 33.233\n",
      "MSE: 3138.564\n",
      "RMSE: 56.023\n",
      "R2: 0.415\n",
      "MAPE: 1.806\n"
     ]
    }
   ],
   "source": [
    "# 성능 확인\n",
    "regression_results(y_test_new, gs.predict(x_test_new))"
   ]
  }
 ],
 "metadata": {
  "accelerator": "GPU",
  "colab": {
   "collapsed_sections": [
    "vfjUL0DKgSRj"
   ],
   "name": "Session_06) 모델링.ipynb",
   "provenance": []
  },
  "kernelspec": {
   "display_name": "Python 3",
   "language": "python",
   "name": "python3"
  },
  "language_info": {
   "codemirror_mode": {
    "name": "ipython",
    "version": 3
   },
   "file_extension": ".py",
   "mimetype": "text/x-python",
   "name": "python",
   "nbconvert_exporter": "python",
   "pygments_lexer": "ipython3",
   "version": "3.8.5"
  }
 },
 "nbformat": 4,
 "nbformat_minor": 1
}
