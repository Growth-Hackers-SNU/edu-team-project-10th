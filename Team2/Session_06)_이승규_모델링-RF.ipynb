{
 "cells": [
  {
   "cell_type": "code",
   "execution_count": 1,
   "metadata": {
    "id": "3O5XJS1HhOcS"
   },
   "outputs": [],
   "source": [
    "import numpy as np\n",
    "import pandas as pd\n",
    "import matplotlib.pyplot as plt \n",
    "import seaborn as sns \n",
    "import sys\n",
    "\n",
    "#경고창이 뜨지 않도록 해주는 것\n",
    "import warnings\n",
    "warnings.filterwarnings('ignore')\n",
    "\n",
    "# notebook을 실행한 브라우저에서 바로 그림을 볼 수 있게 해주는 것\n",
    "%matplotlib inline "
   ]
  },
  {
   "cell_type": "code",
   "execution_count": 2,
   "metadata": {
    "id": "yMx2NCl4hOcZ"
   },
   "outputs": [],
   "source": [
    "import platform                \n",
    "\n",
    "from matplotlib import font_manager, rc\n",
    "plt.rcParams['axes.unicode_minus']= False\n",
    "\n",
    "if platform.system() == 'Darwin': #맥os 사용자의 경우에\n",
    "    plt.style.use('seaborn-darkgrid') \n",
    "    rc('font', family = 'AppleGothic')\n",
    "    \n",
    "elif platform.system() == 'Windows':#윈도우 사용자의 경우에\n",
    "    path = 'c:/Windows/Fonts/malgun.ttf'\n",
    "    font_name = font_manager.FontProperties(fname=path).get_name()\n",
    "    plt.style.use('seaborn-darkgrid') # https://python-graph-gallery.com/199-matplotlib-style-sheets/\n",
    "    rc('font', family=font_name)"
   ]
  },
  {
   "cell_type": "code",
   "execution_count": 19,
   "metadata": {},
   "outputs": [],
   "source": [
    "from sklearn.model_selection import KFold\n",
    "from sklearn.model_selection import cross_val_score\n",
    "from sklearn.ensemble import RandomForestRegressor\n",
    "from sklearn.preprocessing import StandardScaler\n",
    "from sklearn.preprocessing import MinMaxScaler\n",
    "from sklearn.preprocessing import RobustScaler\n",
    "from sklearn.model_selection import GridSearchCV"
   ]
  },
  {
   "cell_type": "code",
   "execution_count": 4,
   "metadata": {
    "colab": {
     "base_uri": "https://localhost:8080/",
     "height": 414
    },
    "executionInfo": {
     "elapsed": 363,
     "status": "ok",
     "timestamp": 1631857040436,
     "user": {
      "displayName": "그로스해커스모두",
      "photoUrl": "https://lh3.googleusercontent.com/a/default-user=s64",
      "userId": "16814293870053642265"
     },
     "user_tz": -540
    },
    "id": "TZt0vTk2LFpf",
    "outputId": "b37043bd-0791-46c3-8fd0-183607be3837"
   },
   "outputs": [],
   "source": [
    "df = pd.read_csv('NYC_taxi_extra_info.csv')"
   ]
  },
  {
   "cell_type": "code",
   "execution_count": 5,
   "metadata": {},
   "outputs": [],
   "source": [
    "df['weekday_sin']=np.sin(2*np.pi*df.weekday/7)\n",
    "df['weekday_cos']=np.cos(2*np.pi*df.weekday/7)\n",
    "df['hour_sin']=np.sin(2*np.pi*df.hour/24)\n",
    "df['hour_cos']=np.cos(2*np.pi*df.hour/24)"
   ]
  },
  {
   "cell_type": "code",
   "execution_count": 6,
   "metadata": {},
   "outputs": [],
   "source": [
    "df['pickup_hour'] = pd.to_datetime(df['pickup_hour'])\n",
    "df['zip_code'] = df['zip_code'].astype(str) "
   ]
  },
  {
   "cell_type": "code",
   "execution_count": 7,
   "metadata": {},
   "outputs": [
    {
     "name": "stdout",
     "output_type": "stream",
     "text": [
      "<class 'pandas.core.frame.DataFrame'>\n",
      "RangeIndex: 87020 entries, 0 to 87019\n",
      "Data columns (total 27 columns):\n",
      " #   Column            Non-Null Count  Dtype         \n",
      "---  ------            --------------  -----         \n",
      " 0   zip_code          87020 non-null  object        \n",
      " 1   pickup_hour       87020 non-null  datetime64[ns]\n",
      " 2   month             87020 non-null  int64         \n",
      " 3   day               87020 non-null  int64         \n",
      " 4   weekday           87020 non-null  int64         \n",
      " 5   hour              87020 non-null  int64         \n",
      " 6   is_weekend        87020 non-null  int64         \n",
      " 7   cnt               87020 non-null  int64         \n",
      " 8   lat               87020 non-null  float64       \n",
      " 9   lon               87020 non-null  float64       \n",
      " 10  temp              87020 non-null  float64       \n",
      " 11  humid             87020 non-null  float64       \n",
      " 12  pressure          87020 non-null  float64       \n",
      " 13  wind_direction    87020 non-null  float64       \n",
      " 14  wind_speed        87020 non-null  float64       \n",
      " 15  des               87020 non-null  object        \n",
      " 16  wind_x            87020 non-null  float64       \n",
      " 17  wind_y            87020 non-null  float64       \n",
      " 18  is_raining        87020 non-null  int64         \n",
      " 19  is_snowing        87020 non-null  int64         \n",
      " 20  is_cloudy         87020 non-null  int64         \n",
      " 21  is_clear          87020 non-null  int64         \n",
      " 22  weather_strength  87020 non-null  int64         \n",
      " 23  weekday_sin       87020 non-null  float64       \n",
      " 24  weekday_cos       87020 non-null  float64       \n",
      " 25  hour_sin          87020 non-null  float64       \n",
      " 26  hour_cos          87020 non-null  float64       \n",
      "dtypes: datetime64[ns](1), float64(13), int64(11), object(2)\n",
      "memory usage: 17.9+ MB\n"
     ]
    }
   ],
   "source": [
    "df.info()"
   ]
  },
  {
   "cell_type": "code",
   "execution_count": 8,
   "metadata": {},
   "outputs": [
    {
     "data": {
      "text/plain": [
       "Index(['zip_code', 'pickup_hour', 'month', 'day', 'weekday', 'hour',\n",
       "       'is_weekend', 'cnt', 'lat', 'lon', 'temp', 'humid', 'pressure',\n",
       "       'wind_direction', 'wind_speed', 'des', 'wind_x', 'wind_y', 'is_raining',\n",
       "       'is_snowing', 'is_cloudy', 'is_clear', 'weather_strength',\n",
       "       'weekday_sin', 'weekday_cos', 'hour_sin', 'hour_cos'],\n",
       "      dtype='object')"
      ]
     },
     "execution_count": 8,
     "metadata": {},
     "output_type": "execute_result"
    }
   ],
   "source": [
    "df.columns"
   ]
  },
  {
   "cell_type": "code",
   "execution_count": 16,
   "metadata": {},
   "outputs": [],
   "source": [
    "x=df[[ 'lat', 'lon', 'temp','weather_strength','weekday_sin', 'weekday_cos', 'hour_sin', 'hour_cos', 'is_weekend' ]]\n",
    "y=df['cnt']\n",
    "\n",
    "#[ 'weekday_sin', 'weekday_cos', 'hour_sin', 'hour_cos', 'is_weekend', 'lat', 'lon', 'temp', 'is_raining', 'is_snowing', 'is_cloudy', 'is_clear', 'weather_strength']"
   ]
  },
  {
   "cell_type": "code",
   "execution_count": 17,
   "metadata": {},
   "outputs": [
    {
     "data": {
      "text/html": [
       "<div>\n",
       "<style scoped>\n",
       "    .dataframe tbody tr th:only-of-type {\n",
       "        vertical-align: middle;\n",
       "    }\n",
       "\n",
       "    .dataframe tbody tr th {\n",
       "        vertical-align: top;\n",
       "    }\n",
       "\n",
       "    .dataframe thead th {\n",
       "        text-align: right;\n",
       "    }\n",
       "</style>\n",
       "<table border=\"1\" class=\"dataframe\">\n",
       "  <thead>\n",
       "    <tr style=\"text-align: right;\">\n",
       "      <th></th>\n",
       "      <th>lat</th>\n",
       "      <th>lon</th>\n",
       "      <th>temp</th>\n",
       "      <th>weather_strength</th>\n",
       "      <th>weekday_sin</th>\n",
       "      <th>weekday_cos</th>\n",
       "      <th>hour_sin</th>\n",
       "      <th>hour_cos</th>\n",
       "      <th>is_weekend</th>\n",
       "    </tr>\n",
       "  </thead>\n",
       "  <tbody>\n",
       "    <tr>\n",
       "      <th>0</th>\n",
       "      <td>40.761229</td>\n",
       "      <td>-73.929593</td>\n",
       "      <td>-5.100000</td>\n",
       "      <td>0</td>\n",
       "      <td>0.433884</td>\n",
       "      <td>-0.900969</td>\n",
       "      <td>0.000000</td>\n",
       "      <td>1.000000</td>\n",
       "      <td>1</td>\n",
       "    </tr>\n",
       "    <tr>\n",
       "      <th>1</th>\n",
       "      <td>40.708312</td>\n",
       "      <td>-74.013440</td>\n",
       "      <td>-5.100000</td>\n",
       "      <td>0</td>\n",
       "      <td>0.433884</td>\n",
       "      <td>-0.900969</td>\n",
       "      <td>0.000000</td>\n",
       "      <td>1.000000</td>\n",
       "      <td>1</td>\n",
       "    </tr>\n",
       "    <tr>\n",
       "      <th>2</th>\n",
       "      <td>40.692500</td>\n",
       "      <td>-73.991763</td>\n",
       "      <td>-5.100000</td>\n",
       "      <td>0</td>\n",
       "      <td>0.433884</td>\n",
       "      <td>-0.900969</td>\n",
       "      <td>0.000000</td>\n",
       "      <td>1.000000</td>\n",
       "      <td>1</td>\n",
       "    </tr>\n",
       "    <tr>\n",
       "      <th>3</th>\n",
       "      <td>40.653199</td>\n",
       "      <td>-73.784133</td>\n",
       "      <td>-5.100000</td>\n",
       "      <td>0</td>\n",
       "      <td>0.433884</td>\n",
       "      <td>-0.900969</td>\n",
       "      <td>0.000000</td>\n",
       "      <td>1.000000</td>\n",
       "      <td>1</td>\n",
       "    </tr>\n",
       "    <tr>\n",
       "      <th>4</th>\n",
       "      <td>40.837391</td>\n",
       "      <td>-73.941015</td>\n",
       "      <td>-5.100000</td>\n",
       "      <td>0</td>\n",
       "      <td>0.433884</td>\n",
       "      <td>-0.900969</td>\n",
       "      <td>0.000000</td>\n",
       "      <td>1.000000</td>\n",
       "      <td>1</td>\n",
       "    </tr>\n",
       "    <tr>\n",
       "      <th>...</th>\n",
       "      <td>...</td>\n",
       "      <td>...</td>\n",
       "      <td>...</td>\n",
       "      <td>...</td>\n",
       "      <td>...</td>\n",
       "      <td>...</td>\n",
       "      <td>...</td>\n",
       "      <td>...</td>\n",
       "      <td>...</td>\n",
       "    </tr>\n",
       "    <tr>\n",
       "      <th>87015</th>\n",
       "      <td>40.632650</td>\n",
       "      <td>-73.996601</td>\n",
       "      <td>-6.175519</td>\n",
       "      <td>0</td>\n",
       "      <td>-0.974928</td>\n",
       "      <td>-0.222521</td>\n",
       "      <td>-0.258819</td>\n",
       "      <td>0.965926</td>\n",
       "      <td>1</td>\n",
       "    </tr>\n",
       "    <tr>\n",
       "      <th>87016</th>\n",
       "      <td>40.829743</td>\n",
       "      <td>-73.908570</td>\n",
       "      <td>-6.175519</td>\n",
       "      <td>0</td>\n",
       "      <td>-0.974928</td>\n",
       "      <td>-0.222521</td>\n",
       "      <td>-0.258819</td>\n",
       "      <td>0.965926</td>\n",
       "      <td>1</td>\n",
       "    </tr>\n",
       "    <tr>\n",
       "      <th>87017</th>\n",
       "      <td>40.750423</td>\n",
       "      <td>-73.819936</td>\n",
       "      <td>-6.175519</td>\n",
       "      <td>0</td>\n",
       "      <td>-0.974928</td>\n",
       "      <td>-0.222521</td>\n",
       "      <td>-0.258819</td>\n",
       "      <td>0.965926</td>\n",
       "      <td>1</td>\n",
       "    </tr>\n",
       "    <tr>\n",
       "      <th>87018</th>\n",
       "      <td>40.627427</td>\n",
       "      <td>-73.945651</td>\n",
       "      <td>-6.175519</td>\n",
       "      <td>0</td>\n",
       "      <td>-0.974928</td>\n",
       "      <td>-0.222521</td>\n",
       "      <td>-0.258819</td>\n",
       "      <td>0.965926</td>\n",
       "      <td>1</td>\n",
       "    </tr>\n",
       "    <tr>\n",
       "      <th>87019</th>\n",
       "      <td>40.754649</td>\n",
       "      <td>-73.974771</td>\n",
       "      <td>-6.175519</td>\n",
       "      <td>0</td>\n",
       "      <td>-0.974928</td>\n",
       "      <td>-0.222521</td>\n",
       "      <td>-0.258819</td>\n",
       "      <td>0.965926</td>\n",
       "      <td>1</td>\n",
       "    </tr>\n",
       "  </tbody>\n",
       "</table>\n",
       "<p>87020 rows × 9 columns</p>\n",
       "</div>"
      ],
      "text/plain": [
       "             lat        lon      temp  weather_strength  weekday_sin  \\\n",
       "0      40.761229 -73.929593 -5.100000                 0     0.433884   \n",
       "1      40.708312 -74.013440 -5.100000                 0     0.433884   \n",
       "2      40.692500 -73.991763 -5.100000                 0     0.433884   \n",
       "3      40.653199 -73.784133 -5.100000                 0     0.433884   \n",
       "4      40.837391 -73.941015 -5.100000                 0     0.433884   \n",
       "...          ...        ...       ...               ...          ...   \n",
       "87015  40.632650 -73.996601 -6.175519                 0    -0.974928   \n",
       "87016  40.829743 -73.908570 -6.175519                 0    -0.974928   \n",
       "87017  40.750423 -73.819936 -6.175519                 0    -0.974928   \n",
       "87018  40.627427 -73.945651 -6.175519                 0    -0.974928   \n",
       "87019  40.754649 -73.974771 -6.175519                 0    -0.974928   \n",
       "\n",
       "       weekday_cos  hour_sin  hour_cos  is_weekend  \n",
       "0        -0.900969  0.000000  1.000000           1  \n",
       "1        -0.900969  0.000000  1.000000           1  \n",
       "2        -0.900969  0.000000  1.000000           1  \n",
       "3        -0.900969  0.000000  1.000000           1  \n",
       "4        -0.900969  0.000000  1.000000           1  \n",
       "...            ...       ...       ...         ...  \n",
       "87015    -0.222521 -0.258819  0.965926           1  \n",
       "87016    -0.222521 -0.258819  0.965926           1  \n",
       "87017    -0.222521 -0.258819  0.965926           1  \n",
       "87018    -0.222521 -0.258819  0.965926           1  \n",
       "87019    -0.222521 -0.258819  0.965926           1  \n",
       "\n",
       "[87020 rows x 9 columns]"
      ]
     },
     "execution_count": 17,
     "metadata": {},
     "output_type": "execute_result"
    }
   ],
   "source": [
    "x"
   ]
  },
  {
   "cell_type": "code",
   "execution_count": 9,
   "metadata": {},
   "outputs": [],
   "source": [
    "scaler=RobustScaler()"
   ]
  },
  {
   "cell_type": "code",
   "execution_count": 43,
   "metadata": {},
   "outputs": [],
   "source": [
    "col=['lat','lon','temp']\n",
    "scaled=scaler.fit_transform(x[col])"
   ]
  },
  {
   "cell_type": "code",
   "execution_count": 44,
   "metadata": {},
   "outputs": [
    {
     "data": {
      "text/html": [
       "<div>\n",
       "<style scoped>\n",
       "    .dataframe tbody tr th:only-of-type {\n",
       "        vertical-align: middle;\n",
       "    }\n",
       "\n",
       "    .dataframe tbody tr th {\n",
       "        vertical-align: top;\n",
       "    }\n",
       "\n",
       "    .dataframe thead th {\n",
       "        text-align: right;\n",
       "    }\n",
       "</style>\n",
       "<table border=\"1\" class=\"dataframe\">\n",
       "  <thead>\n",
       "    <tr style=\"text-align: right;\">\n",
       "      <th></th>\n",
       "      <th>lat</th>\n",
       "      <th>lon</th>\n",
       "      <th>temp</th>\n",
       "    </tr>\n",
       "  </thead>\n",
       "  <tbody>\n",
       "    <tr>\n",
       "      <th>0</th>\n",
       "      <td>0.170778</td>\n",
       "      <td>0.473990</td>\n",
       "      <td>0.033156</td>\n",
       "    </tr>\n",
       "    <tr>\n",
       "      <th>1</th>\n",
       "      <td>-0.743696</td>\n",
       "      <td>-0.845379</td>\n",
       "      <td>0.033156</td>\n",
       "    </tr>\n",
       "    <tr>\n",
       "      <th>2</th>\n",
       "      <td>-1.016948</td>\n",
       "      <td>-0.504282</td>\n",
       "      <td>0.033156</td>\n",
       "    </tr>\n",
       "    <tr>\n",
       "      <th>3</th>\n",
       "      <td>-1.696114</td>\n",
       "      <td>2.762858</td>\n",
       "      <td>0.033156</td>\n",
       "    </tr>\n",
       "    <tr>\n",
       "      <th>4</th>\n",
       "      <td>1.486952</td>\n",
       "      <td>0.294261</td>\n",
       "      <td>0.033156</td>\n",
       "    </tr>\n",
       "    <tr>\n",
       "      <th>...</th>\n",
       "      <td>...</td>\n",
       "      <td>...</td>\n",
       "      <td>...</td>\n",
       "    </tr>\n",
       "    <tr>\n",
       "      <th>39995</th>\n",
       "      <td>-1.250649</td>\n",
       "      <td>0.620214</td>\n",
       "      <td>-0.091796</td>\n",
       "    </tr>\n",
       "    <tr>\n",
       "      <th>39996</th>\n",
       "      <td>0.703364</td>\n",
       "      <td>0.240325</td>\n",
       "      <td>-0.091796</td>\n",
       "    </tr>\n",
       "    <tr>\n",
       "      <th>39997</th>\n",
       "      <td>-0.488576</td>\n",
       "      <td>-0.781161</td>\n",
       "      <td>-0.091796</td>\n",
       "    </tr>\n",
       "    <tr>\n",
       "      <th>39998</th>\n",
       "      <td>1.020141</td>\n",
       "      <td>0.147305</td>\n",
       "      <td>-0.091796</td>\n",
       "    </tr>\n",
       "    <tr>\n",
       "      <th>39999</th>\n",
       "      <td>-1.006842</td>\n",
       "      <td>-0.073638</td>\n",
       "      <td>-0.091796</td>\n",
       "    </tr>\n",
       "  </tbody>\n",
       "</table>\n",
       "<p>40000 rows × 3 columns</p>\n",
       "</div>"
      ],
      "text/plain": [
       "            lat       lon      temp\n",
       "0      0.170778  0.473990  0.033156\n",
       "1     -0.743696 -0.845379  0.033156\n",
       "2     -1.016948 -0.504282  0.033156\n",
       "3     -1.696114  2.762858  0.033156\n",
       "4      1.486952  0.294261  0.033156\n",
       "...         ...       ...       ...\n",
       "39995 -1.250649  0.620214 -0.091796\n",
       "39996  0.703364  0.240325 -0.091796\n",
       "39997 -0.488576 -0.781161 -0.091796\n",
       "39998  1.020141  0.147305 -0.091796\n",
       "39999 -1.006842 -0.073638 -0.091796\n",
       "\n",
       "[40000 rows x 3 columns]"
      ]
     },
     "execution_count": 44,
     "metadata": {},
     "output_type": "execute_result"
    }
   ],
   "source": [
    "scaled_df=pd.DataFrame(scaled,columns=col,index=x.index)\n",
    "scaled_df"
   ]
  },
  {
   "cell_type": "code",
   "execution_count": 45,
   "metadata": {},
   "outputs": [
    {
     "data": {
      "text/html": [
       "<div>\n",
       "<style scoped>\n",
       "    .dataframe tbody tr th:only-of-type {\n",
       "        vertical-align: middle;\n",
       "    }\n",
       "\n",
       "    .dataframe tbody tr th {\n",
       "        vertical-align: top;\n",
       "    }\n",
       "\n",
       "    .dataframe thead th {\n",
       "        text-align: right;\n",
       "    }\n",
       "</style>\n",
       "<table border=\"1\" class=\"dataframe\">\n",
       "  <thead>\n",
       "    <tr style=\"text-align: right;\">\n",
       "      <th></th>\n",
       "      <th>weekday_sin</th>\n",
       "      <th>weekday_cos</th>\n",
       "      <th>hour_sin</th>\n",
       "      <th>hour_cos</th>\n",
       "      <th>is_weekend</th>\n",
       "      <th>is_raining</th>\n",
       "      <th>is_snowing</th>\n",
       "      <th>is_cloudy</th>\n",
       "      <th>is_clear</th>\n",
       "      <th>weather_strength</th>\n",
       "    </tr>\n",
       "  </thead>\n",
       "  <tbody>\n",
       "    <tr>\n",
       "      <th>0</th>\n",
       "      <td>0.433884</td>\n",
       "      <td>-0.900969</td>\n",
       "      <td>0.000000</td>\n",
       "      <td>1.000000</td>\n",
       "      <td>1</td>\n",
       "      <td>0</td>\n",
       "      <td>0</td>\n",
       "      <td>0</td>\n",
       "      <td>1</td>\n",
       "      <td>0</td>\n",
       "    </tr>\n",
       "    <tr>\n",
       "      <th>1</th>\n",
       "      <td>0.433884</td>\n",
       "      <td>-0.900969</td>\n",
       "      <td>0.000000</td>\n",
       "      <td>1.000000</td>\n",
       "      <td>1</td>\n",
       "      <td>0</td>\n",
       "      <td>0</td>\n",
       "      <td>0</td>\n",
       "      <td>1</td>\n",
       "      <td>0</td>\n",
       "    </tr>\n",
       "    <tr>\n",
       "      <th>2</th>\n",
       "      <td>0.433884</td>\n",
       "      <td>-0.900969</td>\n",
       "      <td>0.000000</td>\n",
       "      <td>1.000000</td>\n",
       "      <td>1</td>\n",
       "      <td>0</td>\n",
       "      <td>0</td>\n",
       "      <td>0</td>\n",
       "      <td>1</td>\n",
       "      <td>0</td>\n",
       "    </tr>\n",
       "    <tr>\n",
       "      <th>3</th>\n",
       "      <td>0.433884</td>\n",
       "      <td>-0.900969</td>\n",
       "      <td>0.000000</td>\n",
       "      <td>1.000000</td>\n",
       "      <td>1</td>\n",
       "      <td>0</td>\n",
       "      <td>0</td>\n",
       "      <td>0</td>\n",
       "      <td>1</td>\n",
       "      <td>0</td>\n",
       "    </tr>\n",
       "    <tr>\n",
       "      <th>4</th>\n",
       "      <td>0.433884</td>\n",
       "      <td>-0.900969</td>\n",
       "      <td>0.000000</td>\n",
       "      <td>1.000000</td>\n",
       "      <td>1</td>\n",
       "      <td>0</td>\n",
       "      <td>0</td>\n",
       "      <td>0</td>\n",
       "      <td>1</td>\n",
       "      <td>0</td>\n",
       "    </tr>\n",
       "    <tr>\n",
       "      <th>...</th>\n",
       "      <td>...</td>\n",
       "      <td>...</td>\n",
       "      <td>...</td>\n",
       "      <td>...</td>\n",
       "      <td>...</td>\n",
       "      <td>...</td>\n",
       "      <td>...</td>\n",
       "      <td>...</td>\n",
       "      <td>...</td>\n",
       "      <td>...</td>\n",
       "    </tr>\n",
       "    <tr>\n",
       "      <th>39995</th>\n",
       "      <td>0.433884</td>\n",
       "      <td>-0.900969</td>\n",
       "      <td>0.707107</td>\n",
       "      <td>0.707107</td>\n",
       "      <td>0</td>\n",
       "      <td>0</td>\n",
       "      <td>0</td>\n",
       "      <td>1</td>\n",
       "      <td>0</td>\n",
       "      <td>3</td>\n",
       "    </tr>\n",
       "    <tr>\n",
       "      <th>39996</th>\n",
       "      <td>0.433884</td>\n",
       "      <td>-0.900969</td>\n",
       "      <td>0.707107</td>\n",
       "      <td>0.707107</td>\n",
       "      <td>0</td>\n",
       "      <td>0</td>\n",
       "      <td>0</td>\n",
       "      <td>1</td>\n",
       "      <td>0</td>\n",
       "      <td>3</td>\n",
       "    </tr>\n",
       "    <tr>\n",
       "      <th>39997</th>\n",
       "      <td>0.433884</td>\n",
       "      <td>-0.900969</td>\n",
       "      <td>0.707107</td>\n",
       "      <td>0.707107</td>\n",
       "      <td>0</td>\n",
       "      <td>0</td>\n",
       "      <td>0</td>\n",
       "      <td>1</td>\n",
       "      <td>0</td>\n",
       "      <td>3</td>\n",
       "    </tr>\n",
       "    <tr>\n",
       "      <th>39998</th>\n",
       "      <td>0.433884</td>\n",
       "      <td>-0.900969</td>\n",
       "      <td>0.707107</td>\n",
       "      <td>0.707107</td>\n",
       "      <td>0</td>\n",
       "      <td>0</td>\n",
       "      <td>0</td>\n",
       "      <td>1</td>\n",
       "      <td>0</td>\n",
       "      <td>3</td>\n",
       "    </tr>\n",
       "    <tr>\n",
       "      <th>39999</th>\n",
       "      <td>0.433884</td>\n",
       "      <td>-0.900969</td>\n",
       "      <td>0.707107</td>\n",
       "      <td>0.707107</td>\n",
       "      <td>0</td>\n",
       "      <td>0</td>\n",
       "      <td>0</td>\n",
       "      <td>1</td>\n",
       "      <td>0</td>\n",
       "      <td>3</td>\n",
       "    </tr>\n",
       "  </tbody>\n",
       "</table>\n",
       "<p>40000 rows × 10 columns</p>\n",
       "</div>"
      ],
      "text/plain": [
       "       weekday_sin  weekday_cos  hour_sin  hour_cos  is_weekend  is_raining  \\\n",
       "0         0.433884    -0.900969  0.000000  1.000000           1           0   \n",
       "1         0.433884    -0.900969  0.000000  1.000000           1           0   \n",
       "2         0.433884    -0.900969  0.000000  1.000000           1           0   \n",
       "3         0.433884    -0.900969  0.000000  1.000000           1           0   \n",
       "4         0.433884    -0.900969  0.000000  1.000000           1           0   \n",
       "...            ...          ...       ...       ...         ...         ...   \n",
       "39995     0.433884    -0.900969  0.707107  0.707107           0           0   \n",
       "39996     0.433884    -0.900969  0.707107  0.707107           0           0   \n",
       "39997     0.433884    -0.900969  0.707107  0.707107           0           0   \n",
       "39998     0.433884    -0.900969  0.707107  0.707107           0           0   \n",
       "39999     0.433884    -0.900969  0.707107  0.707107           0           0   \n",
       "\n",
       "       is_snowing  is_cloudy  is_clear  weather_strength  \n",
       "0               0          0         1                 0  \n",
       "1               0          0         1                 0  \n",
       "2               0          0         1                 0  \n",
       "3               0          0         1                 0  \n",
       "4               0          0         1                 0  \n",
       "...           ...        ...       ...               ...  \n",
       "39995           0          1         0                 3  \n",
       "39996           0          1         0                 3  \n",
       "39997           0          1         0                 3  \n",
       "39998           0          1         0                 3  \n",
       "39999           0          1         0                 3  \n",
       "\n",
       "[40000 rows x 10 columns]"
      ]
     },
     "execution_count": 45,
     "metadata": {},
     "output_type": "execute_result"
    }
   ],
   "source": [
    "before_merge=x.drop(col,axis=1)\n",
    "before_merge"
   ]
  },
  {
   "cell_type": "code",
   "execution_count": 46,
   "metadata": {},
   "outputs": [],
   "source": [
    "scaled_x=pd.concat([scaled_df,before_merge],axis=1)"
   ]
  },
  {
   "cell_type": "code",
   "execution_count": 47,
   "metadata": {},
   "outputs": [
    {
     "data": {
      "text/html": [
       "<div>\n",
       "<style scoped>\n",
       "    .dataframe tbody tr th:only-of-type {\n",
       "        vertical-align: middle;\n",
       "    }\n",
       "\n",
       "    .dataframe tbody tr th {\n",
       "        vertical-align: top;\n",
       "    }\n",
       "\n",
       "    .dataframe thead th {\n",
       "        text-align: right;\n",
       "    }\n",
       "</style>\n",
       "<table border=\"1\" class=\"dataframe\">\n",
       "  <thead>\n",
       "    <tr style=\"text-align: right;\">\n",
       "      <th></th>\n",
       "      <th>lat</th>\n",
       "      <th>lon</th>\n",
       "      <th>temp</th>\n",
       "      <th>weekday_sin</th>\n",
       "      <th>weekday_cos</th>\n",
       "      <th>hour_sin</th>\n",
       "      <th>hour_cos</th>\n",
       "      <th>is_weekend</th>\n",
       "      <th>is_raining</th>\n",
       "      <th>is_snowing</th>\n",
       "      <th>is_cloudy</th>\n",
       "      <th>is_clear</th>\n",
       "      <th>weather_strength</th>\n",
       "    </tr>\n",
       "  </thead>\n",
       "  <tbody>\n",
       "    <tr>\n",
       "      <th>0</th>\n",
       "      <td>0.170778</td>\n",
       "      <td>0.473990</td>\n",
       "      <td>0.033156</td>\n",
       "      <td>0.433884</td>\n",
       "      <td>-0.900969</td>\n",
       "      <td>0.000000</td>\n",
       "      <td>1.000000</td>\n",
       "      <td>1</td>\n",
       "      <td>0</td>\n",
       "      <td>0</td>\n",
       "      <td>0</td>\n",
       "      <td>1</td>\n",
       "      <td>0</td>\n",
       "    </tr>\n",
       "    <tr>\n",
       "      <th>1</th>\n",
       "      <td>-0.743696</td>\n",
       "      <td>-0.845379</td>\n",
       "      <td>0.033156</td>\n",
       "      <td>0.433884</td>\n",
       "      <td>-0.900969</td>\n",
       "      <td>0.000000</td>\n",
       "      <td>1.000000</td>\n",
       "      <td>1</td>\n",
       "      <td>0</td>\n",
       "      <td>0</td>\n",
       "      <td>0</td>\n",
       "      <td>1</td>\n",
       "      <td>0</td>\n",
       "    </tr>\n",
       "    <tr>\n",
       "      <th>2</th>\n",
       "      <td>-1.016948</td>\n",
       "      <td>-0.504282</td>\n",
       "      <td>0.033156</td>\n",
       "      <td>0.433884</td>\n",
       "      <td>-0.900969</td>\n",
       "      <td>0.000000</td>\n",
       "      <td>1.000000</td>\n",
       "      <td>1</td>\n",
       "      <td>0</td>\n",
       "      <td>0</td>\n",
       "      <td>0</td>\n",
       "      <td>1</td>\n",
       "      <td>0</td>\n",
       "    </tr>\n",
       "    <tr>\n",
       "      <th>3</th>\n",
       "      <td>-1.696114</td>\n",
       "      <td>2.762858</td>\n",
       "      <td>0.033156</td>\n",
       "      <td>0.433884</td>\n",
       "      <td>-0.900969</td>\n",
       "      <td>0.000000</td>\n",
       "      <td>1.000000</td>\n",
       "      <td>1</td>\n",
       "      <td>0</td>\n",
       "      <td>0</td>\n",
       "      <td>0</td>\n",
       "      <td>1</td>\n",
       "      <td>0</td>\n",
       "    </tr>\n",
       "    <tr>\n",
       "      <th>4</th>\n",
       "      <td>1.486952</td>\n",
       "      <td>0.294261</td>\n",
       "      <td>0.033156</td>\n",
       "      <td>0.433884</td>\n",
       "      <td>-0.900969</td>\n",
       "      <td>0.000000</td>\n",
       "      <td>1.000000</td>\n",
       "      <td>1</td>\n",
       "      <td>0</td>\n",
       "      <td>0</td>\n",
       "      <td>0</td>\n",
       "      <td>1</td>\n",
       "      <td>0</td>\n",
       "    </tr>\n",
       "    <tr>\n",
       "      <th>...</th>\n",
       "      <td>...</td>\n",
       "      <td>...</td>\n",
       "      <td>...</td>\n",
       "      <td>...</td>\n",
       "      <td>...</td>\n",
       "      <td>...</td>\n",
       "      <td>...</td>\n",
       "      <td>...</td>\n",
       "      <td>...</td>\n",
       "      <td>...</td>\n",
       "      <td>...</td>\n",
       "      <td>...</td>\n",
       "      <td>...</td>\n",
       "    </tr>\n",
       "    <tr>\n",
       "      <th>39995</th>\n",
       "      <td>-1.250649</td>\n",
       "      <td>0.620214</td>\n",
       "      <td>-0.091796</td>\n",
       "      <td>0.433884</td>\n",
       "      <td>-0.900969</td>\n",
       "      <td>0.707107</td>\n",
       "      <td>0.707107</td>\n",
       "      <td>0</td>\n",
       "      <td>0</td>\n",
       "      <td>0</td>\n",
       "      <td>1</td>\n",
       "      <td>0</td>\n",
       "      <td>3</td>\n",
       "    </tr>\n",
       "    <tr>\n",
       "      <th>39996</th>\n",
       "      <td>0.703364</td>\n",
       "      <td>0.240325</td>\n",
       "      <td>-0.091796</td>\n",
       "      <td>0.433884</td>\n",
       "      <td>-0.900969</td>\n",
       "      <td>0.707107</td>\n",
       "      <td>0.707107</td>\n",
       "      <td>0</td>\n",
       "      <td>0</td>\n",
       "      <td>0</td>\n",
       "      <td>1</td>\n",
       "      <td>0</td>\n",
       "      <td>3</td>\n",
       "    </tr>\n",
       "    <tr>\n",
       "      <th>39997</th>\n",
       "      <td>-0.488576</td>\n",
       "      <td>-0.781161</td>\n",
       "      <td>-0.091796</td>\n",
       "      <td>0.433884</td>\n",
       "      <td>-0.900969</td>\n",
       "      <td>0.707107</td>\n",
       "      <td>0.707107</td>\n",
       "      <td>0</td>\n",
       "      <td>0</td>\n",
       "      <td>0</td>\n",
       "      <td>1</td>\n",
       "      <td>0</td>\n",
       "      <td>3</td>\n",
       "    </tr>\n",
       "    <tr>\n",
       "      <th>39998</th>\n",
       "      <td>1.020141</td>\n",
       "      <td>0.147305</td>\n",
       "      <td>-0.091796</td>\n",
       "      <td>0.433884</td>\n",
       "      <td>-0.900969</td>\n",
       "      <td>0.707107</td>\n",
       "      <td>0.707107</td>\n",
       "      <td>0</td>\n",
       "      <td>0</td>\n",
       "      <td>0</td>\n",
       "      <td>1</td>\n",
       "      <td>0</td>\n",
       "      <td>3</td>\n",
       "    </tr>\n",
       "    <tr>\n",
       "      <th>39999</th>\n",
       "      <td>-1.006842</td>\n",
       "      <td>-0.073638</td>\n",
       "      <td>-0.091796</td>\n",
       "      <td>0.433884</td>\n",
       "      <td>-0.900969</td>\n",
       "      <td>0.707107</td>\n",
       "      <td>0.707107</td>\n",
       "      <td>0</td>\n",
       "      <td>0</td>\n",
       "      <td>0</td>\n",
       "      <td>1</td>\n",
       "      <td>0</td>\n",
       "      <td>3</td>\n",
       "    </tr>\n",
       "  </tbody>\n",
       "</table>\n",
       "<p>40000 rows × 13 columns</p>\n",
       "</div>"
      ],
      "text/plain": [
       "            lat       lon      temp  weekday_sin  weekday_cos  hour_sin  \\\n",
       "0      0.170778  0.473990  0.033156     0.433884    -0.900969  0.000000   \n",
       "1     -0.743696 -0.845379  0.033156     0.433884    -0.900969  0.000000   \n",
       "2     -1.016948 -0.504282  0.033156     0.433884    -0.900969  0.000000   \n",
       "3     -1.696114  2.762858  0.033156     0.433884    -0.900969  0.000000   \n",
       "4      1.486952  0.294261  0.033156     0.433884    -0.900969  0.000000   \n",
       "...         ...       ...       ...          ...          ...       ...   \n",
       "39995 -1.250649  0.620214 -0.091796     0.433884    -0.900969  0.707107   \n",
       "39996  0.703364  0.240325 -0.091796     0.433884    -0.900969  0.707107   \n",
       "39997 -0.488576 -0.781161 -0.091796     0.433884    -0.900969  0.707107   \n",
       "39998  1.020141  0.147305 -0.091796     0.433884    -0.900969  0.707107   \n",
       "39999 -1.006842 -0.073638 -0.091796     0.433884    -0.900969  0.707107   \n",
       "\n",
       "       hour_cos  is_weekend  is_raining  is_snowing  is_cloudy  is_clear  \\\n",
       "0      1.000000           1           0           0          0         1   \n",
       "1      1.000000           1           0           0          0         1   \n",
       "2      1.000000           1           0           0          0         1   \n",
       "3      1.000000           1           0           0          0         1   \n",
       "4      1.000000           1           0           0          0         1   \n",
       "...         ...         ...         ...         ...        ...       ...   \n",
       "39995  0.707107           0           0           0          1         0   \n",
       "39996  0.707107           0           0           0          1         0   \n",
       "39997  0.707107           0           0           0          1         0   \n",
       "39998  0.707107           0           0           0          1         0   \n",
       "39999  0.707107           0           0           0          1         0   \n",
       "\n",
       "       weather_strength  \n",
       "0                     0  \n",
       "1                     0  \n",
       "2                     0  \n",
       "3                     0  \n",
       "4                     0  \n",
       "...                 ...  \n",
       "39995                 3  \n",
       "39996                 3  \n",
       "39997                 3  \n",
       "39998                 3  \n",
       "39999                 3  \n",
       "\n",
       "[40000 rows x 13 columns]"
      ]
     },
     "execution_count": 47,
     "metadata": {},
     "output_type": "execute_result"
    }
   ],
   "source": [
    "scaled_x"
   ]
  },
  {
   "cell_type": "code",
   "execution_count": 18,
   "metadata": {},
   "outputs": [
    {
     "data": {
      "text/plain": [
       "0         75\n",
       "1         64\n",
       "2        169\n",
       "3        222\n",
       "4         64\n",
       "        ... \n",
       "39995      1\n",
       "39996     29\n",
       "39997     66\n",
       "39998      8\n",
       "39999      7\n",
       "Name: cnt, Length: 40000, dtype: int64"
      ]
     },
     "execution_count": 18,
     "metadata": {},
     "output_type": "execute_result"
    }
   ],
   "source": [
    "y"
   ]
  },
  {
   "cell_type": "code",
   "execution_count": 11,
   "metadata": {},
   "outputs": [],
   "source": [
    "model=RandomForestRegressor()"
   ]
  },
  {
   "cell_type": "code",
   "execution_count": null,
   "metadata": {},
   "outputs": [],
   "source": [
    "#1 criterion='mae'"
   ]
  },
  {
   "cell_type": "code",
   "execution_count": 20,
   "metadata": {},
   "outputs": [
    {
     "name": "stdout",
     "output_type": "stream",
     "text": [
      "score: [-48.26142375 -26.512155   -25.45044    -38.3025275  -25.24238563]\n",
      "avarage: -32.753786375\n"
     ]
    }
   ],
   "source": [
    "score=cross_val_score(model,x,y,scoring=\"neg_mean_absolute_error\",cv=5)\n",
    "print(\"score: {}\".format(score))\n",
    "print(\"avarage: \"+str(sum(score)/len(score)))"
   ]
  },
  {
   "cell_type": "code",
   "execution_count": null,
   "metadata": {},
   "outputs": [],
   "source": [
    "#2 default"
   ]
  },
  {
   "cell_type": "code",
   "execution_count": 22,
   "metadata": {},
   "outputs": [
    {
     "name": "stdout",
     "output_type": "stream",
     "text": [
      "score: [-48.77688625 -25.6580075  -24.68760125 -39.4430725  -25.0464325 ]\n",
      "avarage: -32.7224\n"
     ]
    }
   ],
   "source": [
    "score=cross_val_score(model,x,y,scoring=\"neg_mean_absolute_error\",cv=5)\n",
    "print(\"score: {}\".format(score))\n",
    "print(\"avarage: \"+str(sum(score)/len(score)))"
   ]
  },
  {
   "cell_type": "code",
   "execution_count": null,
   "metadata": {},
   "outputs": [],
   "source": [
    "#3 n_estimators=500"
   ]
  },
  {
   "cell_type": "code",
   "execution_count": 24,
   "metadata": {},
   "outputs": [
    {
     "name": "stdout",
     "output_type": "stream",
     "text": [
      "score: [-48.37239625 -25.78112775 -24.52127575 -39.32889875 -24.82273575]\n",
      "avarage: -32.56528684999999\n"
     ]
    }
   ],
   "source": [
    "score=cross_val_score(model,x,y,scoring=\"neg_mean_absolute_error\",cv=5)\n",
    "print(\"score: {}\".format(score))\n",
    "print(\"avarage: \"+str(sum(score)/len(score)))"
   ]
  },
  {
   "cell_type": "code",
   "execution_count": 25,
   "metadata": {},
   "outputs": [
    {
     "name": "stdout",
     "output_type": "stream",
     "text": [
      "n_estimator: 150\n",
      "score: [-48.625425   -25.790895   -24.70642583 -39.4338075  -24.85579917]\n",
      "avarage: -32.6824705\n",
      "\n",
      "n_estimator: 200\n",
      "score: [-48.37285375 -25.78803562 -24.69597313 -39.26385313 -24.85340125]\n",
      "avarage: -32.594823375\n",
      "\n",
      "n_estimator: 250\n",
      "score: [-48.418994  -25.6647515 -24.5347315 -39.548864  -24.8191045]\n",
      "avarage: -32.5972891\n",
      "\n",
      "n_estimator: 300\n",
      "score: [-48.55734958 -25.70459125 -24.456275   -39.59629458 -24.82029125]\n",
      "avarage: -32.62696033333334\n",
      "\n",
      "n_estimator: 350\n",
      "score: [-48.19552821 -25.69012143 -24.43868464 -39.39129857 -24.78901714]\n",
      "avarage: -32.50093\n",
      "\n"
     ]
    }
   ],
   "source": [
    "n=[150,200,250,300,350]\n",
    "\n",
    "for i in n:\n",
    "    print(\"n_estimator: \"+str(i))\n",
    "    model=RandomForestRegressor(n_estimators=i)\n",
    "    score=cross_val_score(model,x,y,scoring=\"neg_mean_absolute_error\",cv=5)\n",
    "    print(\"score: {}\".format(score))\n",
    "    print(\"avarage: \"+str(sum(score)/len(score)))\n",
    "    print()"
   ]
  },
  {
   "cell_type": "code",
   "execution_count": 26,
   "metadata": {},
   "outputs": [
    {
     "name": "stdout",
     "output_type": "stream",
     "text": [
      "n_estimator: 400\n",
      "score: [-48.28726906 -25.68699219 -24.43373844 -39.49565844 -24.90782875]\n",
      "avarage: -32.562297375\n",
      "\n",
      "n_estimator: 450\n",
      "score: [-48.52192139 -25.67299528 -24.43458389 -39.48175917 -24.78075   ]\n",
      "avarage: -32.578401944444444\n",
      "\n",
      "n_estimator: 500\n",
      "score: [-48.35467975 -25.640084   -24.532578   -39.347197   -24.8324675 ]\n",
      "avarage: -32.54140125\n",
      "\n",
      "n_estimator: 550\n",
      "score: [-48.24998614 -25.64637523 -24.56426477 -39.46383    -24.84664659]\n",
      "avarage: -32.55422054545455\n",
      "\n",
      "n_estimator: 600\n",
      "score: [-48.34245958 -25.67842146 -24.38183875 -39.43242729 -24.75021625]\n",
      "avarage: -32.517072666666664\n",
      "\n"
     ]
    }
   ],
   "source": [
    "n=[400,450,500,550,600]\n",
    "\n",
    "for i in n:\n",
    "    print(\"n_estimator: \"+str(i))\n",
    "    model=RandomForestRegressor(n_estimators=i)\n",
    "    score=cross_val_score(model,x,y,scoring=\"neg_mean_absolute_error\",cv=5)\n",
    "    print(\"score: {}\".format(score))\n",
    "    print(\"avarage: \"+str(sum(score)/len(score)))\n",
    "    print()"
   ]
  },
  {
   "cell_type": "code",
   "execution_count": 33,
   "metadata": {},
   "outputs": [
    {
     "name": "stdout",
     "output_type": "stream",
     "text": [
      "score: [-48.33825179 -25.83076071 -24.54409857 -39.3375     -24.89620107]\n",
      "avarage: -32.589362428571434\n"
     ]
    }
   ],
   "source": [
    "#StandardScaler\n",
    "\n",
    "model=RandomForestRegressor(n_estimators=350)\n",
    "score=cross_val_score(model,scaled_x,y,scoring=\"neg_mean_absolute_error\",cv=5)\n",
    "print(\"score: {}\".format(score))\n",
    "print(\"avarage: \"+str(sum(score)/len(score)))"
   ]
  },
  {
   "cell_type": "code",
   "execution_count": 40,
   "metadata": {},
   "outputs": [
    {
     "name": "stdout",
     "output_type": "stream",
     "text": [
      "score: [-48.59911821 -25.74098786 -24.47471107 -39.33827714 -24.76015357]\n",
      "avarage: -32.582649571428576\n"
     ]
    }
   ],
   "source": [
    "#MinMaxScaler\n",
    "\n",
    "model=RandomForestRegressor(n_estimators=350)\n",
    "score=cross_val_score(model,scaled_x,y,scoring=\"neg_mean_absolute_error\",cv=5)\n",
    "print(\"score: {}\".format(score))\n",
    "print(\"avarage: \"+str(sum(score)/len(score)))"
   ]
  },
  {
   "cell_type": "code",
   "execution_count": 48,
   "metadata": {},
   "outputs": [
    {
     "name": "stdout",
     "output_type": "stream",
     "text": [
      "score: [-48.30340821 -25.81574143 -24.41079643 -39.56063179 -24.7709575 ]\n",
      "avarage: -32.57230707142857\n"
     ]
    }
   ],
   "source": [
    "#RobustScaler\n",
    "\n",
    "model=RandomForestRegressor(n_estimators=350)\n",
    "score=cross_val_score(model,scaled_x,y,scoring=\"neg_mean_absolute_error\",cv=5)\n",
    "print(\"score: {}\".format(score))\n",
    "print(\"avarage: \"+str(sum(score)/len(score)))"
   ]
  },
  {
   "cell_type": "code",
   "execution_count": 11,
   "metadata": {},
   "outputs": [
    {
     "name": "stdout",
     "output_type": "stream",
     "text": [
      "score: [-43.80351282 -21.6134204  -26.83926798 -24.17417687 -39.55646436]\n",
      "avarage: -31.197368486718982\n"
     ]
    }
   ],
   "source": [
    "model=RandomForestRegressor(n_estimators=350)\n",
    "score=cross_val_score(model,x,y,scoring=\"neg_mean_absolute_error\",cv=5)\n",
    "print(\"score: {}\".format(score))\n",
    "print(\"avarage: \"+str(sum(score)/len(score)))"
   ]
  },
  {
   "cell_type": "code",
   "execution_count": null,
   "metadata": {},
   "outputs": [],
   "source": []
  },
  {
   "cell_type": "code",
   "execution_count": 15,
   "metadata": {},
   "outputs": [
    {
     "name": "stdout",
     "output_type": "stream",
     "text": [
      "lat 0.4738222962359814\n",
      "lon 0.26195486246656513\n",
      "hour_sin 0.08791404429427067\n",
      "hour_cos 0.07908202174076277\n",
      "temp 0.026928321198715084\n",
      "is_weekend 0.020955011696874148\n",
      "weekday_sin 0.020811214536961022\n",
      "weekday_cos 0.017728654543815257\n",
      "weather_strength 0.007609016411718478\n",
      "is_cloudy 0.001045742979383887\n",
      "is_snowing 0.000915045267379466\n",
      "is_clear 0.0008299139290679616\n",
      "is_raining 0.0004038546985046732\n"
     ]
    },
    {
     "data": {
      "image/png": "[encoded data removed]",
      "text/plain": [
       "<Figure size 720x720 with 1 Axes>"
      ]
     },
     "metadata": {},
     "output_type": "display_data"
    }
   ],
   "source": [
    "model.fit(x,y)\n",
    "importances=model.feature_importances_\n",
    "indices=np.argsort(importances)[::-1]\n",
    "\n",
    "for f in range(x.shape[1]):\n",
    "    print(x.columns[indices][f],importances[indices[f]])\n",
    "\n",
    "sorted_idx=model.feature_importances_.argsort()\n",
    "    \n",
    "plt.figure(figsize=(10,10))\n",
    "plt.title(\"feature importances\")\n",
    "plt.barh(x.columns[sorted_idx],model.feature_importances_[sorted_idx])\n",
    "plt.show()"
   ]
  },
  {
   "cell_type": "code",
   "execution_count": 10,
   "metadata": {},
   "outputs": [
    {
     "name": "stdout",
     "output_type": "stream",
     "text": [
      "score: [-43.76660595 -21.55088256 -26.84278097 -24.17176626 -39.5569461 ]\n",
      "avarage: -31.17779636865089\n"
     ]
    }
   ],
   "source": [
    "#정훈님 모델 파라미터\n",
    "model=RandomForestRegressor(bootstrap=True,ccp_alpha=0.0,criterion='mse',max_depth=None,max_features='auto',max_leaf_nodes=None,max_samples=None,min_impurity_decrease=0.0,min_impurity_split=None,min_samples_leaf=1,min_samples_split=2,min_weight_fraction_leaf=0.0,n_estimators=100,n_jobs=-1,oob_score=False,random_state=0,verbose=0,warm_start=False)\n",
    "score=cross_val_score(model,x,y,scoring=\"neg_mean_absolute_error\",cv=5)\n",
    "print(\"score: {}\".format(score))\n",
    "print(\"avarage: \"+str(sum(score)/len(score)))"
   ]
  },
  {
   "cell_type": "code",
   "execution_count": 12,
   "metadata": {},
   "outputs": [
    {
     "name": "stdout",
     "output_type": "stream",
     "text": [
      "score: [-43.88155137 -21.48376695 -26.92520283 -23.65518099 -39.6028459 ]\n",
      "avarage: -31.109709606986893\n"
     ]
    }
   ],
   "source": [
    "#제일 영향없는 변수 4개 제거('is_raining', 'is_snowing', 'is_cloudy', 'is_clear')\n",
    "model=RandomForestRegressor(bootstrap=True,ccp_alpha=0.0,criterion='mse',max_depth=None,max_features='auto',max_leaf_nodes=None,max_samples=None,min_impurity_decrease=0.0,min_impurity_split=None,min_samples_leaf=1,min_samples_split=2,min_weight_fraction_leaf=0.0,n_estimators=100,n_jobs=-1,oob_score=False,random_state=0,verbose=0,warm_start=False)\n",
    "score=cross_val_score(model,x,y,scoring=\"neg_mean_absolute_error\",cv=5)\n",
    "print(\"score: {}\".format(score))\n",
    "print(\"avarage: \"+str(sum(score)/len(score)))"
   ]
  },
  {
   "cell_type": "code",
   "execution_count": 14,
   "metadata": {},
   "outputs": [
    {
     "name": "stdout",
     "output_type": "stream",
     "text": [
      "score: [-42.76573316 -18.87053838 -31.14256895 -25.46478511 -40.22055964]\n",
      "avarage: -31.692837048954267\n"
     ]
    }
   ],
   "source": [
    "#'weather strength'까지 제거\n",
    "model=RandomForestRegressor(bootstrap=True,ccp_alpha=0.0,criterion='mse',max_depth=None,max_features='auto',max_leaf_nodes=None,max_samples=None,min_impurity_decrease=0.0,min_impurity_split=None,min_samples_leaf=1,min_samples_split=2,min_weight_fraction_leaf=0.0,n_estimators=100,n_jobs=-1,oob_score=False,random_state=0,verbose=0,warm_start=False)\n",
    "score=cross_val_score(model,x,y,scoring=\"neg_mean_absolute_error\",cv=5)\n",
    "print(\"score: {}\".format(score))\n",
    "print(\"avarage: \"+str(sum(score)/len(score)))"
   ]
  },
  {
   "cell_type": "code",
   "execution_count": 18,
   "metadata": {},
   "outputs": [
    {
     "name": "stdout",
     "output_type": "stream",
     "text": [
      "score: [-43.82967626 -21.27896264 -26.78961684 -23.54392077 -39.53874594]\n",
      "avarage: -30.9961844896083\n"
     ]
    }
   ],
   "source": [
    "#정훈님, 제일 영향없는 변수 4개 빼고\n",
    "model=RandomForestRegressor(bootstrap=True,ccp_alpha=0.0,criterion='mse',max_depth=None,max_features='auto',max_leaf_nodes=None,max_samples=None,min_impurity_decrease=0.0,min_impurity_split=None,min_samples_leaf=1,min_samples_split=2,min_weight_fraction_leaf=0.0,n_estimators=350,n_jobs=-1,oob_score=False,random_state=0,verbose=0,warm_start=False)\n",
    "score=cross_val_score(model,x,y,scoring=\"neg_mean_absolute_error\",cv=5)\n",
    "print(\"score: {}\".format(score))\n",
    "print(\"avarage: \"+str(sum(score)/len(score)))"
   ]
  },
  {
   "cell_type": "code",
   "execution_count": 21,
   "metadata": {},
   "outputs": [
    {
     "name": "stdout",
     "output_type": "stream",
     "text": [
      "best parameters:  {'min_samples_leaf': 2, 'min_samples_split': 3, 'n_estimators': 300}\n",
      "best score:  -30.903577039131164\n"
     ]
    }
   ],
   "source": [
    "#GridSearch\n",
    "params={\n",
    "    'n_estimators':[200,300],\n",
    "    'min_samples_split':[2,3],\n",
    "    'min_samples_leaf':[1,2]\n",
    "}\n",
    "model=RandomForestRegressor()\n",
    "grid=GridSearchCV(model,param_grid=params,cv=5,refit=True,scoring='neg_mean_absolute_error')\n",
    "grid.fit(x,y)\n",
    "print('best parameters: ',grid.best_params_)\n",
    "print('best score: ',grid.best_score_)"
   ]
  },
  {
   "cell_type": "code",
   "execution_count": 22,
   "metadata": {},
   "outputs": [
    {
     "name": "stdout",
     "output_type": "stream",
     "text": [
      "best parameters:  {'min_samples_leaf': 2, 'min_samples_split': 4, 'n_estimators': 300}\n",
      "best score:  -30.878245245649488\n"
     ]
    }
   ],
   "source": [
    "#GridSearch\n",
    "params={\n",
    "    'n_estimators':[300,400,500],\n",
    "    'min_samples_split':[3,4],\n",
    "    'min_samples_leaf':[2,3]\n",
    "}\n",
    "model=RandomForestRegressor()\n",
    "grid=GridSearchCV(model,param_grid=params,cv=5,refit=True,scoring='neg_mean_absolute_error')\n",
    "grid.fit(x,y)\n",
    "print('best parameters: ',grid.best_params_)\n",
    "print('best score: ',grid.best_score_)"
   ]
  },
  {
   "cell_type": "code",
   "execution_count": 23,
   "metadata": {},
   "outputs": [
    {
     "name": "stdout",
     "output_type": "stream",
     "text": [
      "best parameters:  {'min_samples_leaf': 2, 'min_samples_split': 4, 'n_estimators': 300}\n",
      "best score:  -30.922847035283063\n"
     ]
    }
   ],
   "source": [
    "#GridSearch\n",
    "params={\n",
    "    'n_estimators':[300],\n",
    "    'min_samples_split':[4,5,6],\n",
    "    'min_samples_leaf':[2]\n",
    "}\n",
    "model=RandomForestRegressor()\n",
    "grid=GridSearchCV(model,param_grid=params,cv=5,refit=True,scoring='neg_mean_absolute_error')\n",
    "grid.fit(x,y)\n",
    "print('best parameters: ',grid.best_params_)\n",
    "print('best score: ',grid.best_score_)"
   ]
  },
  {
   "cell_type": "markdown",
   "metadata": {},
   "source": [
    "### 그리드서치 결과 RandomForestRegressor()의 n_estimators=300, min_samples_leaf=2, min_samples_split=4일 때 최소 MAE 30.88이 나왔음"
   ]
  }
 ],
 "metadata": {
  "accelerator": "GPU",
  "colab": {
   "collapsed_sections": [
    "vfjUL0DKgSRj"
   ],
   "name": "Session_06) 모델링.ipynb",
   "provenance": []
  },
  "kernelspec": {
   "display_name": "Python 3",
   "language": "python",
   "name": "python3"
  },
  "language_info": {
   "codemirror_mode": {
    "name": "ipython",
    "version": 3
   },
   "file_extension": ".py",
   "mimetype": "text/x-python",
   "name": "python",
   "nbconvert_exporter": "python",
   "pygments_lexer": "ipython3",
   "version": "3.8.5"
  }
 },
 "nbformat": 4,
 "nbformat_minor": 1
}
