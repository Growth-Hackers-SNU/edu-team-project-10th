{
 "cells": [
  {
   "cell_type": "markdown",
   "metadata": {
    "id": "vfjUL0DKgSRj"
   },
   "source": [
    "## 환경 설정"
   ]
  },
  {
   "cell_type": "code",
   "execution_count": 1,
   "metadata": {
    "id": "3O5XJS1HhOcS"
   },
   "outputs": [],
   "source": [
    "import numpy as np\n",
    "import pandas as pd\n",
    "import matplotlib.pyplot as plt \n",
    "import seaborn as sns\n",
    "import sys\n",
    "\n",
    "#경고창이 뜨지 않도록 해주는 것\n",
    "import warnings\n",
    "warnings.filterwarnings('ignore')\n",
    "\n",
    "# notebook을 실행한 브라우저에서 바로 그림을 볼 수 있게 해주는 것\n",
    "%matplotlib inline "
   ]
  },
  {
   "cell_type": "markdown",
   "metadata": {
    "id": "T4mYn3fehOcZ"
   },
   "source": [
    "**주피터 노트북에서 시각화할때, matplotlib가 한글 폰트 지원하지 않아, 깨짐 처리해줘야 함**"
   ]
  },
  {
   "cell_type": "code",
   "execution_count": 2,
   "metadata": {
    "id": "yMx2NCl4hOcZ"
   },
   "outputs": [],
   "source": [
    "import platform                \n",
    "\n",
    "from matplotlib import font_manager, rc\n",
    "plt.rcParams['axes.unicode_minus']= False\n",
    "\n",
    "if platform.system() == 'Darwin': #맥os 사용자의 경우에\n",
    "    plt.style.use('seaborn-darkgrid') \n",
    "    rc('font', family = 'AppleGothic')\n",
    "    \n",
    "elif platform.system() == 'Windows':#윈도우 사용자의 경우에\n",
    "    path = 'c:/Windows/Fonts/malgun.ttf'\n",
    "    font_name = font_manager.FontProperties(fname=path).get_name()\n",
    "    plt.style.use('seaborn-darkgrid') # https://python-graph-gallery.com/199-matplotlib-style-sheets/\n",
    "    rc('font', family=font_name)"
   ]
  },
  {
   "cell_type": "code",
   "execution_count": 3,
   "metadata": {
    "id": "TTtfGASPxy1E"
   },
   "outputs": [],
   "source": [
    "# 데이터 불러오기 \n",
    "df = pd.read_csv('./NYC_taxi.csv')\n",
    "\n",
    "# 여기 아래 부분 꼭 실행시켜주세요! \n",
    "df['pickup_hour'] = pd.to_datetime(df['pickup_hour'])\n",
    "df['zip_code'] = df['zip_code'].astype(str) "
   ]
  },
  {
   "cell_type": "markdown",
   "metadata": {
    "id": "LOjcrJl8KIgU"
   },
   "source": [
    "# 데이터 전처리\n",
    "\n",
    "### 모델링을 위한 기본 전처리\n",
    "  - `기본 정보 확인 (결측치 및 이상치 처리)`\n",
    "      - df.info()\n",
    "      - df.describe()\n",
    "      - 간단한 시각화 \n",
    "  - `시간 관련 전처리 (새로운 열 생성)` \n",
    "      - DATETIME에서 MONTH, HOUR, WEEKDAY 등 추출\n",
    "  - `Categorical 데이터 전처리`\n",
    "      - One Hot Encoding\n",
    "      - Label Encoding\n",
    "  - `Train / Test Split`\n",
    "    - NY taxi data에서 주의점 "
   ]
  },
  {
   "cell_type": "markdown",
   "metadata": {
    "id": "scJXEQsEnJaH"
   },
   "source": [
    "### 기본 정보 확인 (결측치 및 이상치 처리) \n",
    "  - df.info()\n",
    "  - df.describe()\n",
    "  - 간단한 시각화 \n",
    "\n",
    "\n",
    "\n",
    "---\n",
    "\n",
    "\n",
    "EDA 과정에서 기본적으로 다 확인하셨죠? ㅎㅎ \n",
    "EDA 결과 중 모델링에 적용하기로한 부분이 있다면 반영해주세요~!"
   ]
  },
  {
   "cell_type": "code",
   "execution_count": 4,
   "metadata": {
    "colab": {
     "base_uri": "https://localhost:8080/"
    },
    "id": "LP8eqDlEmcpd",
    "outputId": "da44854f-a2b4-48a4-ca31-f3cccb0e6bf6"
   },
   "outputs": [
    {
     "name": "stdout",
     "output_type": "stream",
     "text": [
      "<class 'pandas.core.frame.DataFrame'>\n",
      "RangeIndex: 87020 entries, 0 to 87019\n",
      "Data columns (total 8 columns):\n",
      " #   Column       Non-Null Count  Dtype         \n",
      "---  ------       --------------  -----         \n",
      " 0   zip_code     87020 non-null  object        \n",
      " 1   pickup_hour  87020 non-null  datetime64[ns]\n",
      " 2   month        87020 non-null  int64         \n",
      " 3   day          87020 non-null  int64         \n",
      " 4   weekday      87020 non-null  int64         \n",
      " 5   hour         87020 non-null  int64         \n",
      " 6   is_weekend   87020 non-null  int64         \n",
      " 7   cnt          87020 non-null  int64         \n",
      "dtypes: datetime64[ns](1), int64(6), object(1)\n",
      "memory usage: 5.3+ MB\n"
     ]
    }
   ],
   "source": [
    "# 결측치 없고, 총 87020개의 row\n",
    "df.info()"
   ]
  },
  {
   "cell_type": "markdown",
   "metadata": {},
   "source": [
    "### 1. Target 값인 'cnt'의 분포 확인 및 조정"
   ]
  },
  {
   "cell_type": "code",
   "execution_count": 5,
   "metadata": {},
   "outputs": [
    {
     "data": {
      "text/plain": [
       "count    87020.000000\n",
       "mean       141.603080\n",
       "std        306.902683\n",
       "min          1.000000\n",
       "25%          2.000000\n",
       "50%         12.000000\n",
       "75%         80.000000\n",
       "max       2657.000000\n",
       "Name: cnt, dtype: float64"
      ]
     },
     "execution_count": 5,
     "metadata": {},
     "output_type": "execute_result"
    }
   ],
   "source": [
    "# 'cnt'의 skewness가 매우 심함을 알 수 있음\n",
    "from scipy.stats import skew, kurtosis\n",
    "df['cnt'].describe()"
   ]
  },
  {
   "cell_type": "code",
   "execution_count": 6,
   "metadata": {},
   "outputs": [
    {
     "name": "stdout",
     "output_type": "stream",
     "text": [
      "총 구역 수 : 374\n",
      "한달간 총 pickup이 100건 이하인 구역 수: 216\n"
     ]
    }
   ],
   "source": [
    "# 수요예측의 유의미성을 위해 수요가 과다하게 적은 지역의 데이터는 학습/예측에서 제외\n",
    "zip_df = df.groupby(by = ['zip_code'])['cnt'].sum().reset_index()\n",
    "print('총 구역 수 :', zip_df.shape[0])\n",
    "print('한달간 총 pickup이 100건 이하인 구역 수:',zip_df[zip_df['cnt'] < 100].shape[0])"
   ]
  },
  {
   "cell_type": "code",
   "execution_count": 7,
   "metadata": {},
   "outputs": [
    {
     "data": {
      "text/plain": [
       "(84217, 8)"
      ]
     },
     "execution_count": 7,
     "metadata": {},
     "output_type": "execute_result"
    }
   ],
   "source": [
    "drop_zip = zip_df[zip_df['cnt'] < 100]['zip_code'].tolist()\n",
    "df = df[~df.zip_code.isin(drop_zip)]\n",
    "df.shape"
   ]
  },
  {
   "cell_type": "code",
   "execution_count": 8,
   "metadata": {},
   "outputs": [
    {
     "name": "stdout",
     "output_type": "stream",
     "text": [
      "Skewness : 2.9365\n",
      "Kurtosis: 9.5327\n"
     ]
    }
   ],
   "source": [
    "# 왜도와 첨도 확인\n",
    "print('Skewness :', round(skew(df['cnt']),4))\n",
    "print('Kurtosis:', round(kurtosis(df['cnt']),4))"
   ]
  },
  {
   "cell_type": "code",
   "execution_count": 9,
   "metadata": {},
   "outputs": [
    {
     "data": {
      "image/png": "[encoded data removed]",
      "text/plain": [
       "<Figure size 864x432 with 2 Axes>"
      ]
     },
     "metadata": {},
     "output_type": "display_data"
    }
   ],
   "source": [
    "# target 시각화 (right-skewed distribution 확인)\n",
    "fig, ax = plt.subplots(1, 2, figsize = (12,6))\n",
    "sns.histplot(x = df['cnt'], ax=ax[0], kde=True)\n",
    "sns.histplot(x = np.log1p(df['cnt']), ax=ax[1], kde=True)\n",
    "plt.show()"
   ]
  },
  {
   "cell_type": "code",
   "execution_count": 10,
   "metadata": {},
   "outputs": [
    {
     "name": "stdout",
     "output_type": "stream",
     "text": [
      "Skewness : 0.574\n",
      "Kurtosis: -0.8481\n"
     ]
    }
   ],
   "source": [
    "# 로그 변환 시 왜도와 첨도가 많이 개선됨을 확인\n",
    "print('Skewness :', round(skew(np.log1p(df['cnt'])),4))\n",
    "print('Kurtosis:', round(kurtosis(np.log1p(df['cnt'])),4))"
   ]
  },
  {
   "cell_type": "markdown",
   "metadata": {},
   "source": [
    "### 2. 이상치에 해당하는 데이터 및 불필요한 feature 제거"
   ]
  },
  {
   "cell_type": "code",
   "execution_count": 11,
   "metadata": {},
   "outputs": [
    {
     "data": {
      "image/png": "[encoded data removed]",
      "text/plain": [
       "<Figure size 864x432 with 1 Axes>"
      ]
     },
     "metadata": {},
     "output_type": "display_data"
    }
   ],
   "source": [
    "# 1일과 19일 공휴일의 시간별 수요 패턴을 주중, 주말 패턴과 비교\n",
    "# 예측 데이터셋에 공휴일이 없고, 공휴일 간 패턴이 매우 특이하므로 해당 데이터도 우선 예측 효율성을 위해 제거\n",
    "cnt_df = df.groupby(by = ['day', 'hour', 'is_weekend'])['cnt'].sum().reset_index()\n",
    "cnt_df = cnt_df.drop(index = cnt_df[(cnt_df['day'] == 26)|(cnt_df['day'] == 27)].index)\n",
    "plt.figure(figsize = (12,6))\n",
    "sns.lineplot(data = cnt_df, x = 'hour', y ='cnt', hue='is_weekend')\n",
    "sns.lineplot(data = cnt_df[cnt_df['day']==1], x = 'hour', y='cnt', color='g', linewidth=3)\n",
    "sns.lineplot(data = cnt_df[cnt_df['day']==19], x = 'hour', y='cnt', color='r', linewidth=3)\n",
    "plt.show()"
   ]
  },
  {
   "cell_type": "markdown",
   "metadata": {},
   "source": [
    "### 3. 인코딩까지 포함한 전처리 함수 정의\n",
    "- generate_ohe_df() : 이후 linear regression에 활용하기 위해 one-hot encoding\n",
    "- generate_le_df() : 이후 트리계열 알고리즘에 활용하기 위해 label encoding (속도 개선을 위해)"
   ]
  },
  {
   "cell_type": "code",
   "execution_count": 12,
   "metadata": {},
   "outputs": [],
   "source": [
    "def generate_ohe_df(df) :\n",
    "    df_copy = df.copy()\n",
    "    # target log transformation\n",
    "    df_copy['cnt'] = np.log1p(df_copy['cnt'])\n",
    "    # 이상치 제거\n",
    "    outlier_index = df_copy[(df_copy['day'] == 1)|(df_copy['day'] == 19)|\n",
    "                       (df_copy['day'] == 26)|(df_copy['day'] == 27)].index\n",
    "    df_copy.drop(index = outlier_index, inplace = True)\n",
    "    # 불필요한 feature 제거\n",
    "    df_copy.drop(['month', 'is_weekend', 'day'], axis = 1, inplace=True)\n",
    "    # feature 모두 one-hot encoding\n",
    "    df_copy = pd.get_dummies(df_copy, columns = ['zip_code', 'weekday', 'hour'])\n",
    "    return df_copy"
   ]
  },
  {
   "cell_type": "code",
   "execution_count": 13,
   "metadata": {},
   "outputs": [],
   "source": [
    "from sklearn.preprocessing import LabelEncoder\n",
    "def generate_le_df(df) :\n",
    "    df_copy = df.copy()\n",
    "    # target log transformation\n",
    "    df_copy['cnt'] = np.log1p(df_copy['cnt'])\n",
    "    # 이상치 제거\n",
    "    outlier_index = df_copy[(df_copy['day'] == 1)|(df_copy['day'] == 19)|\n",
    "                       (df_copy['day'] == 26)|(df_copy['day'] == 27)].index\n",
    "    df_copy.drop(index = outlier_index, inplace = True)\n",
    "    # 불필요한 feature 제거\n",
    "    df_copy.drop(['month', 'is_weekend', 'day'], axis = 1, inplace=True)\n",
    "    # feature 모두 one-hot encoding\n",
    "    le = LabelEncoder()\n",
    "    le.fit(df_copy['zip_code'])\n",
    "    df_copy['zip_code_le'] = le.transform(df_copy['zip_code'])\n",
    "    df_copy.drop('zip_code', axis=1, inplace=True)\n",
    "    return df_copy"
   ]
  },
  {
   "cell_type": "markdown",
   "metadata": {
    "id": "neCzwifObSbi"
   },
   "source": [
    "### Train and Test Split\n",
    "- 시계열 데이터는 Random Sampling을 하면 안됨\n",
    "- Train엔 과거 데이터, Test엔 (과거 대비) 미래 데이터가 있어야 함\n",
    "    - 만약 Train에 미래 데이터가 있다면? 미래를 보고 과거를 예측한 꼴\n",
    "    - 실제로 사용할 땐 과거 데이터 기반으로 미래 데이터를 예측"
   ]
  },
  {
   "cell_type": "code",
   "execution_count": 14,
   "metadata": {
    "id": "xe6DFgtqbSbi"
   },
   "outputs": [],
   "source": [
    "def split_train_and_test(df, date):\n",
    "    #date : 기준점 날짜\n",
    "    train_df = df[df['pickup_hour'] < date]\n",
    "    test_df = df[df['pickup_hour'] >= date]\n",
    "    return train_df, test_df"
   ]
  },
  {
   "cell_type": "code",
   "execution_count": 15,
   "metadata": {},
   "outputs": [],
   "source": [
    "le_df = generate_le_df(df)\n",
    "train_df, test_df = split_train_and_test(le_df, '2015-01-24')"
   ]
  },
  {
   "cell_type": "code",
   "execution_count": 16,
   "metadata": {
    "id": "CPGfPq0kbSbj"
   },
   "outputs": [],
   "source": [
    "del train_df['pickup_hour']\n",
    "del test_df['pickup_hour']"
   ]
  },
  {
   "cell_type": "code",
   "execution_count": 17,
   "metadata": {
    "id": "Ncy2VchFbSbj"
   },
   "outputs": [],
   "source": [
    "x_train = train_df.drop('cnt', axis=1)\n",
    "y_train = train_df['cnt']\n",
    "\n",
    "x_test = test_df.drop('cnt', axis=1)\n",
    "y_test = test_df['cnt'] "
   ]
  },
  {
   "cell_type": "code",
   "execution_count": 18,
   "metadata": {},
   "outputs": [
    {
     "name": "stdout",
     "output_type": "stream",
     "text": [
      "Train dataset 크기: (57203, 3)\n",
      "Test dataset 크기: (16677, 3)\n"
     ]
    }
   ],
   "source": [
    "print(\"Train dataset 크기:\", x_train.shape)\n",
    "print(\"Test dataset 크기:\", x_test.shape)"
   ]
  },
  {
   "cell_type": "markdown",
   "metadata": {},
   "source": [
    "## 모델링\n",
    ": Tree 계열 RandomForest, XGBoost와 LinearRegression 활용"
   ]
  },
  {
   "cell_type": "code",
   "execution_count": 19,
   "metadata": {},
   "outputs": [],
   "source": [
    "import random\n",
    "random_seed = 777"
   ]
  },
  {
   "cell_type": "code",
   "execution_count": 20,
   "metadata": {},
   "outputs": [],
   "source": [
    "from sklearn.metrics import mean_squared_error, r2_score, mean_absolute_percentage_error, make_scorer\n",
    "from sklearn.model_selection import GridSearchCV, KFold"
   ]
  },
  {
   "cell_type": "markdown",
   "metadata": {},
   "source": [
    "#### 함수 정의\n",
    "- regression_evaluation() : 모델을 통해 예측을 진행하고 RMSE, MAPE, r2_score 평가지표를 반환\n",
    "- get_best_params() : 입력한 파라미터들에 대해 GridSearchCV를 진행하고 최적 파라미터와 그 점수를 출력, 최적 학습기를 반환 \n",
    "- cross_validation() : KFOLD 교차검증을 진행하고 검증할 때 regression_evaluation() 함수를 호출해 평가지표를 Dataframe으로 만들어 반환"
   ]
  },
  {
   "cell_type": "code",
   "execution_count": 21,
   "metadata": {},
   "outputs": [],
   "source": [
    "# 회귀 성능평가지표 반환 (RMSE, MAPE, R2_SCORE)\n",
    "def regression_evaluation(model, x_test, y_test) :\n",
    "    preds = model.predict(x_test)\n",
    "    \n",
    "    y_test = np.expm1(y_test)\n",
    "    preds = np.expm1(preds)\n",
    "    \n",
    "    rmse = round(np.sqrt(mean_squared_error(y_test, preds)),4)\n",
    "    mape = round(mean_absolute_percentage_error(y_test, preds),4)\n",
    "    r2 = round(r2_score(y_test, preds),4)\n",
    "\n",
    "    return rmse, mape, r2"
   ]
  },
  {
   "cell_type": "code",
   "execution_count": 22,
   "metadata": {},
   "outputs": [],
   "source": [
    "# GridSearchCV를 통한 하이퍼 파라미터 튜닝\n",
    "def get_best_params(model, params):\n",
    "    grid_model = GridSearchCV(model, param_grid=params, \n",
    "                              scoring = 'neg_mean_squared_error', cv=3)\n",
    "    grid_model.fit(x_train, y_train)\n",
    "    rmse = np.sqrt(-1 * grid_model.best_score_)\n",
    "    print('{0} 최적 params : {1}'.format(model.__class__.__name__, grid_model.best_params_))\n",
    "    return grid_model.best_estimator_"
   ]
  },
  {
   "cell_type": "code",
   "execution_count": 23,
   "metadata": {},
   "outputs": [],
   "source": [
    "# KFOLD 교차 검증을 통해 각 검증의 평가지표 값 출력\n",
    "def cross_validation(model, features, label, k=5) :\n",
    "    n_iter = 0\n",
    "    kfold = KFold(n_splits=k)\n",
    "    eval_list = []\n",
    "    # KFold객체의 split( ) 호출하면 폴드 별 학습용, 검증용 테스트의 로우 인덱스를 array로 반환\n",
    "    for train_index, test_index in kfold.split(features):\n",
    "        X_train, X_test = features.iloc[train_index], features.iloc[test_index]\n",
    "        y_train, y_test = label.iloc[train_index], label.iloc[test_index]\n",
    "        # 학습 및 예측 \n",
    "        model.fit(X_train , y_train)\n",
    "        rmse, mape, r2 = regression_evaluation(model, X_test, y_test)\n",
    "        eval_list.append((rmse, mape, r2))\n",
    "        n_iter += 1\n",
    "        \n",
    "    eval_df = pd.DataFrame(eval_list, columns = ['RMSE', 'MAPE', 'R2'])\n",
    "    return eval_df"
   ]
  },
  {
   "cell_type": "markdown",
   "metadata": {},
   "source": [
    "### 1. RandomForestRegressor"
   ]
  },
  {
   "cell_type": "code",
   "execution_count": 24,
   "metadata": {},
   "outputs": [],
   "source": [
    "# 랜덤포레스트 base model 생성\n",
    "from sklearn.ensemble import RandomForestRegressor\n",
    "rf_reg = RandomForestRegressor(n_estimators=100, random_state=random_seed) "
   ]
  },
  {
   "cell_type": "code",
   "execution_count": 25,
   "metadata": {
    "scrolled": false
   },
   "outputs": [
    {
     "data": {
      "text/html": [
       "<div>\n",
       "<style scoped>\n",
       "    .dataframe tbody tr th:only-of-type {\n",
       "        vertical-align: middle;\n",
       "    }\n",
       "\n",
       "    .dataframe tbody tr th {\n",
       "        vertical-align: top;\n",
       "    }\n",
       "\n",
       "    .dataframe thead th {\n",
       "        text-align: right;\n",
       "    }\n",
       "</style>\n",
       "<table border=\"1\" class=\"dataframe\">\n",
       "  <thead>\n",
       "    <tr style=\"text-align: right;\">\n",
       "      <th></th>\n",
       "      <th>RMSE</th>\n",
       "      <th>MAPE</th>\n",
       "      <th>R2</th>\n",
       "    </tr>\n",
       "  </thead>\n",
       "  <tbody>\n",
       "    <tr>\n",
       "      <th>0</th>\n",
       "      <td>91.2875</td>\n",
       "      <td>0.5351</td>\n",
       "      <td>0.8781</td>\n",
       "    </tr>\n",
       "    <tr>\n",
       "      <th>1</th>\n",
       "      <td>43.5670</td>\n",
       "      <td>0.3516</td>\n",
       "      <td>0.9818</td>\n",
       "    </tr>\n",
       "    <tr>\n",
       "      <th>2</th>\n",
       "      <td>61.6500</td>\n",
       "      <td>0.3539</td>\n",
       "      <td>0.9655</td>\n",
       "    </tr>\n",
       "    <tr>\n",
       "      <th>3</th>\n",
       "      <td>53.5954</td>\n",
       "      <td>0.3432</td>\n",
       "      <td>0.9755</td>\n",
       "    </tr>\n",
       "    <tr>\n",
       "      <th>4</th>\n",
       "      <td>44.3780</td>\n",
       "      <td>0.3520</td>\n",
       "      <td>0.9817</td>\n",
       "    </tr>\n",
       "  </tbody>\n",
       "</table>\n",
       "</div>"
      ],
      "text/plain": [
       "      RMSE    MAPE      R2\n",
       "0  91.2875  0.5351  0.8781\n",
       "1  43.5670  0.3516  0.9818\n",
       "2  61.6500  0.3539  0.9655\n",
       "3  53.5954  0.3432  0.9755\n",
       "4  44.3780  0.3520  0.9817"
      ]
     },
     "execution_count": 25,
     "metadata": {},
     "output_type": "execute_result"
    }
   ],
   "source": [
    "# base model로 kfold 교차 검증 : \n",
    "cross_validation(rf_reg, x_train, y_train, k=5)"
   ]
  },
  {
   "cell_type": "code",
   "execution_count": 26,
   "metadata": {},
   "outputs": [
    {
     "name": "stdout",
     "output_type": "stream",
     "text": [
      "RandomForestRegressor 최적 params : {'max_depth': 30, 'min_samples_leaf': 3, 'min_samples_split': 8, 'n_estimators': 200}\n"
     ]
    }
   ],
   "source": [
    "params = {\n",
    "    'n_estimators': [100, 200],\n",
    "    'min_samples_leaf': [1, 2, 3],\n",
    "    'min_samples_split': [2, 5, 8],\n",
    "    'max_depth' : [30, 40, 50]\n",
    "}\n",
    "best_rf_reg = get_best_params(rf_reg, params = params)"
   ]
  },
  {
   "cell_type": "code",
   "execution_count": 27,
   "metadata": {
    "scrolled": true
   },
   "outputs": [
    {
     "name": "stdout",
     "output_type": "stream",
     "text": [
      "RMSE : 52.6536 MAPE : 0.3552 R2 : 0.9744\n"
     ]
    }
   ],
   "source": [
    "best_rf_reg.fit(x_train, y_train)\n",
    "rmse, mape, r2 = regression_evaluation(best_rf_reg, x_test, y_test)\n",
    "print('RMSE : {0} MAPE : {1} R2 : {2}'.format(rmse, mape, r2))"
   ]
  },
  {
   "cell_type": "markdown",
   "metadata": {},
   "source": [
    "### 2. XGBRegressor"
   ]
  },
  {
   "cell_type": "code",
   "execution_count": 28,
   "metadata": {},
   "outputs": [],
   "source": [
    "# XGBRegressor base model 생성\n",
    "from xgboost import XGBRegressor\n",
    "xgb_reg = XGBRegressor(n_estimators=1000, learning_rate=0.1, random_state = random_seed)"
   ]
  },
  {
   "cell_type": "code",
   "execution_count": 29,
   "metadata": {
    "scrolled": true
   },
   "outputs": [
    {
     "data": {
      "text/html": [
       "<div>\n",
       "<style scoped>\n",
       "    .dataframe tbody tr th:only-of-type {\n",
       "        vertical-align: middle;\n",
       "    }\n",
       "\n",
       "    .dataframe tbody tr th {\n",
       "        vertical-align: top;\n",
       "    }\n",
       "\n",
       "    .dataframe thead th {\n",
       "        text-align: right;\n",
       "    }\n",
       "</style>\n",
       "<table border=\"1\" class=\"dataframe\">\n",
       "  <thead>\n",
       "    <tr style=\"text-align: right;\">\n",
       "      <th></th>\n",
       "      <th>RMSE</th>\n",
       "      <th>MAPE</th>\n",
       "      <th>R2</th>\n",
       "    </tr>\n",
       "  </thead>\n",
       "  <tbody>\n",
       "    <tr>\n",
       "      <th>0</th>\n",
       "      <td>91.4896</td>\n",
       "      <td>0.5037</td>\n",
       "      <td>0.8775</td>\n",
       "    </tr>\n",
       "    <tr>\n",
       "      <th>1</th>\n",
       "      <td>45.6936</td>\n",
       "      <td>0.3286</td>\n",
       "      <td>0.9799</td>\n",
       "    </tr>\n",
       "    <tr>\n",
       "      <th>2</th>\n",
       "      <td>65.1396</td>\n",
       "      <td>0.3376</td>\n",
       "      <td>0.9615</td>\n",
       "    </tr>\n",
       "    <tr>\n",
       "      <th>3</th>\n",
       "      <td>55.7480</td>\n",
       "      <td>0.3303</td>\n",
       "      <td>0.9735</td>\n",
       "    </tr>\n",
       "    <tr>\n",
       "      <th>4</th>\n",
       "      <td>46.7384</td>\n",
       "      <td>0.3299</td>\n",
       "      <td>0.9797</td>\n",
       "    </tr>\n",
       "  </tbody>\n",
       "</table>\n",
       "</div>"
      ],
      "text/plain": [
       "      RMSE    MAPE      R2\n",
       "0  91.4896  0.5037  0.8775\n",
       "1  45.6936  0.3286  0.9799\n",
       "2  65.1396  0.3376  0.9615\n",
       "3  55.7480  0.3303  0.9735\n",
       "4  46.7384  0.3299  0.9797"
      ]
     },
     "execution_count": 29,
     "metadata": {},
     "output_type": "execute_result"
    }
   ],
   "source": [
    "# base model로 kfold 교차 검증\n",
    "cross_validation(xgb_reg, x_train, y_train, k=5)"
   ]
  },
  {
   "cell_type": "code",
   "execution_count": 30,
   "metadata": {},
   "outputs": [
    {
     "name": "stdout",
     "output_type": "stream",
     "text": [
      "XGBRegressor 최적 params : {'learning_rate': 0.2, 'max_depth': 5, 'n_estimators': 1000, 'subsample': 1, 'verbosity': 0}\n"
     ]
    }
   ],
   "source": [
    "params = {\n",
    "    'n_estimators' : [1000],\n",
    "    'verbosity' : [0],\n",
    "    'learning_rate' : [0.1, 0.2, 0.3],\n",
    "    'subsample' : [0.75, 1],\n",
    "    'max_depth' : [5, 7, 9]    \n",
    "}\n",
    "\n",
    "best_xgb_reg = get_best_params(xgb_reg, params)"
   ]
  },
  {
   "cell_type": "code",
   "execution_count": 31,
   "metadata": {
    "scrolled": true
   },
   "outputs": [
    {
     "name": "stdout",
     "output_type": "stream",
     "text": [
      "RMSE : 54.0619 MAPE : 0.3579 R2 : 0.973\n"
     ]
    }
   ],
   "source": [
    "best_xgb_reg.fit(x_train, y_train)\n",
    "rmse, mape, r2 = regression_evaluation(best_xgb_reg, x_test, y_test)\n",
    "print('RMSE : {0} MAPE : {1} R2 : {2}'.format(rmse, mape, r2))"
   ]
  },
  {
   "cell_type": "markdown",
   "metadata": {},
   "source": [
    "### 3. LinearRegression"
   ]
  },
  {
   "cell_type": "code",
   "execution_count": 32,
   "metadata": {},
   "outputs": [],
   "source": [
    "ohe_df = generate_ohe_df(df)\n",
    "train_df, test_df = split_train_and_test(ohe_df, '2015-01-24')"
   ]
  },
  {
   "cell_type": "code",
   "execution_count": 33,
   "metadata": {},
   "outputs": [],
   "source": [
    "del train_df['pickup_hour']\n",
    "del test_df['pickup_hour']"
   ]
  },
  {
   "cell_type": "code",
   "execution_count": 34,
   "metadata": {},
   "outputs": [],
   "source": [
    "x_train = train_df.drop('cnt', axis=1)\n",
    "y_train = train_df['cnt'] \n",
    "\n",
    "x_test = test_df.drop('cnt', axis=1)\n",
    "y_test = test_df['cnt'] "
   ]
  },
  {
   "cell_type": "code",
   "execution_count": 35,
   "metadata": {},
   "outputs": [],
   "source": [
    "from sklearn.linear_model import LinearRegression\n",
    "lr_reg = LinearRegression()"
   ]
  },
  {
   "cell_type": "code",
   "execution_count": 36,
   "metadata": {
    "scrolled": false
   },
   "outputs": [
    {
     "data": {
      "text/html": [
       "<div>\n",
       "<style scoped>\n",
       "    .dataframe tbody tr th:only-of-type {\n",
       "        vertical-align: middle;\n",
       "    }\n",
       "\n",
       "    .dataframe tbody tr th {\n",
       "        vertical-align: top;\n",
       "    }\n",
       "\n",
       "    .dataframe thead th {\n",
       "        text-align: right;\n",
       "    }\n",
       "</style>\n",
       "<table border=\"1\" class=\"dataframe\">\n",
       "  <thead>\n",
       "    <tr style=\"text-align: right;\">\n",
       "      <th></th>\n",
       "      <th>RMSE</th>\n",
       "      <th>MAPE</th>\n",
       "      <th>R2</th>\n",
       "    </tr>\n",
       "  </thead>\n",
       "  <tbody>\n",
       "    <tr>\n",
       "      <th>0</th>\n",
       "      <td>122.6269</td>\n",
       "      <td>1.0316</td>\n",
       "      <td>0.7800</td>\n",
       "    </tr>\n",
       "    <tr>\n",
       "      <th>1</th>\n",
       "      <td>147.6689</td>\n",
       "      <td>0.8360</td>\n",
       "      <td>0.7905</td>\n",
       "    </tr>\n",
       "    <tr>\n",
       "      <th>2</th>\n",
       "      <td>159.4988</td>\n",
       "      <td>0.8467</td>\n",
       "      <td>0.7693</td>\n",
       "    </tr>\n",
       "    <tr>\n",
       "      <th>3</th>\n",
       "      <td>166.2850</td>\n",
       "      <td>0.7953</td>\n",
       "      <td>0.7639</td>\n",
       "    </tr>\n",
       "    <tr>\n",
       "      <th>4</th>\n",
       "      <td>145.4414</td>\n",
       "      <td>0.8994</td>\n",
       "      <td>0.8036</td>\n",
       "    </tr>\n",
       "  </tbody>\n",
       "</table>\n",
       "</div>"
      ],
      "text/plain": [
       "       RMSE    MAPE      R2\n",
       "0  122.6269  1.0316  0.7800\n",
       "1  147.6689  0.8360  0.7905\n",
       "2  159.4988  0.8467  0.7693\n",
       "3  166.2850  0.7953  0.7639\n",
       "4  145.4414  0.8994  0.8036"
      ]
     },
     "execution_count": 36,
     "metadata": {},
     "output_type": "execute_result"
    }
   ],
   "source": [
    "cross_validation(lr_reg, x_train, y_train, k=5)"
   ]
  },
  {
   "cell_type": "code",
   "execution_count": 37,
   "metadata": {},
   "outputs": [
    {
     "name": "stdout",
     "output_type": "stream",
     "text": [
      "RMSE : 155.3914 MAPE : 0.863 R2 : 0.7767\n"
     ]
    }
   ],
   "source": [
    "lr_reg.fit(x_train, y_train)\n",
    "rmse, mape, r2 = regression_evaluation(lr_reg, x_test, y_test)\n",
    "print('RMSE : {0} MAPE : {1} R2 : {2}'.format(rmse, mape, r2))"
   ]
  }
 ],
 "metadata": {
  "colab": {
   "collapsed_sections": [],
   "name": "Session_06)_모델링_전처리.ipynb",
   "provenance": []
  },
  "kernelspec": {
   "display_name": "Python 3",
   "language": "python",
   "name": "python3"
  },
  "language_info": {
   "codemirror_mode": {
    "name": "ipython",
    "version": 3
   },
   "file_extension": ".py",
   "mimetype": "text/x-python",
   "name": "python",
   "nbconvert_exporter": "python",
   "pygments_lexer": "ipython3",
   "version": "3.8.8"
  }
 },
 "nbformat": 4,
 "nbformat_minor": 1
}
