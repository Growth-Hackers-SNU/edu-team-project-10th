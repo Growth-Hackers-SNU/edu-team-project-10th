{
 "cells": [
  {
   "cell_type": "code",
   "execution_count": 1,
   "id": "1a099554",
   "metadata": {},
   "outputs": [],
   "source": [
    "import numpy as np\n",
    "import pandas as pd\n",
    "import matplotlib.pyplot as plt\n",
    "from matplotlib import gridspec\n",
    "import seaborn as sns \n",
    "import time\n",
    "import sys\n",
    "\n",
    "import warnings\n",
    "warnings.filterwarnings('ignore')\n",
    "\n",
    "%matplotlib inline "
   ]
  },
  {
   "cell_type": "code",
   "execution_count": 2,
   "id": "160a788d",
   "metadata": {},
   "outputs": [],
   "source": [
    "import platform                \n",
    "\n",
    "from matplotlib import font_manager, rc\n",
    "plt.rcParams['axes.unicode_minus']= False\n",
    "\n",
    "if platform.system() == 'Windows':\n",
    "    path = 'c:/Windows/Fonts/malgun.ttf'\n",
    "    font_name = font_manager.FontProperties(fname=path).get_name()\n",
    "    plt.style.use('seaborn-darkgrid')\n",
    "    rc('font', family=font_name)"
   ]
  },
  {
   "cell_type": "markdown",
   "id": "148f1c10",
   "metadata": {},
   "source": [
    "### 1. 데이터 전처리"
   ]
  },
  {
   "cell_type": "code",
   "execution_count": 3,
   "id": "45a525e9",
   "metadata": {},
   "outputs": [],
   "source": [
    "df = pd.read_csv('NYC_taxi.csv')"
   ]
  },
  {
   "cell_type": "code",
   "execution_count": 4,
   "id": "f0f3a2f1",
   "metadata": {},
   "outputs": [],
   "source": [
    "df['zip_code'] = df['zip_code'].astype(str)\n",
    "df['day'] = df['pickup_hour'].str[:10]\n",
    "df.drop(['pickup_hour','month','is_weekend'], axis=1, inplace=True)"
   ]
  },
  {
   "cell_type": "markdown",
   "id": "c5ddcb20",
   "metadata": {},
   "source": [
    "#### 0,1,2,...로 되어있는 요일을 Mon,Tue,Wed,...로 바꿈"
   ]
  },
  {
   "cell_type": "code",
   "execution_count": 5,
   "id": "7d2fa6ab",
   "metadata": {},
   "outputs": [],
   "source": [
    "요일 = ['Mon','Tue','Wed','Thu','Fri','Sat','Sun']\n",
    "df['weekday'] = [요일[x] for x in df['weekday']]"
   ]
  },
  {
   "cell_type": "code",
   "execution_count": 6,
   "id": "5b800646",
   "metadata": {},
   "outputs": [
    {
     "data": {
      "text/html": [
       "<div>\n",
       "<style scoped>\n",
       "    .dataframe tbody tr th:only-of-type {\n",
       "        vertical-align: middle;\n",
       "    }\n",
       "\n",
       "    .dataframe tbody tr th {\n",
       "        vertical-align: top;\n",
       "    }\n",
       "\n",
       "    .dataframe thead th {\n",
       "        text-align: right;\n",
       "    }\n",
       "</style>\n",
       "<table border=\"1\" class=\"dataframe\">\n",
       "  <thead>\n",
       "    <tr style=\"text-align: right;\">\n",
       "      <th></th>\n",
       "      <th>zip_code</th>\n",
       "      <th>day</th>\n",
       "      <th>weekday</th>\n",
       "      <th>hour</th>\n",
       "      <th>cnt</th>\n",
       "    </tr>\n",
       "  </thead>\n",
       "  <tbody>\n",
       "    <tr>\n",
       "      <th>0</th>\n",
       "      <td>11106</td>\n",
       "      <td>2015-01-01</td>\n",
       "      <td>Thu</td>\n",
       "      <td>0</td>\n",
       "      <td>75</td>\n",
       "    </tr>\n",
       "    <tr>\n",
       "      <th>1</th>\n",
       "      <td>10006</td>\n",
       "      <td>2015-01-01</td>\n",
       "      <td>Thu</td>\n",
       "      <td>0</td>\n",
       "      <td>64</td>\n",
       "    </tr>\n",
       "    <tr>\n",
       "      <th>2</th>\n",
       "      <td>11201</td>\n",
       "      <td>2015-01-01</td>\n",
       "      <td>Thu</td>\n",
       "      <td>0</td>\n",
       "      <td>169</td>\n",
       "    </tr>\n",
       "    <tr>\n",
       "      <th>3</th>\n",
       "      <td>11430</td>\n",
       "      <td>2015-01-01</td>\n",
       "      <td>Thu</td>\n",
       "      <td>0</td>\n",
       "      <td>222</td>\n",
       "    </tr>\n",
       "    <tr>\n",
       "      <th>4</th>\n",
       "      <td>10032</td>\n",
       "      <td>2015-01-01</td>\n",
       "      <td>Thu</td>\n",
       "      <td>0</td>\n",
       "      <td>64</td>\n",
       "    </tr>\n",
       "    <tr>\n",
       "      <th>...</th>\n",
       "      <td>...</td>\n",
       "      <td>...</td>\n",
       "      <td>...</td>\n",
       "      <td>...</td>\n",
       "      <td>...</td>\n",
       "    </tr>\n",
       "    <tr>\n",
       "      <th>87015</th>\n",
       "      <td>11219</td>\n",
       "      <td>2015-01-31</td>\n",
       "      <td>Sat</td>\n",
       "      <td>23</td>\n",
       "      <td>1</td>\n",
       "    </tr>\n",
       "    <tr>\n",
       "      <th>87016</th>\n",
       "      <td>10456</td>\n",
       "      <td>2015-01-31</td>\n",
       "      <td>Sat</td>\n",
       "      <td>23</td>\n",
       "      <td>3</td>\n",
       "    </tr>\n",
       "    <tr>\n",
       "      <th>87017</th>\n",
       "      <td>11355</td>\n",
       "      <td>2015-01-31</td>\n",
       "      <td>Sat</td>\n",
       "      <td>23</td>\n",
       "      <td>1</td>\n",
       "    </tr>\n",
       "    <tr>\n",
       "      <th>87018</th>\n",
       "      <td>11210</td>\n",
       "      <td>2015-01-31</td>\n",
       "      <td>Sat</td>\n",
       "      <td>23</td>\n",
       "      <td>1</td>\n",
       "    </tr>\n",
       "    <tr>\n",
       "      <th>87019</th>\n",
       "      <td>10167</td>\n",
       "      <td>2015-01-31</td>\n",
       "      <td>Sat</td>\n",
       "      <td>23</td>\n",
       "      <td>1</td>\n",
       "    </tr>\n",
       "  </tbody>\n",
       "</table>\n",
       "<p>87020 rows × 5 columns</p>\n",
       "</div>"
      ],
      "text/plain": [
       "      zip_code         day weekday  hour  cnt\n",
       "0        11106  2015-01-01     Thu     0   75\n",
       "1        10006  2015-01-01     Thu     0   64\n",
       "2        11201  2015-01-01     Thu     0  169\n",
       "3        11430  2015-01-01     Thu     0  222\n",
       "4        10032  2015-01-01     Thu     0   64\n",
       "...        ...         ...     ...   ...  ...\n",
       "87015    11219  2015-01-31     Sat    23    1\n",
       "87016    10456  2015-01-31     Sat    23    3\n",
       "87017    11355  2015-01-31     Sat    23    1\n",
       "87018    11210  2015-01-31     Sat    23    1\n",
       "87019    10167  2015-01-31     Sat    23    1\n",
       "\n",
       "[87020 rows x 5 columns]"
      ]
     },
     "execution_count": 6,
     "metadata": {},
     "output_type": "execute_result"
    }
   ],
   "source": [
    "df"
   ]
  },
  {
   "cell_type": "markdown",
   "id": "c5f609c6",
   "metadata": {},
   "source": [
    "#### zip_code별로 일평균 택시 호출 수가 많은 지역 뽑기"
   ]
  },
  {
   "cell_type": "code",
   "execution_count": 7,
   "id": "9782c86b",
   "metadata": {},
   "outputs": [],
   "source": [
    "df2 = df.groupby(['zip_code'])['cnt'].sum().to_frame()\n",
    "df2.reset_index(inplace=True)\n",
    "df2['cnt'] = df2['cnt']/31\n",
    "df2.rename(columns={'cnt':'avg_cnt'}, inplace=True)\n",
    "df2.sort_values(by='avg_cnt', axis=0, ascending=False, inplace=True)\n",
    "df2 = df2.reset_index().drop('index',axis=1)"
   ]
  },
  {
   "cell_type": "code",
   "execution_count": 8,
   "id": "7c5dc051",
   "metadata": {},
   "outputs": [],
   "source": [
    "i = 25"
   ]
  },
  {
   "cell_type": "code",
   "execution_count": 9,
   "id": "59480c87",
   "metadata": {},
   "outputs": [],
   "source": [
    "zip_code = df2['zip_code'][:i]"
   ]
  },
  {
   "cell_type": "markdown",
   "id": "dc0ec261",
   "metadata": {},
   "source": [
    "#### 상위 25개의 데이터만 뽑아냄"
   ]
  },
  {
   "cell_type": "code",
   "execution_count": 10,
   "id": "604d10ea",
   "metadata": {},
   "outputs": [
    {
     "data": {
      "text/html": [
       "<div>\n",
       "<style scoped>\n",
       "    .dataframe tbody tr th:only-of-type {\n",
       "        vertical-align: middle;\n",
       "    }\n",
       "\n",
       "    .dataframe tbody tr th {\n",
       "        vertical-align: top;\n",
       "    }\n",
       "\n",
       "    .dataframe thead th {\n",
       "        text-align: right;\n",
       "    }\n",
       "</style>\n",
       "<table border=\"1\" class=\"dataframe\">\n",
       "  <thead>\n",
       "    <tr style=\"text-align: right;\">\n",
       "      <th></th>\n",
       "      <th>zip_code</th>\n",
       "      <th>day</th>\n",
       "      <th>weekday</th>\n",
       "      <th>hour</th>\n",
       "      <th>cnt</th>\n",
       "    </tr>\n",
       "  </thead>\n",
       "  <tbody>\n",
       "    <tr>\n",
       "      <th>0</th>\n",
       "      <td>11430</td>\n",
       "      <td>2015-01-01</td>\n",
       "      <td>Thu</td>\n",
       "      <td>0</td>\n",
       "      <td>222</td>\n",
       "    </tr>\n",
       "    <tr>\n",
       "      <th>1</th>\n",
       "      <td>11430</td>\n",
       "      <td>2015-01-01</td>\n",
       "      <td>Thu</td>\n",
       "      <td>1</td>\n",
       "      <td>119</td>\n",
       "    </tr>\n",
       "    <tr>\n",
       "      <th>2</th>\n",
       "      <td>11430</td>\n",
       "      <td>2015-01-01</td>\n",
       "      <td>Thu</td>\n",
       "      <td>2</td>\n",
       "      <td>10</td>\n",
       "    </tr>\n",
       "    <tr>\n",
       "      <th>3</th>\n",
       "      <td>11430</td>\n",
       "      <td>2015-01-01</td>\n",
       "      <td>Thu</td>\n",
       "      <td>3</td>\n",
       "      <td>22</td>\n",
       "    </tr>\n",
       "    <tr>\n",
       "      <th>4</th>\n",
       "      <td>11430</td>\n",
       "      <td>2015-01-01</td>\n",
       "      <td>Thu</td>\n",
       "      <td>4</td>\n",
       "      <td>25</td>\n",
       "    </tr>\n",
       "    <tr>\n",
       "      <th>...</th>\n",
       "      <td>...</td>\n",
       "      <td>...</td>\n",
       "      <td>...</td>\n",
       "      <td>...</td>\n",
       "      <td>...</td>\n",
       "    </tr>\n",
       "    <tr>\n",
       "      <th>18506</th>\n",
       "      <td>10003</td>\n",
       "      <td>2015-01-31</td>\n",
       "      <td>Sat</td>\n",
       "      <td>19</td>\n",
       "      <td>2177</td>\n",
       "    </tr>\n",
       "    <tr>\n",
       "      <th>18507</th>\n",
       "      <td>10003</td>\n",
       "      <td>2015-01-31</td>\n",
       "      <td>Sat</td>\n",
       "      <td>20</td>\n",
       "      <td>2114</td>\n",
       "    </tr>\n",
       "    <tr>\n",
       "      <th>18508</th>\n",
       "      <td>10003</td>\n",
       "      <td>2015-01-31</td>\n",
       "      <td>Sat</td>\n",
       "      <td>21</td>\n",
       "      <td>2326</td>\n",
       "    </tr>\n",
       "    <tr>\n",
       "      <th>18509</th>\n",
       "      <td>10003</td>\n",
       "      <td>2015-01-31</td>\n",
       "      <td>Sat</td>\n",
       "      <td>22</td>\n",
       "      <td>2441</td>\n",
       "    </tr>\n",
       "    <tr>\n",
       "      <th>18510</th>\n",
       "      <td>10003</td>\n",
       "      <td>2015-01-31</td>\n",
       "      <td>Sat</td>\n",
       "      <td>23</td>\n",
       "      <td>2543</td>\n",
       "    </tr>\n",
       "  </tbody>\n",
       "</table>\n",
       "<p>18511 rows × 5 columns</p>\n",
       "</div>"
      ],
      "text/plain": [
       "      zip_code         day weekday  hour   cnt\n",
       "0        11430  2015-01-01     Thu     0   222\n",
       "1        11430  2015-01-01     Thu     1   119\n",
       "2        11430  2015-01-01     Thu     2    10\n",
       "3        11430  2015-01-01     Thu     3    22\n",
       "4        11430  2015-01-01     Thu     4    25\n",
       "...        ...         ...     ...   ...   ...\n",
       "18506    10003  2015-01-31     Sat    19  2177\n",
       "18507    10003  2015-01-31     Sat    20  2114\n",
       "18508    10003  2015-01-31     Sat    21  2326\n",
       "18509    10003  2015-01-31     Sat    22  2441\n",
       "18510    10003  2015-01-31     Sat    23  2543\n",
       "\n",
       "[18511 rows x 5 columns]"
      ]
     },
     "execution_count": 10,
     "metadata": {},
     "output_type": "execute_result"
    }
   ],
   "source": [
    "df3 = pd.merge(df,zip_code,how='inner')\n",
    "df3"
   ]
  },
  {
   "cell_type": "markdown",
   "id": "130ccee8",
   "metadata": {},
   "source": [
    "#### zip_code A의 2015-01-xx일 xx시의 데이터가 없는 경우 cnt를 0으로 해서 채워줌\n",
    "> Question: 데이터가 없다고 해서 cnt가 0이 맞을까..?"
   ]
  },
  {
   "cell_type": "code",
   "execution_count": 11,
   "id": "9cb56420",
   "metadata": {},
   "outputs": [],
   "source": [
    "for x in zip_code:\n",
    "    zip_df = df3[df3['zip_code']==x]\n",
    "    \n",
    "    if len(zip_df) == 24*31:\n",
    "        continue\n",
    "    else:\n",
    "        for day in set(zip_df['day']):\n",
    "            zip_df2 = zip_df[zip_df['day']==day]\n",
    "            \n",
    "            if len(zip_df2) == 24:\n",
    "                continue\n",
    "            else:\n",
    "                for i in range(0,24):\n",
    "                    if i not in set(zip_df2['hour']):\n",
    "                        new_row = {'zip_code' : x,\n",
    "                                   'day' : day,\n",
    "                                   'weekday' : str(set(zip_df2['weekday']))[2:-2],\n",
    "                                   'hour' : i,\n",
    "                                   'cnt' : 0}\n",
    "                        df3 = df3.append(new_row, ignore_index=True)"
   ]
  },
  {
   "cell_type": "code",
   "execution_count": 12,
   "id": "7f06025e",
   "metadata": {},
   "outputs": [],
   "source": [
    "df3.sort_values(by=['zip_code','day'], axis=0, ascending=True, inplace=True)\n",
    "df3.reset_index(inplace=True)\n",
    "df3.drop('index',axis=1,inplace=True)"
   ]
  },
  {
   "cell_type": "code",
   "execution_count": 13,
   "id": "11e7bf8e",
   "metadata": {},
   "outputs": [
    {
     "data": {
      "text/html": [
       "<div>\n",
       "<style scoped>\n",
       "    .dataframe tbody tr th:only-of-type {\n",
       "        vertical-align: middle;\n",
       "    }\n",
       "\n",
       "    .dataframe tbody tr th {\n",
       "        vertical-align: top;\n",
       "    }\n",
       "\n",
       "    .dataframe thead th {\n",
       "        text-align: right;\n",
       "    }\n",
       "</style>\n",
       "<table border=\"1\" class=\"dataframe\">\n",
       "  <thead>\n",
       "    <tr style=\"text-align: right;\">\n",
       "      <th></th>\n",
       "      <th>zip_code</th>\n",
       "      <th>day</th>\n",
       "      <th>weekday</th>\n",
       "      <th>hour</th>\n",
       "      <th>cnt</th>\n",
       "    </tr>\n",
       "  </thead>\n",
       "  <tbody>\n",
       "    <tr>\n",
       "      <th>0</th>\n",
       "      <td>10001</td>\n",
       "      <td>2015-01-01</td>\n",
       "      <td>Thu</td>\n",
       "      <td>0</td>\n",
       "      <td>1221</td>\n",
       "    </tr>\n",
       "    <tr>\n",
       "      <th>1</th>\n",
       "      <td>10001</td>\n",
       "      <td>2015-01-01</td>\n",
       "      <td>Thu</td>\n",
       "      <td>1</td>\n",
       "      <td>1151</td>\n",
       "    </tr>\n",
       "    <tr>\n",
       "      <th>2</th>\n",
       "      <td>10001</td>\n",
       "      <td>2015-01-01</td>\n",
       "      <td>Thu</td>\n",
       "      <td>2</td>\n",
       "      <td>939</td>\n",
       "    </tr>\n",
       "    <tr>\n",
       "      <th>3</th>\n",
       "      <td>10001</td>\n",
       "      <td>2015-01-01</td>\n",
       "      <td>Thu</td>\n",
       "      <td>3</td>\n",
       "      <td>997</td>\n",
       "    </tr>\n",
       "    <tr>\n",
       "      <th>4</th>\n",
       "      <td>10001</td>\n",
       "      <td>2015-01-01</td>\n",
       "      <td>Thu</td>\n",
       "      <td>4</td>\n",
       "      <td>794</td>\n",
       "    </tr>\n",
       "    <tr>\n",
       "      <th>...</th>\n",
       "      <td>...</td>\n",
       "      <td>...</td>\n",
       "      <td>...</td>\n",
       "      <td>...</td>\n",
       "      <td>...</td>\n",
       "    </tr>\n",
       "    <tr>\n",
       "      <th>18595</th>\n",
       "      <td>11430</td>\n",
       "      <td>2015-01-31</td>\n",
       "      <td>Sat</td>\n",
       "      <td>19</td>\n",
       "      <td>440</td>\n",
       "    </tr>\n",
       "    <tr>\n",
       "      <th>18596</th>\n",
       "      <td>11430</td>\n",
       "      <td>2015-01-31</td>\n",
       "      <td>Sat</td>\n",
       "      <td>20</td>\n",
       "      <td>461</td>\n",
       "    </tr>\n",
       "    <tr>\n",
       "      <th>18597</th>\n",
       "      <td>11430</td>\n",
       "      <td>2015-01-31</td>\n",
       "      <td>Sat</td>\n",
       "      <td>21</td>\n",
       "      <td>349</td>\n",
       "    </tr>\n",
       "    <tr>\n",
       "      <th>18598</th>\n",
       "      <td>11430</td>\n",
       "      <td>2015-01-31</td>\n",
       "      <td>Sat</td>\n",
       "      <td>22</td>\n",
       "      <td>398</td>\n",
       "    </tr>\n",
       "    <tr>\n",
       "      <th>18599</th>\n",
       "      <td>11430</td>\n",
       "      <td>2015-01-31</td>\n",
       "      <td>Sat</td>\n",
       "      <td>23</td>\n",
       "      <td>246</td>\n",
       "    </tr>\n",
       "  </tbody>\n",
       "</table>\n",
       "<p>18600 rows × 5 columns</p>\n",
       "</div>"
      ],
      "text/plain": [
       "      zip_code         day weekday  hour   cnt\n",
       "0        10001  2015-01-01     Thu     0  1221\n",
       "1        10001  2015-01-01     Thu     1  1151\n",
       "2        10001  2015-01-01     Thu     2   939\n",
       "3        10001  2015-01-01     Thu     3   997\n",
       "4        10001  2015-01-01     Thu     4   794\n",
       "...        ...         ...     ...   ...   ...\n",
       "18595    11430  2015-01-31     Sat    19   440\n",
       "18596    11430  2015-01-31     Sat    20   461\n",
       "18597    11430  2015-01-31     Sat    21   349\n",
       "18598    11430  2015-01-31     Sat    22   398\n",
       "18599    11430  2015-01-31     Sat    23   246\n",
       "\n",
       "[18600 rows x 5 columns]"
      ]
     },
     "execution_count": 13,
     "metadata": {},
     "output_type": "execute_result"
    }
   ],
   "source": [
    "df3"
   ]
  },
  {
   "cell_type": "markdown",
   "id": "177ce01d",
   "metadata": {},
   "source": [
    "#### zip_code와 요일을 one hot encoding"
   ]
  },
  {
   "cell_type": "code",
   "execution_count": 14,
   "id": "06c53c6b",
   "metadata": {},
   "outputs": [
    {
     "data": {
      "text/html": [
       "<div>\n",
       "<style scoped>\n",
       "    .dataframe tbody tr th:only-of-type {\n",
       "        vertical-align: middle;\n",
       "    }\n",
       "\n",
       "    .dataframe tbody tr th {\n",
       "        vertical-align: top;\n",
       "    }\n",
       "\n",
       "    .dataframe thead th {\n",
       "        text-align: right;\n",
       "    }\n",
       "</style>\n",
       "<table border=\"1\" class=\"dataframe\">\n",
       "  <thead>\n",
       "    <tr style=\"text-align: right;\">\n",
       "      <th></th>\n",
       "      <th>day</th>\n",
       "      <th>hour</th>\n",
       "      <th>cnt</th>\n",
       "      <th>zip_code_10001</th>\n",
       "      <th>zip_code_10002</th>\n",
       "      <th>zip_code_10003</th>\n",
       "      <th>zip_code_10009</th>\n",
       "      <th>zip_code_10010</th>\n",
       "      <th>zip_code_10011</th>\n",
       "      <th>zip_code_10012</th>\n",
       "      <th>...</th>\n",
       "      <th>zip_code_10128</th>\n",
       "      <th>zip_code_11371</th>\n",
       "      <th>zip_code_11430</th>\n",
       "      <th>weekday_Fri</th>\n",
       "      <th>weekday_Mon</th>\n",
       "      <th>weekday_Sat</th>\n",
       "      <th>weekday_Sun</th>\n",
       "      <th>weekday_Thu</th>\n",
       "      <th>weekday_Tue</th>\n",
       "      <th>weekday_Wed</th>\n",
       "    </tr>\n",
       "  </thead>\n",
       "  <tbody>\n",
       "    <tr>\n",
       "      <th>0</th>\n",
       "      <td>2015-01-01</td>\n",
       "      <td>0</td>\n",
       "      <td>1221</td>\n",
       "      <td>1</td>\n",
       "      <td>0</td>\n",
       "      <td>0</td>\n",
       "      <td>0</td>\n",
       "      <td>0</td>\n",
       "      <td>0</td>\n",
       "      <td>0</td>\n",
       "      <td>...</td>\n",
       "      <td>0</td>\n",
       "      <td>0</td>\n",
       "      <td>0</td>\n",
       "      <td>0</td>\n",
       "      <td>0</td>\n",
       "      <td>0</td>\n",
       "      <td>0</td>\n",
       "      <td>1</td>\n",
       "      <td>0</td>\n",
       "      <td>0</td>\n",
       "    </tr>\n",
       "    <tr>\n",
       "      <th>1</th>\n",
       "      <td>2015-01-01</td>\n",
       "      <td>1</td>\n",
       "      <td>1151</td>\n",
       "      <td>1</td>\n",
       "      <td>0</td>\n",
       "      <td>0</td>\n",
       "      <td>0</td>\n",
       "      <td>0</td>\n",
       "      <td>0</td>\n",
       "      <td>0</td>\n",
       "      <td>...</td>\n",
       "      <td>0</td>\n",
       "      <td>0</td>\n",
       "      <td>0</td>\n",
       "      <td>0</td>\n",
       "      <td>0</td>\n",
       "      <td>0</td>\n",
       "      <td>0</td>\n",
       "      <td>1</td>\n",
       "      <td>0</td>\n",
       "      <td>0</td>\n",
       "    </tr>\n",
       "    <tr>\n",
       "      <th>2</th>\n",
       "      <td>2015-01-01</td>\n",
       "      <td>2</td>\n",
       "      <td>939</td>\n",
       "      <td>1</td>\n",
       "      <td>0</td>\n",
       "      <td>0</td>\n",
       "      <td>0</td>\n",
       "      <td>0</td>\n",
       "      <td>0</td>\n",
       "      <td>0</td>\n",
       "      <td>...</td>\n",
       "      <td>0</td>\n",
       "      <td>0</td>\n",
       "      <td>0</td>\n",
       "      <td>0</td>\n",
       "      <td>0</td>\n",
       "      <td>0</td>\n",
       "      <td>0</td>\n",
       "      <td>1</td>\n",
       "      <td>0</td>\n",
       "      <td>0</td>\n",
       "    </tr>\n",
       "    <tr>\n",
       "      <th>3</th>\n",
       "      <td>2015-01-01</td>\n",
       "      <td>3</td>\n",
       "      <td>997</td>\n",
       "      <td>1</td>\n",
       "      <td>0</td>\n",
       "      <td>0</td>\n",
       "      <td>0</td>\n",
       "      <td>0</td>\n",
       "      <td>0</td>\n",
       "      <td>0</td>\n",
       "      <td>...</td>\n",
       "      <td>0</td>\n",
       "      <td>0</td>\n",
       "      <td>0</td>\n",
       "      <td>0</td>\n",
       "      <td>0</td>\n",
       "      <td>0</td>\n",
       "      <td>0</td>\n",
       "      <td>1</td>\n",
       "      <td>0</td>\n",
       "      <td>0</td>\n",
       "    </tr>\n",
       "    <tr>\n",
       "      <th>4</th>\n",
       "      <td>2015-01-01</td>\n",
       "      <td>4</td>\n",
       "      <td>794</td>\n",
       "      <td>1</td>\n",
       "      <td>0</td>\n",
       "      <td>0</td>\n",
       "      <td>0</td>\n",
       "      <td>0</td>\n",
       "      <td>0</td>\n",
       "      <td>0</td>\n",
       "      <td>...</td>\n",
       "      <td>0</td>\n",
       "      <td>0</td>\n",
       "      <td>0</td>\n",
       "      <td>0</td>\n",
       "      <td>0</td>\n",
       "      <td>0</td>\n",
       "      <td>0</td>\n",
       "      <td>1</td>\n",
       "      <td>0</td>\n",
       "      <td>0</td>\n",
       "    </tr>\n",
       "    <tr>\n",
       "      <th>...</th>\n",
       "      <td>...</td>\n",
       "      <td>...</td>\n",
       "      <td>...</td>\n",
       "      <td>...</td>\n",
       "      <td>...</td>\n",
       "      <td>...</td>\n",
       "      <td>...</td>\n",
       "      <td>...</td>\n",
       "      <td>...</td>\n",
       "      <td>...</td>\n",
       "      <td>...</td>\n",
       "      <td>...</td>\n",
       "      <td>...</td>\n",
       "      <td>...</td>\n",
       "      <td>...</td>\n",
       "      <td>...</td>\n",
       "      <td>...</td>\n",
       "      <td>...</td>\n",
       "      <td>...</td>\n",
       "      <td>...</td>\n",
       "      <td>...</td>\n",
       "    </tr>\n",
       "    <tr>\n",
       "      <th>18595</th>\n",
       "      <td>2015-01-31</td>\n",
       "      <td>19</td>\n",
       "      <td>440</td>\n",
       "      <td>0</td>\n",
       "      <td>0</td>\n",
       "      <td>0</td>\n",
       "      <td>0</td>\n",
       "      <td>0</td>\n",
       "      <td>0</td>\n",
       "      <td>0</td>\n",
       "      <td>...</td>\n",
       "      <td>0</td>\n",
       "      <td>0</td>\n",
       "      <td>1</td>\n",
       "      <td>0</td>\n",
       "      <td>0</td>\n",
       "      <td>1</td>\n",
       "      <td>0</td>\n",
       "      <td>0</td>\n",
       "      <td>0</td>\n",
       "      <td>0</td>\n",
       "    </tr>\n",
       "    <tr>\n",
       "      <th>18596</th>\n",
       "      <td>2015-01-31</td>\n",
       "      <td>20</td>\n",
       "      <td>461</td>\n",
       "      <td>0</td>\n",
       "      <td>0</td>\n",
       "      <td>0</td>\n",
       "      <td>0</td>\n",
       "      <td>0</td>\n",
       "      <td>0</td>\n",
       "      <td>0</td>\n",
       "      <td>...</td>\n",
       "      <td>0</td>\n",
       "      <td>0</td>\n",
       "      <td>1</td>\n",
       "      <td>0</td>\n",
       "      <td>0</td>\n",
       "      <td>1</td>\n",
       "      <td>0</td>\n",
       "      <td>0</td>\n",
       "      <td>0</td>\n",
       "      <td>0</td>\n",
       "    </tr>\n",
       "    <tr>\n",
       "      <th>18597</th>\n",
       "      <td>2015-01-31</td>\n",
       "      <td>21</td>\n",
       "      <td>349</td>\n",
       "      <td>0</td>\n",
       "      <td>0</td>\n",
       "      <td>0</td>\n",
       "      <td>0</td>\n",
       "      <td>0</td>\n",
       "      <td>0</td>\n",
       "      <td>0</td>\n",
       "      <td>...</td>\n",
       "      <td>0</td>\n",
       "      <td>0</td>\n",
       "      <td>1</td>\n",
       "      <td>0</td>\n",
       "      <td>0</td>\n",
       "      <td>1</td>\n",
       "      <td>0</td>\n",
       "      <td>0</td>\n",
       "      <td>0</td>\n",
       "      <td>0</td>\n",
       "    </tr>\n",
       "    <tr>\n",
       "      <th>18598</th>\n",
       "      <td>2015-01-31</td>\n",
       "      <td>22</td>\n",
       "      <td>398</td>\n",
       "      <td>0</td>\n",
       "      <td>0</td>\n",
       "      <td>0</td>\n",
       "      <td>0</td>\n",
       "      <td>0</td>\n",
       "      <td>0</td>\n",
       "      <td>0</td>\n",
       "      <td>...</td>\n",
       "      <td>0</td>\n",
       "      <td>0</td>\n",
       "      <td>1</td>\n",
       "      <td>0</td>\n",
       "      <td>0</td>\n",
       "      <td>1</td>\n",
       "      <td>0</td>\n",
       "      <td>0</td>\n",
       "      <td>0</td>\n",
       "      <td>0</td>\n",
       "    </tr>\n",
       "    <tr>\n",
       "      <th>18599</th>\n",
       "      <td>2015-01-31</td>\n",
       "      <td>23</td>\n",
       "      <td>246</td>\n",
       "      <td>0</td>\n",
       "      <td>0</td>\n",
       "      <td>0</td>\n",
       "      <td>0</td>\n",
       "      <td>0</td>\n",
       "      <td>0</td>\n",
       "      <td>0</td>\n",
       "      <td>...</td>\n",
       "      <td>0</td>\n",
       "      <td>0</td>\n",
       "      <td>1</td>\n",
       "      <td>0</td>\n",
       "      <td>0</td>\n",
       "      <td>1</td>\n",
       "      <td>0</td>\n",
       "      <td>0</td>\n",
       "      <td>0</td>\n",
       "      <td>0</td>\n",
       "    </tr>\n",
       "  </tbody>\n",
       "</table>\n",
       "<p>18600 rows × 35 columns</p>\n",
       "</div>"
      ],
      "text/plain": [
       "              day  hour   cnt  zip_code_10001  zip_code_10002  zip_code_10003  \\\n",
       "0      2015-01-01     0  1221               1               0               0   \n",
       "1      2015-01-01     1  1151               1               0               0   \n",
       "2      2015-01-01     2   939               1               0               0   \n",
       "3      2015-01-01     3   997               1               0               0   \n",
       "4      2015-01-01     4   794               1               0               0   \n",
       "...           ...   ...   ...             ...             ...             ...   \n",
       "18595  2015-01-31    19   440               0               0               0   \n",
       "18596  2015-01-31    20   461               0               0               0   \n",
       "18597  2015-01-31    21   349               0               0               0   \n",
       "18598  2015-01-31    22   398               0               0               0   \n",
       "18599  2015-01-31    23   246               0               0               0   \n",
       "\n",
       "       zip_code_10009  zip_code_10010  zip_code_10011  zip_code_10012  ...  \\\n",
       "0                   0               0               0               0  ...   \n",
       "1                   0               0               0               0  ...   \n",
       "2                   0               0               0               0  ...   \n",
       "3                   0               0               0               0  ...   \n",
       "4                   0               0               0               0  ...   \n",
       "...               ...             ...             ...             ...  ...   \n",
       "18595               0               0               0               0  ...   \n",
       "18596               0               0               0               0  ...   \n",
       "18597               0               0               0               0  ...   \n",
       "18598               0               0               0               0  ...   \n",
       "18599               0               0               0               0  ...   \n",
       "\n",
       "       zip_code_10128  zip_code_11371  zip_code_11430  weekday_Fri  \\\n",
       "0                   0               0               0            0   \n",
       "1                   0               0               0            0   \n",
       "2                   0               0               0            0   \n",
       "3                   0               0               0            0   \n",
       "4                   0               0               0            0   \n",
       "...               ...             ...             ...          ...   \n",
       "18595               0               0               1            0   \n",
       "18596               0               0               1            0   \n",
       "18597               0               0               1            0   \n",
       "18598               0               0               1            0   \n",
       "18599               0               0               1            0   \n",
       "\n",
       "       weekday_Mon  weekday_Sat  weekday_Sun  weekday_Thu  weekday_Tue  \\\n",
       "0                0            0            0            1            0   \n",
       "1                0            0            0            1            0   \n",
       "2                0            0            0            1            0   \n",
       "3                0            0            0            1            0   \n",
       "4                0            0            0            1            0   \n",
       "...            ...          ...          ...          ...          ...   \n",
       "18595            0            1            0            0            0   \n",
       "18596            0            1            0            0            0   \n",
       "18597            0            1            0            0            0   \n",
       "18598            0            1            0            0            0   \n",
       "18599            0            1            0            0            0   \n",
       "\n",
       "       weekday_Wed  \n",
       "0                0  \n",
       "1                0  \n",
       "2                0  \n",
       "3                0  \n",
       "4                0  \n",
       "...            ...  \n",
       "18595            0  \n",
       "18596            0  \n",
       "18597            0  \n",
       "18598            0  \n",
       "18599            0  \n",
       "\n",
       "[18600 rows x 35 columns]"
      ]
     },
     "execution_count": 14,
     "metadata": {},
     "output_type": "execute_result"
    }
   ],
   "source": [
    "oh_feature_df = pd.get_dummies(df3, columns = ['zip_code','weekday'])\n",
    "oh_feature_df"
   ]
  },
  {
   "cell_type": "markdown",
   "id": "cd15346f",
   "metadata": {},
   "source": [
    "### 2. 데이터 분리"
   ]
  },
  {
   "cell_type": "markdown",
   "id": "d2fef4e0",
   "metadata": {},
   "source": [
    "#### 1~24일 데이터(train set)로 마지막 1주일치(test set) cnt 값 예측하기\n",
    "* 단, 26일과 27일은 test set에서 제외"
   ]
  },
  {
   "cell_type": "code",
   "execution_count": 15,
   "id": "ddd4d68b",
   "metadata": {},
   "outputs": [],
   "source": [
    "def split_train_and_test(df, date):\n",
    "    train_df = df[df['day'] <= date]\n",
    "    test_df = df[(df['day'] > date) &\n",
    "                 (df['day']!='2015-01-26') &\n",
    "                 (df['day']!='2015-01-27')]\n",
    "    return train_df, test_df\n",
    "\n",
    "train_df, test_df = split_train_and_test(oh_feature_df, '2015-01-24')"
   ]
  },
  {
   "cell_type": "code",
   "execution_count": 16,
   "id": "e1bbe32b",
   "metadata": {},
   "outputs": [],
   "source": [
    "# del train_df['zip_code']\n",
    "# del test_df['zip_code']\n",
    "del train_df['day']\n",
    "del test_df['day']\n",
    "# del train_df['weekday']\n",
    "# del test_df['weekday']\n",
    "\n",
    "y_train = train_df.pop('cnt')\n",
    "X_train = train_df.copy()\n",
    "\n",
    "y_test = test_df.pop('cnt')\n",
    "X_test = test_df.copy()"
   ]
  },
  {
   "cell_type": "markdown",
   "id": "47d5fc08",
   "metadata": {},
   "source": [
    "### 3. 모델링"
   ]
  },
  {
   "cell_type": "markdown",
   "id": "be76d55e",
   "metadata": {},
   "source": [
    "#### 3-1. XGBoost"
   ]
  },
  {
   "cell_type": "code",
   "execution_count": 17,
   "id": "a4fc4bc9",
   "metadata": {},
   "outputs": [],
   "source": [
    "import xgboost\n",
    "from xgboost import XGBRegressor\n",
    "from sklearn.metrics import explained_variance_score, mean_absolute_error, mean_squared_error, r2_score"
   ]
  },
  {
   "cell_type": "markdown",
   "id": "7dea28b0",
   "metadata": {},
   "source": [
    "* training"
   ]
  },
  {
   "cell_type": "code",
   "execution_count": 18,
   "id": "a63c0783",
   "metadata": {},
   "outputs": [
    {
     "name": "stdout",
     "output_type": "stream",
     "text": [
      "걸린시간은 0.46초입니다.\n"
     ]
    }
   ],
   "source": [
    "xgb = XGBRegressor(random_state=42)\n",
    "t0 = time.time()\n",
    "xgb.fit(X_train, y_train)\n",
    "elapsed = time.time()-t0\n",
    "print(\"걸린시간은 {:.2f}초입니다.\".format(elapsed))"
   ]
  },
  {
   "cell_type": "markdown",
   "id": "6d74fb19",
   "metadata": {},
   "source": [
    "* Feature Importance"
   ]
  },
  {
   "cell_type": "code",
   "execution_count": 19,
   "id": "bb9c1c8c",
   "metadata": {},
   "outputs": [
    {
     "data": {
      "text/plain": [
       "<AxesSubplot:title={'center':'Feature importance'}, xlabel='F score', ylabel='Features'>"
      ]
     },
     "execution_count": 19,
     "metadata": {},
     "output_type": "execute_result"
    },
    {
     "data": {
      "image/png": "[encoded data removed]",
      "text/plain": [
       "<Figure size 432x288 with 1 Axes>"
      ]
     },
     "metadata": {},
     "output_type": "display_data"
    }
   ],
   "source": [
    "xgboost.plot_importance(xgb)"
   ]
  },
  {
   "cell_type": "markdown",
   "id": "809e4d2e",
   "metadata": {},
   "source": [
    "* Prediction\n",
    "> Question: 예측값이 음수가 나오는 경우도 있는데, 최소 예측값을 0으로 해도 괜찮겠지..?"
   ]
  },
  {
   "cell_type": "code",
   "execution_count": 20,
   "id": "cafef79b",
   "metadata": {},
   "outputs": [],
   "source": [
    "prediction_xgb = xgb.predict(X_test)\n",
    "prediction_xgb = [pred if pred>=0 else 0 for pred in prediction_xgb]"
   ]
  },
  {
   "cell_type": "markdown",
   "id": "a0b9ded4",
   "metadata": {},
   "source": [
    "* Scoring"
   ]
  },
  {
   "cell_type": "code",
   "execution_count": 21,
   "id": "fdb43020",
   "metadata": {},
   "outputs": [
    {
     "name": "stdout",
     "output_type": "stream",
     "text": [
      "training_r2_score: 0.9056710008261342\n",
      "\n",
      "<test_set_score>\n",
      "explained_variance_score: 0.9314377793062746\n",
      "mean_absolute_errors: 86.56354693255822\n",
      "mean_squared_errors: 14100.442717079322\n",
      "r2_score: 0.9298484335644069\n"
     ]
    }
   ],
   "source": [
    "print('training_r2_score: {}\\n'.format(xgb.score(X_train, y_train)))\n",
    "print('<test_set_score>')\n",
    "print('explained_variance_score: {}'.format(explained_variance_score(y_test, prediction_xgb)))\n",
    "print('mean_absolute_errors: {}'.format(mean_absolute_error(y_test, prediction_xgb)))\n",
    "print('mean_squared_errors: {}'.format(mean_squared_error(y_test, prediction_xgb)))\n",
    "print('r2_score: {}'.format(r2_score(y_test, prediction_xgb)))"
   ]
  },
  {
   "cell_type": "markdown",
   "id": "6da6d4c8",
   "metadata": {},
   "source": [
    "#### 3-2. ADA Boost"
   ]
  },
  {
   "cell_type": "code",
   "execution_count": 22,
   "id": "94939af0",
   "metadata": {},
   "outputs": [],
   "source": [
    "from sklearn.ensemble import AdaBoostRegressor\n",
    "from sklearn.tree import DecisionTreeRegressor"
   ]
  },
  {
   "cell_type": "markdown",
   "id": "716f9f6a",
   "metadata": {},
   "source": [
    "* training"
   ]
  },
  {
   "cell_type": "code",
   "execution_count": 23,
   "id": "a963c4e5",
   "metadata": {},
   "outputs": [
    {
     "name": "stdout",
     "output_type": "stream",
     "text": [
      "걸린시간은 0.86초입니다.\n"
     ]
    }
   ],
   "source": [
    "base_model = DecisionTreeRegressor(random_state=42)\n",
    "adab = AdaBoostRegressor(base_estimator=base_model, random_state=42)\n",
    "\n",
    "t0 = time.time()\n",
    "\n",
    "adab.fit(X_train, y_train)\n",
    "\n",
    "elapsed = time.time()-t0\n",
    "print(\"걸린시간은 {:.2f}초입니다.\".format(elapsed))"
   ]
  },
  {
   "cell_type": "code",
   "execution_count": 24,
   "id": "3ea440ad",
   "metadata": {},
   "outputs": [
    {
     "data": {
      "image/png": "[encoded data removed]",
      "text/plain": [
       "<Figure size 432x288 with 1 Axes>"
      ]
     },
     "metadata": {},
     "output_type": "display_data"
    }
   ],
   "source": [
    "featureImportance = adab.feature_importances_\n",
    "\n",
    "#가장 높은 중요도 기준으로 스케일링\n",
    "featureImportance = featureImportance/featureImportance.max()\n",
    "sorted_idx = np.argsort(featureImportance)\n",
    "barPos = np.arange(sorted_idx.shape[0])+.5\n",
    "plt.barh(barPos, featureImportance[sorted_idx], align='center')\n",
    "plt.yticks(barPos, X_train.columns[sorted_idx])\n",
    "plt.xlabel('Variable Importance')\n",
    "plt.show()"
   ]
  },
  {
   "cell_type": "markdown",
   "id": "d8611b83",
   "metadata": {},
   "source": [
    "* predicition"
   ]
  },
  {
   "cell_type": "code",
   "execution_count": 25,
   "id": "c6f1898e",
   "metadata": {},
   "outputs": [],
   "source": [
    "prediction_adab = adab.predict(X_test)\n",
    "prediction_adab = [pred if pred>=0 else 0 for pred in prediction_adab]"
   ]
  },
  {
   "cell_type": "markdown",
   "id": "5dda5643",
   "metadata": {},
   "source": [
    "* scoring"
   ]
  },
  {
   "cell_type": "code",
   "execution_count": 26,
   "id": "2158e9a8",
   "metadata": {},
   "outputs": [
    {
     "name": "stdout",
     "output_type": "stream",
     "text": [
      "training_r2_score: 0.9019277405337189\n",
      "\n",
      "<test_set_score>\n",
      "explained_variance_score: 0.9051565253851044\n",
      "mean_absolute_errors: 94.46648696720416\n",
      "mean_squared_errors: 19585.13841564621\n",
      "r2_score: 0.9025613474496581\n"
     ]
    }
   ],
   "source": [
    "print('training_r2_score: {}\\n'.format(adab.score(X_train, y_train)))\n",
    "print('<test_set_score>')\n",
    "print('explained_variance_score: {}'.format(explained_variance_score(y_test,prediction_adab)))\n",
    "print('mean_absolute_errors: {}'.format(mean_absolute_error(y_test, prediction_adab)))\n",
    "print('mean_squared_errors: {}'.format(mean_squared_error(y_test, prediction_adab)))\n",
    "print('r2_score: {}'.format(r2_score(y_test, prediction_adab)))"
   ]
  },
  {
   "cell_type": "markdown",
   "id": "275e1672",
   "metadata": {},
   "source": [
    "#### 3-3. Random Forest"
   ]
  },
  {
   "cell_type": "code",
   "execution_count": 27,
   "id": "371a0a94",
   "metadata": {},
   "outputs": [],
   "source": [
    "from sklearn.ensemble import RandomForestRegressor\n",
    "import matplotlib.pyplot as plot"
   ]
  },
  {
   "cell_type": "markdown",
   "id": "6e816949",
   "metadata": {},
   "source": [
    "* training"
   ]
  },
  {
   "cell_type": "code",
   "execution_count": 28,
   "id": "0f45fe7b",
   "metadata": {},
   "outputs": [
    {
     "name": "stdout",
     "output_type": "stream",
     "text": [
      "걸린시간은 3.15초입니다.\n"
     ]
    }
   ],
   "source": [
    "rf = RandomForestRegressor(random_state=42)\n",
    "\n",
    "t0 = time.time()\n",
    "\n",
    "rf.fit(X_train, y_train)\n",
    "\n",
    "elapsed = time.time()-t0\n",
    "print(\"걸린시간은 {:.2f}초입니다.\".format(elapsed))"
   ]
  },
  {
   "cell_type": "markdown",
   "id": "bfa0a6a2",
   "metadata": {},
   "source": [
    "* predicition"
   ]
  },
  {
   "cell_type": "code",
   "execution_count": 29,
   "id": "36c6dbb1",
   "metadata": {},
   "outputs": [],
   "source": [
    "prediction_rf = rf.predict(X_test)\n",
    "prediction_rf = [pred if pred>=0 else 0 for pred in prediction_rf]"
   ]
  },
  {
   "cell_type": "markdown",
   "id": "0f8e9e70",
   "metadata": {},
   "source": [
    "* Feature Importance"
   ]
  },
  {
   "cell_type": "code",
   "execution_count": 30,
   "id": "3224c4b7",
   "metadata": {},
   "outputs": [
    {
     "data": {
      "image/png": "[encoded data removed]",
      "text/plain": [
       "<Figure size 432x288 with 1 Axes>"
      ]
     },
     "metadata": {},
     "output_type": "display_data"
    }
   ],
   "source": [
    "featureImportance = rf.feature_importances_\n",
    "\n",
    "#가장 높은 중요도 기준으로 스케일링\n",
    "featureImportance = featureImportance/featureImportance.max()\n",
    "sorted_idx = np.argsort(featureImportance)\n",
    "barPos = np.arange(sorted_idx.shape[0])+.5\n",
    "plt.barh(barPos, featureImportance[sorted_idx], align='center')\n",
    "plt.yticks(barPos, X_train.columns[sorted_idx])\n",
    "plt.xlabel('Variable Importance')\n",
    "plt.show()"
   ]
  },
  {
   "cell_type": "markdown",
   "id": "f8c67856",
   "metadata": {},
   "source": [
    "* Scoring"
   ]
  },
  {
   "cell_type": "code",
   "execution_count": 31,
   "id": "04628fbe",
   "metadata": {},
   "outputs": [
    {
     "name": "stdout",
     "output_type": "stream",
     "text": [
      "training_r2_score: 0.912165426410249\n",
      "\n",
      "<test_set_score>\n",
      "explained_variance_score: 0.9370282856214597\n",
      "mean_absolute_errors: 81.27180360065398\n",
      "mean_squared_errors: 12990.715947169414\n",
      "r2_score: 0.9353694709379636\n"
     ]
    }
   ],
   "source": [
    "print('training_r2_score: {}\\n'.format(rf.score(X_train, y_train)))\n",
    "print('<test_set_score>')\n",
    "print('explained_variance_score: {}'.format(explained_variance_score(y_test,prediction_rf)))\n",
    "print('mean_absolute_errors: {}'.format(mean_absolute_error(y_test, prediction_rf)))\n",
    "print('mean_squared_errors: {}'.format(mean_squared_error(y_test, prediction_rf)))\n",
    "print('r2_score: {}'.format(r2_score(y_test, prediction_rf)))"
   ]
  },
  {
   "cell_type": "markdown",
   "id": "78ad3427",
   "metadata": {},
   "source": [
    "### 4. 모델에 따른 실제값과 예측값 비교 "
   ]
  },
  {
   "cell_type": "markdown",
   "id": "e63902af",
   "metadata": {},
   "source": [
    "#### 모델 선택"
   ]
  },
  {
   "cell_type": "code",
   "execution_count": 32,
   "id": "3445021c",
   "metadata": {},
   "outputs": [],
   "source": [
    "predictions = {'XGB':prediction_xgb, 'ADAB':prediction_adab, 'RF':prediction_rf}\n",
    "select = 'RF'"
   ]
  },
  {
   "cell_type": "code",
   "execution_count": 33,
   "id": "260cafca",
   "metadata": {},
   "outputs": [
    {
     "data": {
      "text/html": [
       "<div>\n",
       "<style scoped>\n",
       "    .dataframe tbody tr th:only-of-type {\n",
       "        vertical-align: middle;\n",
       "    }\n",
       "\n",
       "    .dataframe tbody tr th {\n",
       "        vertical-align: top;\n",
       "    }\n",
       "\n",
       "    .dataframe thead th {\n",
       "        text-align: right;\n",
       "    }\n",
       "</style>\n",
       "<table border=\"1\" class=\"dataframe\">\n",
       "  <thead>\n",
       "    <tr style=\"text-align: right;\">\n",
       "      <th></th>\n",
       "      <th>zip_code</th>\n",
       "      <th>weekday</th>\n",
       "      <th>day</th>\n",
       "      <th>hour</th>\n",
       "      <th>cnt</th>\n",
       "      <th>predict</th>\n",
       "    </tr>\n",
       "  </thead>\n",
       "  <tbody>\n",
       "    <tr>\n",
       "      <th>0</th>\n",
       "      <td>10001</td>\n",
       "      <td>Sun</td>\n",
       "      <td>2015-01-25</td>\n",
       "      <td>0</td>\n",
       "      <td>1171</td>\n",
       "      <td>1124.278143</td>\n",
       "    </tr>\n",
       "    <tr>\n",
       "      <th>1</th>\n",
       "      <td>10001</td>\n",
       "      <td>Sun</td>\n",
       "      <td>2015-01-25</td>\n",
       "      <td>1</td>\n",
       "      <td>1082</td>\n",
       "      <td>1028.757679</td>\n",
       "    </tr>\n",
       "    <tr>\n",
       "      <th>2</th>\n",
       "      <td>10001</td>\n",
       "      <td>Sun</td>\n",
       "      <td>2015-01-25</td>\n",
       "      <td>2</td>\n",
       "      <td>938</td>\n",
       "      <td>855.240762</td>\n",
       "    </tr>\n",
       "    <tr>\n",
       "      <th>3</th>\n",
       "      <td>10001</td>\n",
       "      <td>Sun</td>\n",
       "      <td>2015-01-25</td>\n",
       "      <td>3</td>\n",
       "      <td>736</td>\n",
       "      <td>710.328675</td>\n",
       "    </tr>\n",
       "    <tr>\n",
       "      <th>4</th>\n",
       "      <td>10001</td>\n",
       "      <td>Sun</td>\n",
       "      <td>2015-01-25</td>\n",
       "      <td>4</td>\n",
       "      <td>494</td>\n",
       "      <td>449.663512</td>\n",
       "    </tr>\n",
       "    <tr>\n",
       "      <th>...</th>\n",
       "      <td>...</td>\n",
       "      <td>...</td>\n",
       "      <td>...</td>\n",
       "      <td>...</td>\n",
       "      <td>...</td>\n",
       "      <td>...</td>\n",
       "    </tr>\n",
       "    <tr>\n",
       "      <th>2995</th>\n",
       "      <td>11430</td>\n",
       "      <td>Sat</td>\n",
       "      <td>2015-01-31</td>\n",
       "      <td>19</td>\n",
       "      <td>440</td>\n",
       "      <td>438.515540</td>\n",
       "    </tr>\n",
       "    <tr>\n",
       "      <th>2996</th>\n",
       "      <td>11430</td>\n",
       "      <td>Sat</td>\n",
       "      <td>2015-01-31</td>\n",
       "      <td>20</td>\n",
       "      <td>461</td>\n",
       "      <td>444.005373</td>\n",
       "    </tr>\n",
       "    <tr>\n",
       "      <th>2997</th>\n",
       "      <td>11430</td>\n",
       "      <td>Sat</td>\n",
       "      <td>2015-01-31</td>\n",
       "      <td>21</td>\n",
       "      <td>349</td>\n",
       "      <td>485.091168</td>\n",
       "    </tr>\n",
       "    <tr>\n",
       "      <th>2998</th>\n",
       "      <td>11430</td>\n",
       "      <td>Sat</td>\n",
       "      <td>2015-01-31</td>\n",
       "      <td>22</td>\n",
       "      <td>398</td>\n",
       "      <td>517.304893</td>\n",
       "    </tr>\n",
       "    <tr>\n",
       "      <th>2999</th>\n",
       "      <td>11430</td>\n",
       "      <td>Sat</td>\n",
       "      <td>2015-01-31</td>\n",
       "      <td>23</td>\n",
       "      <td>246</td>\n",
       "      <td>450.626583</td>\n",
       "    </tr>\n",
       "  </tbody>\n",
       "</table>\n",
       "<p>3000 rows × 6 columns</p>\n",
       "</div>"
      ],
      "text/plain": [
       "     zip_code weekday         day  hour   cnt      predict\n",
       "0       10001     Sun  2015-01-25     0  1171  1124.278143\n",
       "1       10001     Sun  2015-01-25     1  1082  1028.757679\n",
       "2       10001     Sun  2015-01-25     2   938   855.240762\n",
       "3       10001     Sun  2015-01-25     3   736   710.328675\n",
       "4       10001     Sun  2015-01-25     4   494   449.663512\n",
       "...       ...     ...         ...   ...   ...          ...\n",
       "2995    11430     Sat  2015-01-31    19   440   438.515540\n",
       "2996    11430     Sat  2015-01-31    20   461   444.005373\n",
       "2997    11430     Sat  2015-01-31    21   349   485.091168\n",
       "2998    11430     Sat  2015-01-31    22   398   517.304893\n",
       "2999    11430     Sat  2015-01-31    23   246   450.626583\n",
       "\n",
       "[3000 rows x 6 columns]"
      ]
     },
     "execution_count": 33,
     "metadata": {},
     "output_type": "execute_result"
    }
   ],
   "source": [
    "a, b = split_train_and_test(pd.concat([df3[['zip_code','weekday']],oh_feature_df],axis=1), '2015-01-24')\n",
    "df4 = b.iloc[:,:5]\n",
    "df4['predict'] = predictions[select]\n",
    "df4.sort_values(by=['zip_code','day'], axis=0, inplace=True)\n",
    "df4.reset_index(inplace=True)\n",
    "df4.drop('index',axis=1,inplace=True)\n",
    "df4"
   ]
  },
  {
   "cell_type": "markdown",
   "id": "19fca920",
   "metadata": {},
   "source": [
    "#### 원하는 zip_code의 실제값과 에측값의 그래프 보기"
   ]
  },
  {
   "cell_type": "code",
   "execution_count": 34,
   "id": "2e8f5f5b",
   "metadata": {},
   "outputs": [],
   "source": [
    "code = 10022"
   ]
  },
  {
   "cell_type": "code",
   "execution_count": 35,
   "id": "be58ec25",
   "metadata": {},
   "outputs": [],
   "source": [
    "start = 0\n",
    "for x in df4['zip_code']:\n",
    "    if x == str(code):\n",
    "        break\n",
    "    else:\n",
    "        start += 1\n",
    "\n",
    "lenth = len(df4[df4['zip_code']==str(code)])"
   ]
  },
  {
   "cell_type": "code",
   "execution_count": 36,
   "id": "44592f5a",
   "metadata": {},
   "outputs": [
    {
     "data": {
      "text/plain": [
       "<matplotlib.legend.Legend at 0x2dc6ba50a60>"
      ]
     },
     "execution_count": 36,
     "metadata": {},
     "output_type": "execute_result"
    },
    {
     "data": {
      "image/png": "[encoded data removed]",
      "text/plain": [
       "<Figure size 2016x720 with 1 Axes>"
      ]
     },
     "metadata": {},
     "output_type": "display_data"
    }
   ],
   "source": [
    "fig = plt.figure(figsize=(28, 10))\n",
    "chart = fig.add_subplot(1,1,1)\n",
    "chart.plot(df4['cnt'][start:start+lenth], marker='o', color='blue', label='real value')\n",
    "chart.plot(df4['predict'][start:start+lenth], marker='^', color='red', label='predict value')\n",
    "chart.set_title('<{}>'.format(select), fontsize=25)\n",
    "plt.xticks(df4.index[start:start+lenth], df4['hour'][start:start+lenth])\n",
    "plt.xlabel('Hour', fontsize=15)\n",
    "plt.ylabel('cnt', fontsize=15)\n",
    "plt.legend(loc='best') "
   ]
  },
  {
   "cell_type": "markdown",
   "id": "8a6636c3",
   "metadata": {},
   "source": [
    "### 5. Checkpoints (Consider more...)\n",
    "\n",
    "#### Choose Data\n",
    "* 모델의 데이터는 일평균 cnt가 많은 상위 25개 지역(zip_code)를 사용\n",
    "* 상위 25개 지역과 전체 지역 데이터의 시각화 결과가 거의 동일하게 나타났기에\n",
    "* 어차피 목적이 수요가 많은 곳에 공급을 많이 하기 위함 아닌가? 수요가 너무 적은 곳은 신경 별로 안쓸듯\n",
    "\n",
    "#### Input X variances\n",
    "* 결국 모델의 입력 변수는 zip_code, 요일, 시간임\n",
    "* 며칠(1일,2일,3일,...)을 쓰려면 1월만이 아닌 2월, 3월,...의 데이터가 필요할듯\n",
    "* 마찬가지로 몇월을 쓰려면 15년도만이 이전의 다른 년도 데이터가 필요\n",
    "* zip_code, 요일, 시간을 묶어본다면 어떨까?  \n",
    "    * zip_code를 county/borough별로, 요일을 주중/주말로, 시간을 심야/새벽/출근/오전/점심/오후/퇴근/밤 이런 식으로?\n",
    "    * 이러면 (무슨) 효과가 있을까?\n",
    "* 기상, 명절, 행사 등 어떤 이벤트가 있는지에 대한 데이터도 있으면 좋을듯\n",
    "    * 실시간 이벤트에 따른 예측값 변화 모델 가능..?\n",
    "\n",
    "#### Other useful variances?\n",
    "* 모델 예측 결과 A지역에 100개 수요 예측된다고 해서 진짜 딱 100개만 공급할거야?\n",
    "* B지역과 C지역 모두 100개 수요 예측되는데 인력이 부족해. 어느 곳에 더 공급?\n",
    "* 결국 돈을 더 많이 벌 수 있는 곳, 기사님들의 이동 루트 예상을 통한 효율적인 공급이 필요\n",
    "    * 이용시간, 지불요금\n",
    "    * 대기시간\n",
    "    * 도착지\n",
    "* 기대값과 확률에 의한 공급량 결정\n",
    "* 뭔 느낌인지는 알겠는데 좀 막연한 아이디어고, 구체적으로 모델 구현하려면 너무 어렵겠다...ㅎㅎ"
   ]
  },
  {
   "cell_type": "code",
   "execution_count": null,
   "id": "85dd97b5",
   "metadata": {},
   "outputs": [],
   "source": []
  }
 ],
 "metadata": {
  "kernelspec": {
   "display_name": "Python 3",
   "language": "python",
   "name": "python3"
  },
  "language_info": {
   "codemirror_mode": {
    "name": "ipython",
    "version": 3
   },
   "file_extension": ".py",
   "mimetype": "text/x-python",
   "name": "python",
   "nbconvert_exporter": "python",
   "pygments_lexer": "ipython3",
   "version": "3.8.8"
  }
 },
 "nbformat": 4,
 "nbformat_minor": 5
}
